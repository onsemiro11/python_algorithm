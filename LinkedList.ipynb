{
 "cells": [
  {
   "cell_type": "code",
   "execution_count": 66,
   "id": "8db04a96-cab3-4c56-9900-c1fde7605016",
   "metadata": {},
   "outputs": [],
   "source": [
    "#197 page\n",
    "\n",
    "class Node:\n",
    "    def __init__(self,elem, link=None):\n",
    "        self.data = elem\n",
    "        self.link = link\n"
   ]
  },
  {
   "cell_type": "code",
   "execution_count": 67,
   "id": "4859e585-68f8-4d91-b126-140baddc2031",
   "metadata": {},
   "outputs": [],
   "source": [
    "#stack 구조\n",
    "#top이 가리키는 것이 곧, 첫 node다.\n",
    "\n",
    "class LinkedStack():\n",
    "    def __init__(self):\n",
    "        self.top = None\n",
    "    def isEmpty(self): return self.top ==None\n",
    "    def clear(self): self.top = None\n",
    "    \n",
    "    def push(self, item):\n",
    "\n",
    "        n = Node(item,self.top) #(데이터, 다음을 가리키는 link)로 구성되어 있다.\n",
    "        #입력을 해주기 위해서는 제일 위에 있는 top을 지정하는 어떠한 node를 생성하고\n",
    "        self.top = n\n",
    "        #self.top을 방금 push한 node로 지정한다. 처음 지정한 노드는 none을 가리키게 될것이다.\n",
    "    def pop(self): #맨 위에 있는 것을 제거 한다.\n",
    "        if not self.isEmpty():\n",
    "            n = self.top # top이 가리키는 것이 n임을 정의한다.(아래에서 n,즉 삭제될 마지막 값을 활용하기 위함이다.)\n",
    "            self.top = n.link #top은 n이 가리키는 것(두번째 위치한 node)을 지정\n",
    "            return n.data #top이 원래 가리켰던 node의 data값을 반환\n",
    "        \n",
    "    def peek(self): #첫 node 값을 보여주기만 하는 함수\n",
    "        if not self.isEmpty():\n",
    "            return self.top.data #top이 현재 가리키는 node의 data값을 반환\n",
    "        \n",
    "    def size(self):\n",
    "        node = self.top\n",
    "        count = 0\n",
    "        while not node == None:\n",
    "            node = node.link\n",
    "            count += 1\n",
    "        return count\n",
    "    \n",
    "    def display(self,msg = 'LinkedStack '):\n",
    "        print(msg,end=': ')\n",
    "        node=self.top\n",
    "        while not node == None:\n",
    "            print(node.data,end =' ')\n",
    "            node = node.link #다음 노드로 이동한다.\n",
    "        print()"
   ]
  },
  {
   "cell_type": "code",
   "execution_count": 68,
   "id": "48b50237-8fc1-4894-9d7f-212f9db8f3c2",
   "metadata": {},
   "outputs": [],
   "source": [
    "odd = LinkedStack()\n",
    "even = LinkedStack()"
   ]
  },
  {
   "cell_type": "code",
   "execution_count": 54,
   "id": "ccd8ea88-5593-41e8-b0ea-0f54e0ed6eaa",
   "metadata": {},
   "outputs": [
    {
     "name": "stdout",
     "output_type": "stream",
     "text": [
      "LinkedStack : :2 0 2 0 \n",
      "LinkedStack : :9 7 5 3 1 \n",
      "reserve_stack::9 7 5 3 1 "
     ]
    }
   ],
   "source": [
    "#132 page\n",
    "\n",
    "for i in range(10):\n",
    "    if i%2 == 0: even.push(i)\n",
    "    else: \n",
    "        odd.push(i)\n",
    "for x in range(3):\n",
    "    even.pop()\n",
    "even.display()\n",
    "odd.display()\n",
    "odd.display_reserve()"
   ]
  },
  {
   "cell_type": "code",
   "execution_count": 267,
   "id": "44c187bc-a179-498f-894e-070b010c750a",
   "metadata": {},
   "outputs": [],
   "source": [
    "#203 page\n",
    "class LinkedList:\n",
    "    def __init__(self):\n",
    "        self.head = None\n",
    "        \n",
    "    def isEmpty(self): return self.head == None\n",
    "    def clear(self): self.head = None\n",
    "    def size(self):\n",
    "        n = self.head\n",
    "        count = 0\n",
    "        while not n == None:\n",
    "            n = n.link \n",
    "            count +=1\n",
    "        return count\n",
    "    \n",
    "    def display(self,msg = 'LinkedList :'):\n",
    "        n = self.head\n",
    "        print(msg,end='')\n",
    "        \n",
    "        while not n == None:\n",
    "            print(n.data,end=' ')\n",
    "            n = n.link\n",
    "        print()\n",
    "    \n",
    "    def display_reserve(self,msg = 'reserve :'):\n",
    "        \n",
    "        p = self.size()-1\n",
    "        while p >=0:\n",
    "            node = self.getNode(p)\n",
    "            print(node.data,end=' ')\n",
    "            p-=1\n",
    "\n",
    "    \n",
    "    def getNode(self,pos): #여기서 몇번째는 몇번 link를 타고 이동하는지를 말하는 것이다.\n",
    "        if pos <0: return None #pos값이 계속 감소하다가 0 이하가 되면 마지막 node라는 뜻이기 때문에 None을 반환한다.\n",
    "        node = self.head\n",
    "        while pos >0 and node != None:\n",
    "            node = node.link\n",
    "            pos -= 1\n",
    "        return node\n",
    "    \n",
    "    def getEntry(self,pos): #pos 위치에 있는 data 값을 출력하는 함수\n",
    "        node = self.getNode(pos)\n",
    "        if node == None: return None\n",
    "        else: return node.data\n",
    "\n",
    "    def replace(self,pos,elem): #pos 위치에 있는 data값만 바꿔주는 함수\n",
    "        node = self.getNode(pos)\n",
    "        if node != None: node.data = elem\n",
    "        \n",
    "    def find(self,data): #data값이 있는 위치를 찾아주는 함수\n",
    "        node = self.head #self.head로 초기값을 node로 시작하여\n",
    "        \n",
    "        while not node == None: #node 끝까지 link를 따라간다.\n",
    "            if node.data == data: #한 노드의 \n",
    "                return node\n",
    "            node = node.link\n",
    "        return None\n",
    "    \n",
    "    def insert(self,pos,elem):\n",
    "        before = self.getNode(pos-1) #삽입하고 싶은 pos위치의 전 node의 link를 다뤄야하기 때문에 before로 가져온다.\n",
    "        if before == None: #만약 삽입위치 전 node가 none이라면 즉, 비어있는 연결구조라면 head가 삽입 node를 가리키게 한다.\n",
    "            self.head = Node(elem, self.head)\n",
    "        else:\n",
    "            node = Node(elem, before.link) # 원래 존재하는 link를 복사해서 가져오고\n",
    "            before.link = node # 삽입!(before은 삽입할 node를 가리키도록 한다.)\n",
    "    def delete(self,pos):\n",
    "        before = self.getNode(pos-1)\n",
    "        if before == None:\n",
    "            if self.head is not None:\n",
    "                self.head = self.head.link\n",
    "                \n",
    "        elif before.link != None:\n",
    "            before.link = before.link.link\n",
    "    \n",
    "    def reserves(self):\n",
    "        p_head = self.head\n",
    "        q_prev = None\n",
    "        while p_head != None:\n",
    "            r_temp = q_prev\n",
    "            q_prev = p_head\n",
    "            p_head = p_head.link\n",
    "            q_prev.link = r_temp\n",
    "            print(q_prev.data)\n",
    "        return q_prev"
   ]
  },
  {
   "cell_type": "code",
   "execution_count": 268,
   "id": "a784ff1b-0625-4670-9511-3f2ae4ceb8d6",
   "metadata": {},
   "outputs": [
    {
     "name": "stdout",
     "output_type": "stream",
     "text": [
      "초기상태\n"
     ]
    }
   ],
   "source": [
    "s = LinkedList()\n",
    "s.display('초기상태')\n",
    "s.insert(0,10); s.insert(0,20); s.insert(1,30); s.insert(s.size(),40); s.insert(2,50)"
   ]
  },
  {
   "cell_type": "code",
   "execution_count": 269,
   "id": "f6feff5c-883f-4ff6-9128-371d201104a9",
   "metadata": {},
   "outputs": [
    {
     "name": "stdout",
     "output_type": "stream",
     "text": [
      "LinkedList :20 30 50 10 40 \n"
     ]
    }
   ],
   "source": [
    "s.display()"
   ]
  },
  {
   "cell_type": "code",
   "execution_count": 270,
   "id": "7d43ea7b-1148-4558-b676-37e2aaef3cb5",
   "metadata": {},
   "outputs": [
    {
     "name": "stdout",
     "output_type": "stream",
     "text": [
      "20\n",
      "30\n",
      "50\n",
      "10\n",
      "40\n"
     ]
    },
    {
     "data": {
      "text/plain": [
       "<__main__.Node at 0x10559a820>"
      ]
     },
     "execution_count": 270,
     "metadata": {},
     "output_type": "execute_result"
    }
   ],
   "source": [
    "s.reserves()"
   ]
  },
  {
   "cell_type": "code",
   "execution_count": 271,
   "id": "cb3d6e46-3834-476c-9308-ae361addcc10",
   "metadata": {},
   "outputs": [
    {
     "name": "stdout",
     "output_type": "stream",
     "text": [
      "LinkedList :20 \n"
     ]
    }
   ],
   "source": [
    "s.display()"
   ]
  },
  {
   "cell_type": "code",
   "execution_count": 226,
   "id": "903da86c-8d56-4cb9-a373-5dbf91598f4c",
   "metadata": {},
   "outputs": [
    {
     "name": "stdout",
     "output_type": "stream",
     "text": [
      "40 10 50 30 20 "
     ]
    }
   ],
   "source": [
    "s.display_reserve()"
   ]
  },
  {
   "cell_type": "code",
   "execution_count": 32,
   "id": "d602ada8-bec6-4ae6-8a1c-0cde873186b2",
   "metadata": {},
   "outputs": [
    {
     "data": {
      "text/plain": [
       "<bound method LinkedList.link_ of <__main__.LinkedList object at 0x1043d6070>>"
      ]
     },
     "execution_count": 32,
     "metadata": {},
     "output_type": "execute_result"
    }
   ],
   "source": [
    "s.link_"
   ]
  },
  {
   "cell_type": "code",
   "execution_count": 92,
   "id": "0a4fa056-9e65-41cf-be5f-20f3d9c18650",
   "metadata": {},
   "outputs": [
    {
     "data": {
      "text/plain": [
       "<__main__.Node at 0x104034f10>"
      ]
     },
     "execution_count": 92,
     "metadata": {},
     "output_type": "execute_result"
    }
   ],
   "source": [
    "s.find(40)"
   ]
  },
  {
   "cell_type": "code",
   "execution_count": 93,
   "id": "2f2be342-0267-4edc-a676-ae32ddee8a70",
   "metadata": {},
   "outputs": [],
   "source": [
    "s.clear()"
   ]
  },
  {
   "cell_type": "code",
   "execution_count": 94,
   "id": "84ab75f6-bf75-4030-b40e-c2c63274662e",
   "metadata": {},
   "outputs": [
    {
     "name": "stdout",
     "output_type": "stream",
     "text": [
      "LinkedList :\n"
     ]
    }
   ],
   "source": [
    "s.display()"
   ]
  },
  {
   "cell_type": "code",
   "execution_count": 110,
   "id": "7e17236b-b8d3-4d85-8e0e-d815e5043620",
   "metadata": {},
   "outputs": [],
   "source": [
    "#209 \n",
    "\n",
    "class CircularLinkedQueue:\n",
    "    def __init__(self):\n",
    "        self.tail = None #tail이 첫 시작점.\n",
    "    def isEmpty(self): return self.tail == None\n",
    "    def clear(self): self.tail = None\n",
    "    def peek(self): #peek함수는 빠져나와야 하는 위치의 값을 보여주는 함수\n",
    "        if not self.isEmpty():\n",
    "            return self.tail.link.data #tail이 가리키는 node가 가리키는(link) data값.(즉, 삭제되는 위치에 있는 값.)\n",
    "    \n",
    "    def enqueue(self,item): #추가 하는 함수\n",
    "        node = Node(item, None)\n",
    "        if self.isEmpty(): #첫 추가일 경우\n",
    "            node.link = node #원형이기 때문에, node의 link는 node를 가리킨다.\n",
    "            self.tail = node #tail은 생성된 node를 가리킨다.(위코드와 순서 상관없음)\n",
    "        else:\n",
    "            node.link = self.tail.link #위에서 생성한 node는 tail이 기리키는 node의 link를 받고\n",
    "            self.tail.link = node #기존 tail이 가리켰던 첫 node는 방금 삽입한 node를 가리킨다.\n",
    "            self.tail = node #그리고 tail는 방금 삽입한 node를 가리킨다.(위코드와 순서 상관없음)\n",
    "    \n",
    "    def dequeue(self): #삭제하는 함수\n",
    "        if not self.isEmpty():\n",
    "            data = self.tail.link.data  #반환하기 위해 data값만 빼두고 link만 생각해보자.\n",
    "            if self.tail.link == self.tail: #tail이 가리키는 첫 node가 가리키는 것이 tail이 가리키는 node라면\n",
    "                self.tail = None #현재 node를 제거하면 tail만 남아 있기 때문에 None 값을 부여\n",
    "            else: # 그렇지 않고 다른 것을 가리킨다면\n",
    "                self.tail.link = self.tail.link.link #tail이 가리키는 첫 node는 tail이 가리키는 첫node가 가리키는 node가 가리키는 것을 가리킨다.\n",
    "                \n",
    "            return data\n",
    "    def size(self):\n",
    "        if self.isEmpty(): return 0\n",
    "        else:\n",
    "            count = 1\n",
    "            node = self.tail.link\n",
    "            while not node == self.tail:\n",
    "                node = node.link\n",
    "                count += 1\n",
    "            return count\n",
    "    def display(self,msg = 'CircularLinkedQueue:'):\n",
    "        print(msg,end ='')\n",
    "        if not self.isEmpty():\n",
    "            node = self.tail.link\n",
    "            while not node == self.tail:\n",
    "                print(node.data,end=' ')\n",
    "                node = node.link\n",
    "            print(node.data,end='') #tail 출력\n",
    "        print()\n",
    "        "
   ]
  },
  {
   "cell_type": "code",
   "execution_count": 111,
   "id": "1b811491-8cb8-4a34-9e89-b2d1891497d8",
   "metadata": {},
   "outputs": [],
   "source": [
    "q = CircularLinkedQueue()"
   ]
  },
  {
   "cell_type": "code",
   "execution_count": 112,
   "id": "0d4a99fe-78b1-47d4-9d0a-f75865713d15",
   "metadata": {},
   "outputs": [],
   "source": [
    "for i in range(10):\n",
    "    q.enqueue(i)\n"
   ]
  },
  {
   "cell_type": "code",
   "execution_count": 113,
   "id": "8866d107-3283-4737-aa60-0e640651c4cf",
   "metadata": {},
   "outputs": [
    {
     "name": "stdout",
     "output_type": "stream",
     "text": [
      "CircularLinkedQueue:0 1 2 3 4 5 6 7 8 9\n"
     ]
    }
   ],
   "source": [
    "q.display()"
   ]
  },
  {
   "cell_type": "code",
   "execution_count": 276,
   "id": "f5e5579c-55b3-41b2-9f4d-bd9ce02e5b57",
   "metadata": {},
   "outputs": [
    {
     "ename": "TypeError",
     "evalue": "'NoneType' object is not subscriptable",
     "output_type": "error",
     "traceback": [
      "\u001b[0;31m---------------------------------------------------------------------------\u001b[0m",
      "\u001b[0;31mTypeError\u001b[0m                                 Traceback (most recent call last)",
      "\u001b[0;32m/var/folders/vw/b3c7dks943vccln0gj5lpks40000gn/T/ipykernel_17981/1451005238.py\u001b[0m in \u001b[0;36m<module>\u001b[0;34m\u001b[0m\n\u001b[1;32m      1\u001b[0m \u001b[0ml\u001b[0m \u001b[0;34m=\u001b[0m \u001b[0;34m[\u001b[0m\u001b[0;36m1\u001b[0m\u001b[0;34m,\u001b[0m\u001b[0;36m2\u001b[0m\u001b[0;34m,\u001b[0m\u001b[0;36m3\u001b[0m\u001b[0;34m,\u001b[0m\u001b[0;36m4\u001b[0m\u001b[0;34m,\u001b[0m\u001b[0;36m8\u001b[0m\u001b[0;34m,\u001b[0m\u001b[0;36m6\u001b[0m\u001b[0;34m,\u001b[0m\u001b[0;36m5\u001b[0m\u001b[0;34m]\u001b[0m\u001b[0;34m\u001b[0m\u001b[0;34m\u001b[0m\u001b[0m\n\u001b[0;32m----> 2\u001b[0;31m \u001b[0ml\u001b[0m\u001b[0;34m.\u001b[0m\u001b[0msort\u001b[0m\u001b[0;34m(\u001b[0m\u001b[0;34m)\u001b[0m\u001b[0;34m[\u001b[0m\u001b[0;34m-\u001b[0m\u001b[0;36m1\u001b[0m\u001b[0;34m]\u001b[0m\u001b[0;34m\u001b[0m\u001b[0;34m\u001b[0m\u001b[0m\n\u001b[0m",
      "\u001b[0;31mTypeError\u001b[0m: 'NoneType' object is not subscriptable"
     ]
    }
   ],
   "source": [
    "l = [1,2,3,4,8,6,5]\n",
    "l.sort()[-1]"
   ]
  },
  {
   "cell_type": "code",
   "execution_count": 273,
   "id": "34d90ff9-c2cc-46bf-a152-1835fc49e3f4",
   "metadata": {},
   "outputs": [
    {
     "data": {
      "text/plain": [
       "[1, 2, 3, 4, 5, 6, 8]"
      ]
     },
     "execution_count": 273,
     "metadata": {},
     "output_type": "execute_result"
    }
   ],
   "source": [
    "l"
   ]
  },
  {
   "cell_type": "code",
   "execution_count": 114,
   "id": "bf15c4f5-9c13-4180-838a-efb3efb8594e",
   "metadata": {},
   "outputs": [],
   "source": [
    "for _ in range(3):\n",
    "    q.dequeue()\n"
   ]
  },
  {
   "cell_type": "code",
   "execution_count": 115,
   "id": "e15c2c67-3914-4504-9473-25f2e1e3bb6c",
   "metadata": {},
   "outputs": [
    {
     "name": "stdout",
     "output_type": "stream",
     "text": [
      "CircularLinkedQueue:3 4 5 6 7 8 9\n"
     ]
    }
   ],
   "source": [
    "q.display()"
   ]
  },
  {
   "cell_type": "code",
   "execution_count": 116,
   "id": "369e64f3-300e-480a-8c9f-f34641f88f05",
   "metadata": {},
   "outputs": [
    {
     "data": {
      "text/plain": [
       "7"
      ]
     },
     "execution_count": 116,
     "metadata": {},
     "output_type": "execute_result"
    }
   ],
   "source": [
    "q.size()"
   ]
  },
  {
   "cell_type": "code",
   "execution_count": 117,
   "id": "1143c571-fdc3-439f-869a-3434d8b2138f",
   "metadata": {},
   "outputs": [
    {
     "data": {
      "text/plain": [
       "3"
      ]
     },
     "execution_count": 117,
     "metadata": {},
     "output_type": "execute_result"
    }
   ],
   "source": [
    "q.peek()"
   ]
  },
  {
   "cell_type": "code",
   "execution_count": 95,
   "id": "c2c637ba-332e-424e-8ed9-14727a7762f2",
   "metadata": {},
   "outputs": [],
   "source": [
    "#213p\n",
    "\n",
    "class DNode:\n",
    "    def __init__(self,elem,prev = None,next=None):\n",
    "        self.elem = elem\n",
    "        self.prev = prev\n",
    "        self.next = next\n",
    "        "
   ]
  },
  {
   "cell_type": "code",
   "execution_count": 127,
   "id": "c4547797-d97c-4b50-a060-7a0c777b787d",
   "metadata": {},
   "outputs": [],
   "source": [
    "class DoublyLinkedDeque:\n",
    "    def __init__(self):\n",
    "        self.front = None\n",
    "        self.rear = None\n",
    "    \n",
    "    def isEmpty(self): return self.front == None\n",
    "    def clear(self): self.front = self.rear = None\n",
    "    def size(self):\n",
    "        node = self.front\n",
    "        count = 0\n",
    "        \n",
    "        while not node == None:\n",
    "            node = node.next\n",
    "            count += 1\n",
    "        return count\n",
    "    \n",
    "    def display(self,msg = 'DLD'):\n",
    "        print(msg,end ='')\n",
    "        node = self.front\n",
    "        \n",
    "        while not node == None:\n",
    "            print(node.data, end=' ')\n",
    "            node = node.next\n",
    "            \n",
    "        print()\n",
    "        \n",
    "    def addFront(self,item): #front이기 때문에 prev가 None값인 node를 새로 만들어서 연결해주면된다.\n",
    "        node = DNode(item,None,self.front)\n",
    "        if self.isEmpty(): #텅 비어있다면\n",
    "            self.front = self.rear = node #생성한 node값은 front와 rear가 동시에 가리킨다.\n",
    "        else: #그렇지 않고 node가 존재한다면\n",
    "            self.front.prev = node #기존에 front가 가리켰던 노드의 prev link는 생성한 node를 가리키고\n",
    "            self.front = node #새로 생성하여 link된 node를 front가 가리킨다.\n",
    "    \n",
    "    def addRear(self, item): #rear이기 때문에 next가 None값인 node를 새로 만들어서 연결해주면된다.\n",
    "        node = DNode(item,self.rear,None)\n",
    "        if (self.isEmpty()): #텅 비어있다면\n",
    "            self.front = self.rear = node #생성한 node값은 front와 rear가 동시에 가리킨다.\n",
    "        else: #그렇지 않고 node가 존재한다면\n",
    "            self.rear.next =node #기존에 rear가 가리켰던 노드의 next link는 생성한 node를 가리키고\n",
    "            self.rear = node #새로 생성하여 link된 node를 rear가 가리킨다.\n",
    "            \n",
    "            \n",
    "    def deleteFront(self): #삭제는 삭제할 node만 빼고 다른 곳으로 link한다는 개념!\n",
    "        if not self.isEmpty():\n",
    "            data = self.front.data #front가 가리킨 가장 앞에 있는 node 데이터만 반환하기 위해 data로 할당.\n",
    "            self.front = self.front.next #front가 기존에 가리킨것보다 뒤쪽의 node를 가리키면, 맨 앞에 있는 node는 link가 끊겨 삭제된다.\n",
    "            if self.front == None: #만약 삭제되어 텅비어버렸다면\n",
    "                self.rear = None #rear도 비었다고 지정해준다.\n",
    "            else: #그렇지 않다면,\n",
    "                self.front.prev = None #front가 가리키는 node는 prev가 None이어야하기 때문에, None으로 바꿔준다.(원래는 방금지워진 node를 prev로 가리키고 있었을 것이다.)\n",
    "            return data\n",
    "        \n",
    "    def deleteRear(self): #삭제는 삭제할 node만 빼고 다른 곳으로 link한다는 개념!\n",
    "        if not self.isEmpty():\n",
    "            data = self.rear.data #rear가 가리킨 가장 앞에 있는 node 데이터만 반환하기 위해 data로 할당.\n",
    "            self.rear = self.rear.prev #rear가 기존에 가리킨것보다 앞쪽의 node를 가리키면, 맨 뒤에 있는 node는 link가 끊겨 삭제된다.\n",
    "            if self.rear == None: #만약 방금 삭제되어 텅비어버렸다면\n",
    "                self.front = None #front도 비었다고 지정해준다.\n",
    "            else: #그렇지 않다면,\n",
    "                self.rear.next = None #rear가 가리키는 node는 next가 None이어야하기 때문에, None으로 바꿔준다.(원래는 방금지워진 node를 next로 가리키고 있었을 것이다.)\n",
    "            return data\n",
    "        "
   ]
  },
  {
   "cell_type": "code",
   "execution_count": 128,
   "id": "e0a71826-01f3-413a-8025-19f9f7348308",
   "metadata": {},
   "outputs": [],
   "source": [
    "dq = DoublyLinkedDeque()"
   ]
  },
  {
   "cell_type": "code",
   "execution_count": 129,
   "id": "edce6567-6229-4342-b15d-d9c2624391e8",
   "metadata": {},
   "outputs": [],
   "source": [
    "dq.addRear(10)\n",
    "dq.addRear(20)"
   ]
  },
  {
   "cell_type": "code",
   "execution_count": 130,
   "id": "2157ff9d-98d8-4d78-b1dc-7c35e47b7b75",
   "metadata": {},
   "outputs": [
    {
     "ename": "KeyboardInterrupt",
     "evalue": "",
     "output_type": "error",
     "traceback": [
      "\u001b[0;31m---------------------------------------------------------------------------\u001b[0m",
      "\u001b[0;31mKeyboardInterrupt\u001b[0m                         Traceback (most recent call last)",
      "\u001b[0;32m/var/folders/vw/b3c7dks943vccln0gj5lpks40000gn/T/ipykernel_17981/2894663824.py\u001b[0m in \u001b[0;36m<module>\u001b[0;34m\u001b[0m\n\u001b[0;32m----> 1\u001b[0;31m \u001b[0mdq\u001b[0m\u001b[0;34m.\u001b[0m\u001b[0mreserves\u001b[0m\u001b[0;34m(\u001b[0m\u001b[0;34m)\u001b[0m\u001b[0;34m\u001b[0m\u001b[0;34m\u001b[0m\u001b[0m\n\u001b[0m",
      "\u001b[0;32m/var/folders/vw/b3c7dks943vccln0gj5lpks40000gn/T/ipykernel_17981/691528702.py\u001b[0m in \u001b[0;36mreserves\u001b[0;34m(self)\u001b[0m\n\u001b[1;32m     64\u001b[0m         \u001b[0mp_head\u001b[0m \u001b[0;34m=\u001b[0m \u001b[0mself\u001b[0m\u001b[0;34m.\u001b[0m\u001b[0mfront\u001b[0m\u001b[0;34m\u001b[0m\u001b[0;34m\u001b[0m\u001b[0m\n\u001b[1;32m     65\u001b[0m         \u001b[0mq_prev\u001b[0m \u001b[0;34m=\u001b[0m \u001b[0;32mNone\u001b[0m\u001b[0;34m\u001b[0m\u001b[0;34m\u001b[0m\u001b[0m\n\u001b[0;32m---> 66\u001b[0;31m         \u001b[0;32mwhile\u001b[0m \u001b[0mp_head\u001b[0m \u001b[0;34m!=\u001b[0m \u001b[0;32mNone\u001b[0m\u001b[0;34m:\u001b[0m\u001b[0;34m\u001b[0m\u001b[0;34m\u001b[0m\u001b[0m\n\u001b[0m\u001b[1;32m     67\u001b[0m             \u001b[0mr_temp\u001b[0m \u001b[0;34m=\u001b[0m \u001b[0mq_prev\u001b[0m\u001b[0;34m\u001b[0m\u001b[0;34m\u001b[0m\u001b[0m\n\u001b[1;32m     68\u001b[0m             \u001b[0mq_prev\u001b[0m \u001b[0;34m=\u001b[0m \u001b[0mp_head\u001b[0m\u001b[0;34m\u001b[0m\u001b[0;34m\u001b[0m\u001b[0m\n",
      "\u001b[0;31mKeyboardInterrupt\u001b[0m: "
     ]
    }
   ],
   "source": [
    "dq.reserves()"
   ]
  },
  {
   "cell_type": "code",
   "execution_count": null,
   "id": "0c2aca1b-de2f-4523-bba2-4e8f3ed643b5",
   "metadata": {},
   "outputs": [],
   "source": []
  }
 ],
 "metadata": {
  "kernelspec": {
   "display_name": "Python 3 (ipykernel)",
   "language": "python",
   "name": "python3"
  },
  "language_info": {
   "codemirror_mode": {
    "name": "ipython",
    "version": 3
   },
   "file_extension": ".py",
   "mimetype": "text/x-python",
   "name": "python",
   "nbconvert_exporter": "python",
   "pygments_lexer": "ipython3",
   "version": "3.9.7"
  }
 },
 "nbformat": 4,
 "nbformat_minor": 5
}
