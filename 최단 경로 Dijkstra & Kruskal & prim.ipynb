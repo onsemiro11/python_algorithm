{
 "cells": [
  {
   "cell_type": "markdown",
   "id": "74234006-8127-48fb-a8de-02eee3f8a235",
   "metadata": {},
   "source": [
    "# 가중치 그래프\n",
    "\n",
    ": 간선에 가중치가 할당된 그래프 G = (V,E,w) w: 비용, 가중치 , 길어\n",
    "\n",
    "-경로 p의 길이 : 가중치의 합."
   ]
  },
  {
   "cell_type": "markdown",
   "id": "5de3ded0-8f93-4411-a9c9-7b90f905d1c9",
   "metadata": {},
   "source": [
    "## 인접행렬을 이용한 표현"
   ]
  },
  {
   "cell_type": "code",
   "execution_count": 3,
   "id": "0a692508-8bdd-4379-b5c4-d91b76b74b54",
   "metadata": {},
   "outputs": [],
   "source": [
    "#394\n",
    "\n",
    "vertex = list('ABCDEFG')\n",
    "weight = [[None,29,None,None,None,10,None],\n",
    "         [29,None,16,None,None,None,15],\n",
    "         [None,16,None,12,None,None,None],\n",
    "         [None,None,12,None,22,None,18],\n",
    "         [None,None,None,22,None,27,25],\n",
    "         [10,None,None,None,27,None,None],\n",
    "         [None,15,None,18,25,None,None]]\n",
    "graph = (vertex,weight)"
   ]
  },
  {
   "cell_type": "code",
   "execution_count": 4,
   "id": "9960ad8e-9356-45ce-9d1a-2b7acdfa5552",
   "metadata": {},
   "outputs": [],
   "source": [
    "def weightSum(vlist,W):\n",
    "    weight_sum = 0\n",
    "    for i in range(len(vlist)): #모든 정점에 대해\n",
    "        for j in range(i+1,len(vlist)): #하나의 행에 대해(삼각영역) i+1부터 시작, 상삼각행렬\n",
    "            if W[i][j] != None: #만약 간선이 있으면\n",
    "                weight_sum += W[i][j] #sum에 추가\n",
    "                \n",
    "    return weight_sum"
   ]
  },
  {
   "cell_type": "code",
   "execution_count": 5,
   "id": "8d27494e-843e-4cd7-a3af-5fd9f14abf67",
   "metadata": {},
   "outputs": [
    {
     "data": {
      "text/plain": [
       "174"
      ]
     },
     "execution_count": 5,
     "metadata": {},
     "output_type": "execute_result"
    }
   ],
   "source": [
    "weightSum(vertex,weight)"
   ]
  },
  {
   "cell_type": "code",
   "execution_count": 8,
   "id": "f9cb265a-4931-425b-a7d1-328f7e26f36d",
   "metadata": {},
   "outputs": [],
   "source": [
    "def printAllEdges(vlist,W):\n",
    "    weight =0\n",
    "    for i in range(len(vlist)):\n",
    "        for j in range(i+1,len(vlist)):\n",
    "            if W[i][j] != None and W[i][j] != 0: #none과 0이 아닌 애들을 출력\n",
    "                print(f'{vlist[i]},{vlist[j]},{W[i][j]}')\n",
    "                weight += W[i][j]\n",
    "    print(weight)\n",
    "    print()\n",
    "                      "
   ]
  },
  {
   "cell_type": "code",
   "execution_count": 9,
   "id": "f40fe017-fb09-4064-b561-f2f10177b365",
   "metadata": {},
   "outputs": [
    {
     "name": "stdout",
     "output_type": "stream",
     "text": [
      "A,B,29\n",
      "A,F,10\n",
      "B,C,16\n",
      "B,G,15\n",
      "C,D,12\n",
      "D,E,22\n",
      "D,G,18\n",
      "E,F,27\n",
      "E,G,25\n",
      "174\n",
      "\n"
     ]
    }
   ],
   "source": [
    "printAllEdges(vertex,weight)"
   ]
  },
  {
   "cell_type": "markdown",
   "id": "a5b07b64-9502-4eed-88d5-71396dda1806",
   "metadata": {},
   "source": [
    "## 인접 리스트 이용 표현"
   ]
  },
  {
   "cell_type": "code",
   "execution_count": 10,
   "id": "ccdd37b4-63f0-43bd-a4f7-06971fea41c9",
   "metadata": {},
   "outputs": [],
   "source": [
    "graphA = {'A': {('B',29),('F',10)        },\n",
    "         'B': {('A',29),('C',16),('G',15)},\n",
    "         'C': {('B',16),('D',12)         },\n",
    "         'D': {('C',12),('E',22),('G',18)},\n",
    "         'E': {('D',22),('F',27),('G',25)},\n",
    "         'F': {('A',10),('E',27)         },\n",
    "         'G': {('B',15),('D',18),('E',25)}}"
   ]
  },
  {
   "cell_type": "code",
   "execution_count": 17,
   "id": "e30a3a5a-8d23-4dab-9bd2-9e1f046b5133",
   "metadata": {},
   "outputs": [],
   "source": [
    "def weightSum(graph):\n",
    "    sum = 0\n",
    "    for v in graph:\n",
    "        for e in graph[v]:\n",
    "            sum += e[1]\n",
    "    return sum //2\n",
    "\n",
    "def printAllEdges(graph):\n",
    "    v_l =[]\n",
    "    for v in graph:\n",
    "        v_l.append(v)\n",
    "        for e in graph[v]:\n",
    "            if e[0] in v_l:\n",
    "                continue\n",
    "            else:\n",
    "                print('(%s,%s,%d)'%(v,e[0],e[1]),end = ' ')\n"
   ]
  },
  {
   "cell_type": "code",
   "execution_count": 18,
   "id": "52165d8c-4ced-474c-a59d-d01ae6c6c264",
   "metadata": {},
   "outputs": [
    {
     "name": "stdout",
     "output_type": "stream",
     "text": [
      "AL : weight sum =  174\n",
      "(A,B,29) (A,F,10) (B,G,15) (B,C,16) (C,D,12) (D,E,22) (D,G,18) (E,F,27) (E,G,25) "
     ]
    }
   ],
   "source": [
    "print('AL : weight sum = ',weightSum(graphA))\n",
    "printAllEdges(graphA)"
   ]
  },
  {
   "cell_type": "markdown",
   "id": "d292b1c6-d770-4707-905b-125dc3edfdde",
   "metadata": {},
   "source": [
    "## 최소비용 신장 트리\n",
    "\n",
    "간선들의 가중치 합이 최소인 신장 트리\n",
    "\n",
    "- 반드시(n-1)개의 간선만 사용\n",
    "- 사이클 포함 X\n",
    "\n",
    "MST 응용\n",
    "- 도로,통신,배관 건설 : 모두 연결하면서 길이 / 비용을 최소화\n",
    "- 건기 회로 : 단자를 모두 연결하면서 전선의 길이 최소화\n",
    "\n",
    "### Kruskal 알고리즘 - (시간 복잡도 eloge)\n",
    "\n",
    " (탐욕적인 방법) : 각 단계에서 최선의 답 선색 -> 최종적인 해답에 도달 ,  최소힙을 사용하는 것도 좋은 방법임.\n",
    "  - 모든 간선을 가중치에 따라 오름차순으로 정렬\n",
    "  - 가장 가중치가 작은 간선 e를 뽑는다.\n",
    "  - e를 신장트리에 넣었을 때 사이클이 생기면 넣지 않고 2번으로 이동\n",
    "  - 사이클이 생기지 않으면 최소 신장 트리에 삽입\n",
    "  - n-1개의 간선이 삽입될때까지 2번 이동.\n",
    "  \n",
    "union과 find 연산\n",
    "\n",
    " (간선 추가시 사이클 감사 과정 필요)\n",
    " - union : 두 집합의 합집합을 만드는 연산\n",
    " - find : 원소가 속한 집합을 찾는 연산\n",
    " - ex) \n"
   ]
  },
  {
   "cell_type": "code",
   "execution_count": 6,
   "id": "80428076-1c30-4625-aeb9-9fc9e8ef86e8",
   "metadata": {},
   "outputs": [],
   "source": [
    "#p403\n",
    "\n",
    "parent=[]\n",
    "set_size = 0\n",
    "\n",
    "def init_set(nSets):\n",
    "    global set_size, parent\n",
    "    \n",
    "    set_size = nSets\n",
    "    for i in range(nSets):\n",
    "        parent.append(-1)\n",
    "        \n",
    "def find(node):\n",
    "    while (parent[node]>=0): #만약 지나갔던 곳이라면!( 지나가서 union과정에서 -1이 해당 index로 변환됐을때!)\n",
    "        node = parent[node]\n",
    "    return node\n",
    "\n",
    "def union(s1,s2):\n",
    "    global set_size\n",
    "    parent[s1] = s2\n",
    "    set_size = set_size -1\n",
    "    \n"
   ]
  },
  {
   "cell_type": "code",
   "execution_count": 7,
   "id": "8ec63319-5829-4cce-a4ab-f59c54fbb1dc",
   "metadata": {},
   "outputs": [],
   "source": [
    "def Kruskal(vertex,adj):\n",
    "    vsize = len(vertex)\n",
    "    init_set(vsize)\n",
    "\n",
    "    eList = []\n",
    "    \n",
    "    for i in range(vsize -1):\n",
    "        for j in range(i+1,vsize):\n",
    "            if adj[i][j] != None:\n",
    "                eList.append((i,j,adj[i][j]))\n",
    "                \n",
    "    eList.sort(key=lambda e: e[2], reverse = True)\n",
    "    print(parent)\n",
    "    edgeAccepted = 0\n",
    "    while (edgeAccepted < vsize -1):\n",
    "        e = eList.pop(-1)\n",
    "        uset = find(e[0])\n",
    "        vset = find(e[1])\n",
    "        print(parent)\n",
    "\n",
    "        if uset != vset: #find를 활용하여 같은 집합에 속하는지를 확인하는 것.\n",
    "            print(\"간선추가 : (%s,%s,%d)\"%(vertex[e[0]],vertex[e[1]],e[2]))\n",
    "            union(uset,vset)\n",
    "            edgeAccepted += 1\n",
    "        if uset == vset:\n",
    "            print(\"   간선통과 : (%s,%s,%d)\"%(vertex[e[0]],vertex[e[1]],e[2]))"
   ]
  },
  {
   "cell_type": "code",
   "execution_count": 8,
   "id": "173005c5-9c41-4aea-b739-71c5b58d1f1e",
   "metadata": {},
   "outputs": [],
   "source": [
    "vertex1 = list('ABCDE')\n",
    "weight1 = [[None,1,None,2,None],\n",
    "           [1,None,3,1,None],\n",
    "           [None,3,None,3,1],\n",
    "           [2,1,3,None,2],\n",
    "           [None,None,1,2,None]]"
   ]
  },
  {
   "cell_type": "code",
   "execution_count": 9,
   "id": "edc44123-4414-49fb-8be6-9beea63396dd",
   "metadata": {},
   "outputs": [
    {
     "name": "stdout",
     "output_type": "stream",
     "text": [
      "MST By Kruskal's Algorithm\n",
      "[-1, -1, -1, -1, -1]\n",
      "[-1, -1, -1, -1, -1]\n",
      "간선추가 : (C,E,1)\n",
      "[-1, -1, 4, -1, -1]\n",
      "간선추가 : (B,D,1)\n",
      "[-1, 3, 4, -1, -1]\n",
      "간선추가 : (A,B,1)\n",
      "[3, 3, 4, -1, -1]\n",
      "간선추가 : (D,E,2)\n"
     ]
    }
   ],
   "source": [
    "print('MST By Kruskal\\'s Algorithm')\n",
    "Kruskal(vertex1,weight1)"
   ]
  },
  {
   "cell_type": "markdown",
   "id": "7c88222d-7c1f-4699-8e6c-12f0f1a292d3",
   "metadata": {},
   "source": [
    "### prim의 MST 알고리즘 - O(n^2)\n",
    "\n",
    "하나의 정점에서 부터 시작하여 트리를 단계적으로 확장\n",
    "\n",
    " - 현재의 신장 트리 집합에 인접한 정점 중 최저 간선으로 연결된 정점 선택하여 신장 트리 집합에 추가\n",
    " - 이과정을 n-1개의 간선을 가질때까지 반복\n",
    " \n",
    " 1. 그래프에서 시작 정점을 선택하여 초기 트리를 만든다.\n",
    " 2. 현재 트리의 정점들과 인접한 정점들중에서 간선의 가중치가 가장 작은 정점 v를 선택한다.\n",
    " 3. 이정점 v와 이때의 간선을 트리에 추가한다.\n",
    " 4. 모든 정점이 삽입될때까지 2.번으로 이동한다."
   ]
  },
  {
   "cell_type": "code",
   "execution_count": 10,
   "id": "04689d2e-a03e-4194-9448-4867f2ecc14d",
   "metadata": {},
   "outputs": [],
   "source": [
    "INF = 999\n",
    "def getMinVertex(dist,selected): # 현재 트리에서 인접한 정점들 중에서 가장 가까운 정점을 찾는 함수\n",
    "    minv = 0\n",
    "    mindist = INF\n",
    "    for v in range(len(dist)): #모든 정점들에 대해서\n",
    "        if not selected[v] and dist[v]<mindist:  #선택안됐고 가중치보다 작으면\n",
    "            mindist = dist[v]\n",
    "            minv = v\n",
    "    return minv #최종적으로 선택이 안된 인접 정점의 간선 가중치중 가장 작은 값이 추출되는것."
   ]
  },
  {
   "cell_type": "code",
   "execution_count": 11,
   "id": "dbe86bb6-39d9-4557-b7c6-bfdf772b5899",
   "metadata": {},
   "outputs": [],
   "source": [
    "\n",
    "def prim(vertex,adj):\n",
    "    vsize = len(vertex)\n",
    "    dist = [INF] *vsize\n",
    "    selected = [False] * vsize\n",
    "    dist[0] = 0 #시작 정점을 0에 위치한 A로 시작하여 0index값을 0으로 둠\n",
    "    \n",
    "    for i in range(vsize):\n",
    "        u = getMinVertex(dist,selected) \n",
    "        selected[u] = True #선택이 되면 True로 변환하여 지나간 노드를 구분해줌\n",
    "        print(vertex[u])\n",
    "        for v in range(vsize):\n",
    "            if adj[u][v]!=None:\n",
    "                if selected[v] ==False and adj[u][v]<dist[v]:\n",
    "                    dist[v] = adj[u][v]\n",
    "                    print(dist)\n",
    "        print()"
   ]
  },
  {
   "cell_type": "code",
   "execution_count": 12,
   "id": "5560dcaf-26af-47e1-a29e-693533a0e289",
   "metadata": {},
   "outputs": [],
   "source": [
    "vertex = list('ABCDEFG')\n",
    "weight = [[INF,29,INF,INF,INF,10,INF],\n",
    "         [29,INF,16,INF,INF,INF,15],\n",
    "         [INF,16,INF,12,INF,INF,INF],\n",
    "         [INF,INF,12,INF,22,INF,18],\n",
    "         [INF,INF,INF,22,INF,27,25],\n",
    "         [10,INF,INF,INF,27,INF,INF],\n",
    "         [INF,15,INF,18,25,INF,INF]]"
   ]
  },
  {
   "cell_type": "code",
   "execution_count": 13,
   "id": "7ef2a106-009a-44d6-9a1a-ec085f77ed51",
   "metadata": {},
   "outputs": [
    {
     "name": "stdout",
     "output_type": "stream",
     "text": [
      "A\n",
      "[0, 1, 999, 999, 999]\n",
      "[0, 1, 999, 2, 999]\n",
      "\n",
      "B\n",
      "[0, 1, 3, 2, 999]\n",
      "[0, 1, 3, 1, 999]\n",
      "\n",
      "D\n",
      "[0, 1, 3, 1, 2]\n",
      "\n",
      "E\n",
      "[0, 1, 1, 1, 2]\n",
      "\n",
      "C\n",
      "\n"
     ]
    }
   ],
   "source": [
    "prim(vertex1,weight1)"
   ]
  },
  {
   "cell_type": "markdown",
   "id": "fd68f366-f29f-468c-9452-ed01ba7baa93",
   "metadata": {},
   "source": [
    "### prim vs kruskal\n",
    "\n",
    "prim : O(n^2) - 완전그래프와 같이 간선이 매우 많은 그래프의 경우에는 Prim의 알고리즘이 유리\n",
    "\n",
    "Kruskal : O(eloge) - 정점의 개수에 비해 간선의 개수가 매우 적은 희박한 그래프를 대상으로 유리 (간선 e개)"
   ]
  },
  {
   "cell_type": "markdown",
   "id": "2caf07d0-8101-4a30-9f89-81fd2a1af290",
   "metadata": {},
   "source": [
    "## 최단 경로 알고리즘\n",
    "\n",
    "정점 u와 정점 v를 연결하는 경로 중에서 간선들의 가중치 합이 최소가 되는 경로\n",
    " - 간선의 가중치는 비용 거리 시간 등등\n",
    " - 간선이 없으면 가중치를 무한대로 처리(인접행렬)\n",
    " \n",
    "### Dijkstra 알고리즘 - 시간복잡도 O(n^2)\n",
    "\n",
    "시작정점 v에서 모든 다른 정점까지의 최단 경로 찾음\n",
    "\n",
    "주 반복 n번 내부반복 2n번\n",
    "\n",
    " - 시작정점 v:최단경로탐색의 시작 정점\n",
    " - 집합 S: 시작 정점 v로부터의 최단경로가 이미 발견된 정점들의 집합\n",
    " - dist배열 : S에 있는 정점만을 거쳐서 다른 정점으로 가는 최단거리를 기록하는 배열. 가중치가 들어가있는 dist 배열\n",
    "\n",
    " > 집합 S에 새로운 dist값이 최소인 노드가 추가되면 나머지 선택되지 않은 정점들은 dist를 갱신해야한다."
   ]
  },
  {
   "cell_type": "code",
   "execution_count": 23,
   "id": "a1f76baf-593a-41b3-85b4-ecde9127eb03",
   "metadata": {},
   "outputs": [],
   "source": [
    "INF = 9999\n",
    "\n",
    "def choose_vertex(dist,found):\n",
    "    min_weight = INF\n",
    "    minpos = -1\n",
    "    for i in range(len(dist)):\n",
    "        if dist[i] < min_weight and found[i] == False: #방문하지 않았고 최소 값을 갱신하면서 if문 돌기\n",
    "            min_weight = dist[i] #\n",
    "            minpos = i\n",
    "    return minpos #for문을 다 돌고 최종적으로 나온 minpos가 최소값이 됨\n",
    "\n",
    "def dijkstra(vtx,adj,start):\n",
    "    vsize = len(vtx)\n",
    "    dist = list(adj[start])\n",
    "    path = [start] * vsize\n",
    "    found = [False] *vsize\n",
    "    found[start] = True #시작 점은 True로 변환\n",
    "    dist[start] = 0 #시작점의 가중치는 0\n",
    "    \n",
    "    for i in range(vsize):\n",
    "        print(f'{i+1}:{dist}')\n",
    "        u = choose_vertex(dist,found)\n",
    "        found[u] = True\n",
    "        for f in range(len(found)):\n",
    "            if found[f] == True:\n",
    "                print(ver[f],end=' ')\n",
    "        print()\n",
    "        for w in range(vsize):\n",
    "            if not found[w]:\n",
    "                if dist[u]+adj[u][w] < dist[w]:\n",
    "                    dist[w] = dist[u] + adj[u][w]\n",
    "                    path[w] = u\n",
    "                    \n",
    "    return path"
   ]
  },
  {
   "cell_type": "code",
   "execution_count": 24,
   "id": "8fa450a2-4117-43b5-931a-51179a94285e",
   "metadata": {},
   "outputs": [],
   "source": [
    "\n",
    "\n",
    "vertex = list('ABCDEFG')\n",
    "weight = [[0,7,INF,INF,3,10,INF],\n",
    "         [7,0,4,10,2,6,INF],\n",
    "         [INF,4,0,2,INF,INF,INF],\n",
    "         [INF,10,2,0,11,9,4],\n",
    "         [3,2,INF,11,0,13,5],\n",
    "         [10,6,INF,9,13,0,INF],\n",
    "         [INF,INF,INF,4,5,INF,0]\n",
    "         ]"
   ]
  },
  {
   "cell_type": "code",
   "execution_count": 25,
   "id": "047c1143-1d55-44e8-ae30-bbdec608a823",
   "metadata": {},
   "outputs": [
    {
     "name": "stdout",
     "output_type": "stream",
     "text": [
      "1:[0, 14, 7, 9, 9999, 9999]\n",
      "S B \n",
      "2:[0, 14, 7, 9, 22, 9999]\n",
      "S B C \n",
      "3:[0, 14, 7, 9, 20, 9999]\n",
      "S A B C \n",
      "4:[0, 14, 7, 9, 20, 23]\n",
      "S A B C D \n",
      "5:[0, 14, 7, 9, 20, 23]\n",
      "S A B C D E \n",
      "6:[0, 14, 7, 9, 20, 23]\n",
      "S A B C D E \n"
     ]
    }
   ],
   "source": [
    "ver = list('SABCDE')\n",
    "we = [[0,14,7,9,INF,INF],\n",
    "      [14,0,INF,INF,INF,9],\n",
    "      [7,INF,0,10,15,INF],\n",
    "      [9,INF,10,0,11,INF],\n",
    "      [INF,INF,15,11,0,6],\n",
    "      [INF,9,INF,INF,6,0]]\n",
    "\n",
    "start = 0\n",
    "path1 = dijkstra(ver,we,start)"
   ]
  },
  {
   "cell_type": "code",
   "execution_count": 17,
   "id": "dbd703d0-e75d-4d7d-a136-f67713e6d2ac",
   "metadata": {},
   "outputs": [
    {
     "name": "stdout",
     "output_type": "stream",
     "text": [
      "1:[0, 7, 9999, 9999, 3, 10, 9999]\n",
      "found [True, False, False, False, True, False, False]\n",
      "2:[0, 5, 9999, 14, 3, 10, 8]\n",
      "found [True, True, False, False, True, False, False]\n",
      "3:[0, 5, 9, 14, 3, 10, 8]\n",
      "found [True, True, False, False, True, False, True]\n",
      "4:[0, 5, 9, 12, 3, 10, 8]\n",
      "found [True, True, True, False, True, False, True]\n",
      "5:[0, 5, 9, 11, 3, 10, 8]\n",
      "found [True, True, True, False, True, True, True]\n",
      "6:[0, 5, 9, 11, 3, 10, 8]\n",
      "found [True, True, True, True, True, True, True]\n",
      "7:[0, 5, 9, 11, 3, 10, 8]\n",
      "found [True, True, True, True, True, True, True]\n"
     ]
    }
   ],
   "source": [
    "start = 0\n",
    "path = dijkstra(vertex,weight,start)"
   ]
  },
  {
   "cell_type": "markdown",
   "id": "79e85337-39f5-4203-b89a-214b5606f7e8",
   "metadata": {},
   "source": [
    "### Floyd 최단 경로 알고리즘 - 시간 복잡도 O(n^3)\n",
    "\n",
    "Dijkstra 알고리즘은 정점의 수만큼 반복하여 실행\n",
    "\n",
    "but! Floyd-warshall알고리즘은 그래프의 모든 정점사이의 최단경로를 한꺼번에 찾아준다.\n",
    "\n",
    "모든 정점 사이의 최단경로를 찾음\n",
    "\n",
    " - 2차원 배열 A를 이용하여 3중 반복을 사는 루프로 구성\n",
    " - 배열 A의 초기 값은 인접행렬의 가중치"
   ]
  },
  {
   "cell_type": "code",
   "execution_count": 147,
   "id": "328a5bce-7d53-4f63-9a81-cfd790607bbc",
   "metadata": {},
   "outputs": [],
   "source": [
    "INF = 9999\n",
    "\n",
    "def printA(A):\n",
    "    vsize = len(A)\n",
    "\n",
    "    print('==============================') \n",
    "    for i in range(vsize):\n",
    "        for j in range(vsize):\n",
    "            if (A[i][j] == INF): print(' INF',end='')\n",
    "            else: print('%4d'%A[i][j],end='')\n",
    "        print('')\n",
    "        \n",
    "def shortest_path_floyd(vertex,adj):\n",
    "    vsize = len(vertex)\n",
    "    A = adj\n",
    "    for i in range(vsize):\n",
    "        A[i] = list(adj[i])\n",
    "    \n",
    "    for k in range(vsize): #경유 정점\n",
    "        for i in range(vsize): #각 시작정점\n",
    "            for j in range(vsize): #시작정점 i부터 종점 j까지의 k 정점을 경유하는 것과 직행하는 것을 비교\n",
    "                if (A[i][k] + A[k][j] < A[i][j]): #경유경로가 직접경로보다 작으면,\n",
    "                    A[i][j] = A[i][k]+A[k][j] #경유경로를 A 행렬 해당 위치의 값으로 바꿔준다.\n",
    "        printA(A)"
   ]
  },
  {
   "cell_type": "code",
   "execution_count": 148,
   "id": "ca531d70-e6d9-4b93-bfd3-1b75a5d9836d",
   "metadata": {},
   "outputs": [
    {
     "name": "stdout",
     "output_type": "stream",
     "text": [
      "==============================\n",
      "   0   7 INF INF   3  10 INF\n",
      "   7   0   4  10   2   6 INF\n",
      " INF   4   0   2 INF INF INF\n",
      " INF  10   2   0  11   9   4\n",
      "   3   2 INF  11   0  13   5\n",
      "  10   6 INF   9  13   0 INF\n",
      " INF INF INF   4   5 INF   0\n",
      "==============================\n",
      "   0   7  11  17   3  10 INF\n",
      "   7   0   4  10   2   6 INF\n",
      "  11   4   0   2   6  10 INF\n",
      "  17  10   2   0  11   9   4\n",
      "   3   2   6  11   0   8   5\n",
      "  10   6  10   9   8   0 INF\n",
      " INF INF INF   4   5 INF   0\n",
      "==============================\n",
      "   0   7  11  13   3  10 INF\n",
      "   7   0   4   6   2   6 INF\n",
      "  11   4   0   2   6  10 INF\n",
      "  13   6   2   0   8   9   4\n",
      "   3   2   6   8   0   8   5\n",
      "  10   6  10   9   8   0 INF\n",
      " INF INF INF   4   5 INF   0\n",
      "==============================\n",
      "   0   7  11  13   3  10  17\n",
      "   7   0   4   6   2   6  10\n",
      "  11   4   0   2   6  10   6\n",
      "  13   6   2   0   8   9   4\n",
      "   3   2   6   8   0   8   5\n",
      "  10   6  10   9   8   0  13\n",
      "  17  10   6   4   5  13   0\n",
      "==============================\n",
      "   0   5   9  11   3  10   8\n",
      "   5   0   4   6   2   6   7\n",
      "   9   4   0   2   6  10   6\n",
      "  11   6   2   0   8   9   4\n",
      "   3   2   6   8   0   8   5\n",
      "  10   6  10   9   8   0  13\n",
      "   8   7   6   4   5  13   0\n",
      "==============================\n",
      "   0   5   9  11   3  10   8\n",
      "   5   0   4   6   2   6   7\n",
      "   9   4   0   2   6  10   6\n",
      "  11   6   2   0   8   9   4\n",
      "   3   2   6   8   0   8   5\n",
      "  10   6  10   9   8   0  13\n",
      "   8   7   6   4   5  13   0\n",
      "==============================\n",
      "   0   5   9  11   3  10   8\n",
      "   5   0   4   6   2   6   7\n",
      "   9   4   0   2   6  10   6\n",
      "  11   6   2   0   8   9   4\n",
      "   3   2   6   8   0   8   5\n",
      "  10   6  10   9   8   0  13\n",
      "   8   7   6   4   5  13   0\n"
     ]
    }
   ],
   "source": [
    "shortest_path_floyd(vertex,weight)"
   ]
  },
  {
   "cell_type": "markdown",
   "id": "e0cbedb5-c367-4230-bf15-75ecca3fdd79",
   "metadata": {},
   "source": [
    "### Dijkstra 와 Floyd 시간 복잡도\n",
    "\n",
    "Dijkstra는 하나의 정점에 대한 최단 경로를 찾는데 O(n^2)의 복잡도를 갖는데\n",
    "\n",
    "모든 정점의 경로를 탐색하게 되면 이또한 O(n^3)의 복잡도를 갖게 될것이다.\n",
    "\n",
    "그러므로, Floyd와 동일한 복잡도를 갖는다고 볼 수 있다."
   ]
  },
  {
   "cell_type": "code",
   "execution_count": null,
   "id": "3bf35892-671f-45da-a13a-f53cd84ba8f6",
   "metadata": {},
   "outputs": [],
   "source": []
  }
 ],
 "metadata": {
  "kernelspec": {
   "display_name": "Python 3 (ipykernel)",
   "language": "python",
   "name": "python3"
  },
  "language_info": {
   "codemirror_mode": {
    "name": "ipython",
    "version": 3
   },
   "file_extension": ".py",
   "mimetype": "text/x-python",
   "name": "python",
   "nbconvert_exporter": "python",
   "pygments_lexer": "ipython3",
   "version": "3.9.7"
  }
 },
 "nbformat": 4,
 "nbformat_minor": 5
}
