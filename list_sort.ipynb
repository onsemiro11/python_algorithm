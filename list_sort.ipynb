{
 "cells": [
  {
   "cell_type": "markdown",
   "id": "7a07dd39-202b-478d-bffe-7ff6035c0c8d",
   "metadata": {
    "tags": []
   },
   "source": [
    "## 1. 정렬되지 않은 정수(int) 리스트 A 가 있습니다. \n",
    "\n",
    "### 1.1. A에서 두 번째로 큰 수를 찾는 함수를 만들어봅시다. 이 함수의 시간복잡도는 어떻게 될까요?\n",
    "\n",
    "--> 1.1. 문제는 버블정렬로 알고리즘을 구성한후, 바깥 for문을 두번만 실행하고 나온 값이 두번째로 큰 값이 될것이다.\n",
    "이 함수의 시간 복잡도는 O(n^2)가 되겠다. x가 range로 인해 N번 연산되는 동시에, i또한 X가 한번 연산될때 N번 연산되기 때문이다.\n",
    "\n",
    "### 1.2. A가 정렬되어 있다면 이 함수의 시간복잡도는 달라질까요? 이유는 무엇일까요?\n",
    "\n",
    "--> 정렬되어 있기 때문에, 비교하는 for문 하나면 충분해서 O(n)으로 시간복잡도가 달라진다.\n",
    "\n"
   ]
  },
  {
   "cell_type": "code",
   "execution_count": 4,
   "id": "d3c5f3f5-c6bd-4e4b-9d20-f271aa1202c9",
   "metadata": {},
   "outputs": [
    {
     "data": {
      "text/plain": [
       "(2, 19)"
      ]
     },
     "execution_count": 4,
     "metadata": {},
     "output_type": "execute_result"
    }
   ],
   "source": [
    "#1번 문제 코드\n",
    "#버블 정렬\n",
    "\n",
    "#버블 정렬은 붙어 있는 두개씩 비교해 가면서 마지막에 남은 큰 수를 맨 끝에 우선 정렬하고 그 후에는 맨 끝을 빼고 정렬하고 그렇게 계속 나머지들을 정렬하는 방식\n",
    "a = [11,5,3,2,19,10]\n",
    "\n",
    "def b_sorted(l):\n",
    "    num = 0\n",
    "    for x in range(len(l)-1): #마지막만 빼고 돌리는 이유는 마지막은 그 다음 수가 없기 때문에 비교할 수 있는 index까지 반복한다.\n",
    "        for i in range(1,len(l)-x): #큰 값을 지정한 부분 전까지 반복한다. 1부터 시작하는 이유는 바깥 for문에서 처음에 0인덱스값을 갖고 들어오기 때문\n",
    "            if l[i-1] > l[i]: #만약 앞에 있는 값이 더 크면 바꿔준다.\n",
    "                l[i - 1], l[i] = l[i], l[i - 1]\n",
    "    return (l[0],l[-1])\n",
    "        #중첩된 속에 있는 for문이 한번 다 돌면 비교한 것들 중에 가장 큰 값을 맨 뒤에 놓여진다.\n",
    "        #그 후 나머지 남은 것들을 또다시 비교해서 그중 큰 수를 뒤에 놓고 계속해서 진행.\n",
    "\n",
    "b_sorted(a)\n"
   ]
  },
  {
   "cell_type": "markdown",
   "id": "7674f4a2-7bdb-48dd-8a23-bb23024ce309",
   "metadata": {},
   "source": [
    "## 2. 두 개의 정수 리스트 A , B 가 있습니다.\n",
    "\n",
    "### 2.1. A, B 를 합쳐 하나의 리스트로 만들고자 합니다. 이 때, 크기 순으로 해당 병합을 진행하고 싶습니다.\n",
    "\n",
    "### 예를 들어, [1, 6, 9], [7, 2, 8] 이라면 합친 리스트는 [1, 2, 6, 7, 8, 9] 가 되겠지요. 함수를 작성해보고 시간 복잡도를 계산해봅시다.\n",
    "\n",
    "--> 우선 A,B 리스트를 정렬한 후, 각 리스트의 값들을 비교하면서 작은 값들부터 새로운 리스트에 입력할 수 있도록 하는 코드를 작성했다.\n",
    "그로인해, 시간 복잡도는 2n^2 + n 이 되었다. 각 리스트를 정렬해야하기 때문에 2n^2 복잡도가 생겼고 그후 값을 비교하며 병합하는 과정에서 n이 추가로 더해진다.\n",
    "\n",
    "\n",
    "### 2.2.  A, B의 정렬 상태에 따라 시간복잡도가 달라질까요? 그 이유에 대해 설명해보세요.\n",
    "\n",
    "--> A,B가 정렬 상태라면, 시간복잡도는 O(n)으로 바뀔것이다. 그 이유는 정렬을 위한 코드가 필요없이 A의 맨앞에 있는 값과 B의 값들을 비교하는 과정만 가지면 되기 때문이다."
   ]
  },
  {
   "cell_type": "code",
   "execution_count": 149,
   "id": "25739f03-cacb-4029-a0d3-2fef9d4bfcaf",
   "metadata": {
    "scrolled": true,
    "tags": []
   },
   "outputs": [
    {
     "name": "stdout",
     "output_type": "stream",
     "text": [
      "[1]\n",
      "[1, 2]\n",
      "[1, 2, 3]\n",
      "[1, 2, 3, 4]\n",
      "[1, 2, 3, 4, 6]\n",
      "[1, 2, 3, 4, 6, 6]\n",
      "[1, 2, 3, 4, 6, 6, 7]\n",
      "[1, 2, 3, 4, 6, 6, 7, 8]\n",
      "[1, 2, 3, 4, 6, 6, 7, 8, 9]\n",
      "[1, 2, 3, 4, 6, 6, 7, 8, 9, 10]\n",
      "[1, 2, 3, 4, 6, 6, 7, 8, 9, 10, 11]\n",
      "[1, 2, 3, 4, 6, 6, 7, 8, 9, 10, 11, 12, 14]\n"
     ]
    },
    {
     "data": {
      "text/plain": [
       "[1, 2, 3, 4, 6, 6, 7, 8, 9, 10, 11, 12, 14]"
      ]
     },
     "execution_count": 149,
     "metadata": {},
     "output_type": "execute_result"
    }
   ],
   "source": [
    "#2번 문제 코드\n",
    "\n",
    "left = [2,6,9,3,4,17,14]\n",
    "right = [7,1,8,6,12,11,10]\n",
    "\n",
    "\n",
    "def merge_list(l,r):\n",
    "    #버블 정렬로 입력받은 각 리스트를 정렬한다\n",
    "    for x in range(len(l)-1):\n",
    "        for i in range(1,len(l)):\n",
    "            if l[i-1] > l[i]:\n",
    "                l[i-1],l[i] = l[i],l[i-1]\n",
    "\n",
    "    for x in range(len(r)-1):\n",
    "        for i in range(1,len(r)):\n",
    "            if r[i-1] > r[i]:\n",
    "                r[i-1],r[i] = r[i],r[i-1]\n",
    "\n",
    "    #정렬된 두 리스트 속에 있는 값들을 비교해가면서 병합해야한다.\n",
    "    #각 리스트에 맨 앞에 있는 값은 각 리스트 내에서 가장 작은 값이기 때문에 앞에 있는 값과 다른 리스트에 있는 값들을 비교해가면서\n",
    "    #작은 값을 하나씩 새로운 리스트에 넣어주는 과정이다.\n",
    "    l_n = 0\n",
    "    r_n = 0\n",
    "    #각 리스트에서 작은 값이 새로운 리스트에 입력됐을때, 한칸씩 index가 이동할 수 있도록 하는 변수를 만들었다.\n",
    "    result = []\n",
    "    while (l_n < len(l)) and (r_n < len(r)): #각 변수는 리스트보다 넘어가지 않는 선에서 비교한다.(당연한 말)\n",
    "\n",
    "        if l[l_n] < r[r_n]: #만약 l 리스트의 값이 더 작음이 확인되면\n",
    "            result.append(l[l_n]) #result 리스트에 해당 값을 append해준다.\n",
    "            if l_n == (len(l)-1): #이 조건문은 마지막 비교 상황에서 작은값으로 선정되어 result에 넣고 끝이 아니라 \n",
    "                result.append(r[r_n]) #상대 리스트에 있는 값도 마지막에 넣어줘야 전부 입력이 되기 때문에 따로 작성했다.\n",
    "            l_n += 1 #그리고 마지막으로 변수에 +1을 하여 index상 한칸 뒤로 이동하여 방금 값 다음으로 작은 값의 인덱스로 지정한다.\n",
    "        else: #그 외의 경우인 r리스트의 값이 더 작거나 같을때 진행한다. 위와 리스트 빼고 같다.\n",
    "            result.append(r[r_n])\n",
    "            if r_n == (len(r)-1):\n",
    "                result.append(l[l_n])\n",
    "            r_n += 1\n",
    "\n",
    "        print(result)\n",
    "            \n",
    "    return result\n",
    "\n",
    "merge_list(right,left)\n",
    "        "
   ]
  },
  {
   "cell_type": "code",
   "execution_count": null,
   "id": "d86675be-5835-4bee-a763-8926f3dfac93",
   "metadata": {},
   "outputs": [],
   "source": [
    "l = [2,4,9,6,1,3]"
   ]
  },
  {
   "cell_type": "code",
   "execution_count": 151,
   "id": "b7596edf-f779-4130-942f-88d720021b97",
   "metadata": {},
   "outputs": [],
   "source": [
    "def merge_list(a,b):\n",
    "    c = []\n",
    "    \n",
    "    a_idx = 0\n",
    "    b_idx = 0\n",
    "    \n",
    "    while a_idx < len(a) and b_idx <len(b):\n",
    "        if a[a_idx]<=b[b_idx]:\n",
    "            c.append(a[a_idx])\n",
    "            a_idx = a_idx +1\n",
    "        else:\n",
    "            c.append(b[b_idx])\n",
    "            b_idx = b_idx +1\n",
    "            \n",
    "    if a_idx <len(a):\n",
    "        c.extend(a[a_idx:])\n",
    "    else:\n",
    "        c.extend(b[b_idx:])\n",
    "    return c"
   ]
  },
  {
   "cell_type": "code",
   "execution_count": 152,
   "id": "f080798c-13c1-47d9-b7b7-92d2cc0a3f71",
   "metadata": {},
   "outputs": [
    {
     "data": {
      "text/plain": [
       "[1, 2, 3, 4, 5, 6, 7, 8, 9, 10]"
      ]
     },
     "execution_count": 152,
     "metadata": {},
     "output_type": "execute_result"
    }
   ],
   "source": [
    "a = [1,3,5,7,9]\n",
    "b = [2,4,6,8,10]\n",
    "\n",
    "merge_list(a,b)"
   ]
  },
  {
   "cell_type": "code",
   "execution_count": 5,
   "id": "3aa1a54e-648a-4604-adf3-9061c6c02cf3",
   "metadata": {},
   "outputs": [],
   "source": [
    "def Coef(n,k):\n",
    "    if k == 0 or k == n:\n",
    "        return 1\n",
    "    else:\n",
    "        return Coef(n-1,k-1)+Coef(n-1,k)"
   ]
  },
  {
   "cell_type": "code",
   "execution_count": 9,
   "id": "ed3a623a-27c9-4c3a-9b2c-8c52eaed415b",
   "metadata": {},
   "outputs": [
    {
     "data": {
      "text/plain": [
       "45"
      ]
     },
     "execution_count": 9,
     "metadata": {},
     "output_type": "execute_result"
    }
   ],
   "source": [
    "Coef(10,2)"
   ]
  },
  {
   "cell_type": "code",
   "execution_count": 23,
   "id": "9040b3c5-16e4-429a-af91-3c53c4ba70c0",
   "metadata": {},
   "outputs": [],
   "source": [
    "#10 * 9 / 2*1\n",
    "def Coef_for(n,k):\n",
    "    result = 1\n",
    "    for i in range(k):\n",
    "        result = n * result\n",
    "        n -= 1\n",
    "    for x in range(1,k+1):\n",
    "        result = result / x\n",
    "    return int(result)\n",
    "        "
   ]
  },
  {
   "cell_type": "code",
   "execution_count": 24,
   "id": "55a2a49a-87b3-4149-a29e-f8b03d4da872",
   "metadata": {},
   "outputs": [
    {
     "data": {
      "text/plain": [
       "10"
      ]
     },
     "execution_count": 24,
     "metadata": {},
     "output_type": "execute_result"
    }
   ],
   "source": [
    "Coef_for(10,1)\n"
   ]
  },
  {
   "cell_type": "code",
   "execution_count": 144,
   "id": "4e53d500-2018-4d9b-87a9-b0034740966f",
   "metadata": {},
   "outputs": [],
   "source": [
    "class polynomial:\n",
    "    def __init__(self):\n",
    "        self.coef = []\n",
    "    def __getitem__(self,idx):\n",
    "        return self.coef[idx]\n",
    "    def __len__(self):\n",
    "        return len(self.coef)\n",
    "        \n",
    "    def append(self,item):\n",
    "        return self.coef.append(item)\n",
    "    def insert(self,idx,item):\n",
    "        return self.coef.insert(idx,item)\n",
    "    def pop(self,idx):\n",
    "        return self.coef.pop(idx)\n",
    "\n",
    "    def degree(self):\n",
    "        return len(self.coef)-1\n",
    "    \n",
    "    def evaluate(self,scalar):\n",
    "        result = 0\n",
    "        for k,c in enumerate(self.coef):\n",
    "            result = result + c * (scalar)**(k)\n",
    "        return result\n",
    "    \n",
    "    def add(self,rhs): #더하기는 차수가 다를 경우를 고려해서 차수가 더 큰 식을 기준으로 더해나가다가 빈 것은 0과 더해지도록 했다.\n",
    "        self.addlist = polynomial()\n",
    "        if len(rhs) < len(self.coef):\n",
    "            for k,n in enumerate(self.coef):\n",
    "                if k>=len(rhs):\n",
    "                    self.addlist.append(n+0)\n",
    "                else:\n",
    "                    self.addlist.append(n+rhs[k])\n",
    "            \n",
    "        elif len(rhs) > len(self.coef):\n",
    "            for k,n in enumerate(rhs):\n",
    "                if k>=len(self.coef):\n",
    "                    self.addlist.append(n+0)\n",
    "                else:\n",
    "                    self.addlist.append(n+self.coef[k])\n",
    "        return self.addlist\n",
    "    \n",
    "    def subtract(self,rhs): #빼기도 마찬가지\n",
    "        self.sublist = polynomial()\n",
    "        if len(rhs) < len(self.coef):\n",
    "            for k,n in enumerate(self.coef):\n",
    "                if k>=len(rhs):\n",
    "                    self.addlist.append(n-0)\n",
    "                else:\n",
    "                    self.addlist.append(n-rhs[k])\n",
    "            \n",
    "        elif len(rhs) > len(self.coef):\n",
    "            for k,n in enumerate(rhs):\n",
    "                if k>=len(self.coef):\n",
    "                    self.addlist.append(0-n)\n",
    "                else:\n",
    "                    self.addlist.append(self.coef[k]-n)\n",
    "        return self.sublist\n",
    "    \n",
    "    def multiply(self,rhs): #곱하기는 차수가 동일 한것들끼리 곱한후, 마지막에 다 더해야하기 때문에 우선 0으로 채워진 list를 만들고 시작.\n",
    "        self.mullist = polynomial()\n",
    "        for i in range((len(self.coef)-1)+(len(rhs)-1)+1):\n",
    "            self.mullist.append(0)\n",
    "        for k,x in enumerate(self.coef): #0으로 채워진 리스트를 만들고 거기에 축적해서 더하면서 완성 시킨다.\n",
    "            for h,o in enumerate(rhs):\n",
    "                self.mullist.insert(k+h,self.mullist[k+h]+(x*o))\n",
    "                self.mullist.pop(k+h+1)\n",
    "        return self.mullist\n",
    "    \n",
    "    def display(self,name):\n",
    "        print(name,end='')\n",
    "        pk = len(self.coef)-1\n",
    "        while pk >=0:\n",
    "            if pk == 0:\n",
    "                print(self.coef[pk])\n",
    "            else:\n",
    "                print(\"%d x^%d +\"%(self.coef[pk],pk),end=' ')\n",
    "            pk -= 1"
   ]
  },
  {
   "cell_type": "code",
   "execution_count": 145,
   "id": "92858afc-2bb4-4c42-9450-d15ec97d16c8",
   "metadata": {},
   "outputs": [],
   "source": [
    "class read_poly(polynomial):\n",
    "    def __init__(self):\n",
    "        self.coef = []\n",
    "        deg = int(input('다항식의 최고 차수를 입력하시오: '))\n",
    "        d = deg\n",
    "        while d >=0:\n",
    "            c = int(input(\"    x^%d의 계수를 입력하시오 :\"%(d)))\n",
    "            d -= 1\n",
    "            self.coef.insert(0,c)\n"
   ]
  },
  {
   "cell_type": "code",
   "execution_count": 146,
   "id": "c4f516a9-76a2-48c3-955d-83eb07355ff5",
   "metadata": {
    "jp-MarkdownHeadingCollapsed": true,
    "tags": []
   },
   "outputs": [
    {
     "name": "stdin",
     "output_type": "stream",
     "text": [
      "다항식의 최고 차수를 입력하시오:  2\n",
      "    x^2의 계수를 입력하시오 : 1\n",
      "    x^1의 계수를 입력하시오 : 1\n",
      "    x^0의 계수를 입력하시오 : 1\n",
      "다항식의 최고 차수를 입력하시오:  3\n",
      "    x^3의 계수를 입력하시오 : 2\n",
      "    x^2의 계수를 입력하시오 : 2\n",
      "    x^1의 계수를 입력하시오 : 2\n",
      "    x^0의 계수를 입력하시오 : 2\n"
     ]
    },
    {
     "name": "stdout",
     "output_type": "stream",
     "text": [
      "A(x) = 1 x^2 + 1 x^1 + 1\n",
      "B(x) = 2 x^3 + 2 x^2 + 2 x^1 + 2\n",
      "C(x) = 2 x^3 + 3 x^2 + 3 x^1 + 3\n",
      "D(x) = 2 x^5 + 4 x^4 + 6 x^3 + 6 x^2 + 4 x^1 + 2\n",
      " C(2) =  37\n"
     ]
    }
   ],
   "source": [
    "a = read_poly()\n",
    "b = read_poly()\n",
    "c = a.add(b)\n",
    "d = a.multiply(b)\n",
    "\n",
    "a.display(\"A(x) = \")\n",
    "b.display(\"B(x) = \")\n",
    "c.display(\"C(x) = \")\n",
    "d.display(\"D(x) = \")\n",
    "print(\"C(2) = \",c.evaluate(2))"
   ]
  },
  {
   "cell_type": "code",
   "execution_count": 142,
   "id": "dbd6ca75-f22a-4c99-ac46-0a4567de37a6",
   "metadata": {},
   "outputs": [],
   "source": [
    "coef2 = [1,2,3,4,5]\n",
    "coef1 = [1,2,3,4]\n",
    "coef2.insert(0,10)\n",
    "\n"
   ]
  },
  {
   "cell_type": "code",
   "execution_count": 143,
   "id": "e57bf902-2a06-4366-af1f-22b7c29900e0",
   "metadata": {},
   "outputs": [
    {
     "data": {
      "text/plain": [
       "[10, 1, 2, 3, 4, 5]"
      ]
     },
     "execution_count": 143,
     "metadata": {},
     "output_type": "execute_result"
    }
   ],
   "source": [
    "coef2"
   ]
  },
  {
   "cell_type": "code",
   "execution_count": 84,
   "id": "57927dea-fd7c-4cb8-a8ab-0af62e5e1cab",
   "metadata": {},
   "outputs": [],
   "source": [
    "ry = polynomial()\n",
    "ry.append(0)"
   ]
  },
  {
   "cell_type": "code",
   "execution_count": 46,
   "id": "b3d77676-fe63-440f-9aba-f577a81f322e",
   "metadata": {},
   "outputs": [],
   "source": [
    "l = [[1,2,3],[1,2,3],[2,4,6]]"
   ]
  },
  {
   "cell_type": "code",
   "execution_count": 12,
   "id": "8c43d482-209c-4080-92d1-7ba52c4ae853",
   "metadata": {},
   "outputs": [
    {
     "data": {
      "text/plain": [
       "False"
      ]
     },
     "execution_count": 12,
     "metadata": {},
     "output_type": "execute_result"
    }
   ],
   "source": [
    "a = [1,2,3]\n",
    "b = [2,1,3]\n",
    "\n",
    "a == b\n",
    "    "
   ]
  },
  {
   "cell_type": "code",
   "execution_count": 58,
   "id": "db0963d5-7706-456b-96de-6f6a8ff538b7",
   "metadata": {},
   "outputs": [
    {
     "name": "stdout",
     "output_type": "stream",
     "text": [
      "0\n",
      "1\n",
      "2\n",
      "3\n",
      "4\n"
     ]
    }
   ],
   "source": [
    "r = []\n",
    "for x in range(len(l)):\n",
    "    for i in range(len(l[x])):\n",
    "        if i == x:\n",
    "            r.append(l[x][i])\n",
    "        elif i != x:\n",
    "            \n",
    "            \n",
    "for x in range(2*len(l)-1):\n",
    "    print(x)\n",
    "    #for i in range(x):\n",
    "    "
   ]
  },
  {
   "cell_type": "code",
   "execution_count": 10,
   "id": "87357533-45e7-4827-b2d5-ded6ca169f94",
   "metadata": {},
   "outputs": [
    {
     "name": "stdout",
     "output_type": "stream",
     "text": [
      "[0, 0, 0, 0, 0]\n",
      "[3, 11, 20, 17, 3]\n"
     ]
    }
   ],
   "source": [
    "r = []\n",
    "for i in range((len(a)-1)**2+1):\n",
    "    r.append(0)\n",
    "print(r)\n",
    "for k,x in enumerate(a):\n",
    "    for h,o in enumerate(b):\n",
    "        r[k+h] = r[k+h]+(x*o)\n",
    "        \n",
    "print(r)"
   ]
  },
  {
   "cell_type": "code",
   "execution_count": 7,
   "id": "5cf6922f-a985-4bc2-9252-2845bb04c0ac",
   "metadata": {},
   "outputs": [],
   "source": [
    "l1 = ['1','2','3']\n",
    "l2 = ['9','4','5']\n",
    "\n",
    "def a(l1,l2):\n",
    "    for i in l1:\n",
    "        for x in l2:\n",
    "            if i == x:\n",
    "                return True\n",
    "    return False"
   ]
  },
  {
   "cell_type": "code",
   "execution_count": 8,
   "id": "3be2bf1d-6992-4d86-abc7-f5b534a19567",
   "metadata": {},
   "outputs": [
    {
     "data": {
      "text/plain": [
       "False"
      ]
     },
     "execution_count": 8,
     "metadata": {},
     "output_type": "execute_result"
    }
   ],
   "source": [
    "a(l1,l2)"
   ]
  },
  {
   "cell_type": "code",
   "execution_count": 15,
   "id": "dfd57df1-3eb9-4593-977e-15d850cbaae7",
   "metadata": {},
   "outputs": [],
   "source": [
    "class Set:\n",
    "    def __init__(self):\n",
    "        self.items=[]\n",
    "    def size(self):\n",
    "        return len(self.items)\n",
    "    def display(self,msg):\n",
    "        print(msg,self.items)\n",
    "    \n",
    "    def contains(self,item):\n",
    "        return item in self.items\n",
    "    def contains(self,item):\n",
    "        for i in range(len(self.items)):\n",
    "            if self.items[i] == item:\n",
    "                return True\n",
    "        return False\n",
    "    def insert(self,elem):\n",
    "        if elem not in self.items:\n",
    "            self.items.append(elem)\n",
    "    \n",
    "    def delete(self,elem):\n",
    "        if elem in self.items:\n",
    "            self.items.remove(elem)\n",
    "            \n",
    "    def union(self,setB):\n",
    "        setC = Set()\n",
    "        setC.items = list(self.items)\n",
    "        for elem in setB.items:\n",
    "            if elem not in self.items:\n",
    "                setC.items.append(elem)\n",
    "        return setC\n",
    "    def intersect(self,setB):\n",
    "        setC = Set()\n",
    "        for elem in setB.items:\n",
    "            if elem in self.items:\n",
    "                setC.items.append(elem)\n",
    "        return setC\n",
    "    \n",
    "    def difference(self,setB):\n",
    "        setC = Set()\n",
    "        for elem in self.items:\n",
    "            if elem not in setB.items:\n",
    "                setC.items.append(elem)\n",
    "        return setC\n",
    "    \n",
    "    def proper(self,setB):\n",
    "        for elem in self.items:\n",
    "            if elem in setB.items:\n",
    "                continue\n",
    "            else:\n",
    "                return False\n",
    "        return True\n",
    "    "
   ]
  },
  {
   "cell_type": "code",
   "execution_count": 19,
   "id": "2b890fff-c999-4d77-b14e-e2545b7ba543",
   "metadata": {},
   "outputs": [
    {
     "data": {
      "text/plain": [
       "False"
      ]
     },
     "execution_count": 19,
     "metadata": {},
     "output_type": "execute_result"
    }
   ],
   "source": [
    "setA = Set()\n",
    "setA.insert('휴대폰')\n",
    "\n",
    "setB = Set()\n",
    "setB.insert('휴대1폰')\n",
    "\n",
    "setA.proper(setB)"
   ]
  },
  {
   "cell_type": "code",
   "execution_count": null,
   "id": "8976ef72-f8ef-40e2-aeb9-0e5fbc3eebaf",
   "metadata": {},
   "outputs": [],
   "source": []
  }
 ],
 "metadata": {
  "kernelspec": {
   "display_name": "Python 3 (ipykernel)",
   "language": "python",
   "name": "python3"
  },
  "language_info": {
   "codemirror_mode": {
    "name": "ipython",
    "version": 3
   },
   "file_extension": ".py",
   "mimetype": "text/x-python",
   "name": "python",
   "nbconvert_exporter": "python",
   "pygments_lexer": "ipython3",
   "version": "3.9.7"
  }
 },
 "nbformat": 4,
 "nbformat_minor": 5
}
