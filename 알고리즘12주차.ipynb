{
 "cells": [
  {
   "cell_type": "markdown",
   "id": "ca947565-4e04-420e-a9f0-079fd136aa94",
   "metadata": {},
   "source": [
    "# 그래프\n",
    ": 가장 일반화된 자료구조.\n",
    "\n",
    "객체들이 서로 복잡하게 연결되어 있는 구조\n",
    "- 정점 (Vertices) 또는 노드(node)\n",
    "- 간선 (edge) 또는 링크(link) : 정점들 간의 관계 의미\n",
    "\n",
    "<그래프의 역사>\n",
    "\n",
    "-오일러 문제(1800년대)\n",
    "* 다리를 한번만 건너서 처음 출발했던 장소로 돌아오는 문제 - 위치 : 정점(node), 다리 : 간선(edge)\n",
    "* 오일러 정리 : 모든 정점에 연결된 간선의 수가 짝수이면 오일러 경로 존재함\n",
    "\n",
    "<그래프의 종류>\n",
    "\n",
    "> 무방향 그래프 (A,B) = (B,A)\n",
    "\n",
    "> 방향 그래프 <A,B> != <B,A>\n",
    "\n",
    "> 가중치 그래프 , 네트워크 : 간선에 비용이나 가중치가 할당된 그래프\n",
    "\n",
    "> 부분 그래프\n",
    "\n",
    "(인접 정점) : 간선에 의해 직접 연결된 정점\n",
    "\n",
    "(차수) : 정점에 연결된 간선의 수\n",
    "\n",
    "-무방향 그래프 : 차수의 합 -> 간선의 두배\n",
    "\n",
    "-방향 그래프 : 진입차수, 진출차수 / 모든 진입(진출) 차수의 합은 간선의 수\n",
    "\n",
    "(그래프의 경로)\n",
    "\n",
    "-무방향 그래프의 정점 s로부터 정점 e까지의 경로\n",
    "\n",
    "-방향 그래프의 정점 s로부터 정점 e까지의 경로\n",
    "\n",
    "(경로의 길이) : 경로를 구성하는데 사용된 간선의 수\n",
    "\n",
    "(단순 경로): 경로중에서 반복되는 간선이 없는 경로\n",
    "\n",
    "(사이클) : 시작 정점과 종료 정점이 동일한 경로\n",
    "\n",
    "(연결 그래프) : 모든 정점들 사이에 경로가 존재하는 그래프\n",
    "\n",
    "(트리) : 사이클을 가지지 않는 연결 그래프\n",
    "\n",
    "(완전 그래프) : 모든 정점 간에 간선이 존재하는 그래프 / n개의 정점을 가진 무방향 완전 그래프의 간선의 수 =nX(n-1)/2"
   ]
  },
  {
   "cell_type": "markdown",
   "id": "be45a211-8bd6-4e2c-b71b-ebc6ae38ecc7",
   "metadata": {},
   "source": [
    "## 인접 행렬을 이용한 표현\n",
    "\n",
    "-인접 행렬 M을 이용\n",
    "\n",
    "-간선(i,j)가 있으면 M[i][j] = 1,또는 true\n",
    "\n",
    "-그렇지 않으면, M[i][j] = 0 또는 false\n",
    "\n",
    "-무방향 그래프 : 인접 행렬이 대칭"
   ]
  },
  {
   "cell_type": "markdown",
   "id": "25cbb7ac-4a7d-4ce4-960b-ac1c2a3c9ddb",
   "metadata": {},
   "source": [
    "## 인접 리스트를 이용한 표현\n",
    "\n",
    "-무방향 그래프 / 방향 그래프 => 연결리스트로 표현"
   ]
  },
  {
   "cell_type": "markdown",
   "id": "83b4db54-8460-431a-a4a1-5815566561f6",
   "metadata": {},
   "source": [
    "## 인접행렬과 인접 리스트의 복잡도 비교\n",
    "\n",
    "<인접행렬>\n",
    "- n^2개의 메모리 공간 필요(간선의 수 무관)\n",
    "- 조밀 그래프(dense graph)\n",
    "- 간선 유무는 M[u][v]를 조사하면 됨. => 복잡도 : O(1)\n",
    "- 정점 차수 =degree(v) : 정점 v에 해당하는 행을 조사, O(n)\n",
    "- 정점의 인접 정점을 구하는 adjacent(v) : 행의 모든 요소 조사, O(n)\n",
    "- 모든 간선의 수를 알아내려면 행렬 전체를 조사해야 하므로 n^2번의 조사가 필요 , O(n^2)\n",
    "\n",
    "<인접 리스트>\n",
    "- n개의 연결리스트 & 2e개의 노드 필요 n+2e개의 메모리 공간 필요\n",
    "- 희소 그래프(sparse graph)\n",
    "- 간선 유무는 정점 u의 차수를 du라고 한다면, 복잡도 O(du)\n",
    "- 정점 v의 차수 degree(v) : v의 연결 리스트 길이 반환 , O(dv)\n",
    "- 정점 v에 직접 연결된 모든 정점 adjacent(v) : O(dv)\n",
    "- 모든 간선의 수를 알아내려면 헤더 노드를 포함하여 모든 인접 리스트를 조사 필요 , O(n+e)"
   ]
  },
  {
   "cell_type": "code",
   "execution_count": 1,
   "id": "fe35cafa-d66e-4eac-b096-051fba293a31",
   "metadata": {},
   "outputs": [],
   "source": [
    "v = list('ABCDEFGH')\n"
   ]
  },
  {
   "cell_type": "code",
   "execution_count": 1,
   "id": "bb0ab168-07de-455a-bfc7-d962b1af66a4",
   "metadata": {},
   "outputs": [],
   "source": [
    "adjmat=[[0,1,1,0,0,0,0,0],\n",
    "       [1,0,0,1,0,0,0,0],\n",
    "       [1,0,0,1,1,0,0,0],\n",
    "       [0,1,1,0,0,1,0,0],\n",
    "       [0,0,1,0,0,0,1,1],\n",
    "       [0,0,0,1,0,0,0,0],\n",
    "       [0,0,0,0,1,0,0,1],\n",
    "       [0,0,0,0,1,0,1,0]]\n"
   ]
  },
  {
   "cell_type": "code",
   "execution_count": 3,
   "id": "e9c7e2f4-0eac-4ad8-b29a-ab2d0d611f71",
   "metadata": {},
   "outputs": [],
   "source": [
    "adjlist = [[1,2], #A의 인접정점 인덱스 \n",
    "          [0,3],  #B의 인접정점 인덱스\n",
    "          [0,3,4],#C\n",
    "          [1,2,5],#D\n",
    "          [2,6,7],#E\n",
    "          [3],    #F\n",
    "          [4,7],  #G\n",
    "          [4,6]]  #H\n"
   ]
  },
  {
   "cell_type": "code",
   "execution_count": 12,
   "id": "6bc5acdb-d5dd-487f-8254-2140949411f1",
   "metadata": {},
   "outputs": [],
   "source": [
    "graph = {'A':{'C','B'},\n",
    "        'B':{'D','A'},\n",
    "        'C':{'E','D','A'},\n",
    "        'D':{'F','C','B'},\n",
    "        'E':{'H','G','C'},\n",
    "        'F':{'D'},\n",
    "        'G':{'H','E'},\n",
    "        'H':{'G','E'}}\n"
   ]
  },
  {
   "cell_type": "code",
   "execution_count": 5,
   "id": "743e8ecd-80d5-4276-b651-ab08df0b601e",
   "metadata": {},
   "outputs": [
    {
     "data": {
      "text/plain": [
       "{'B', 'C'}"
      ]
     },
     "execution_count": 5,
     "metadata": {},
     "output_type": "execute_result"
    }
   ],
   "source": [
    "graph['A']\n"
   ]
  },
  {
   "cell_type": "markdown",
   "id": "ce212115-e65c-4bb5-8086-2036ad274169",
   "metadata": {},
   "source": [
    "## 그래프의 탐색\n",
    "\n",
    "가장 기본적인 연산\n",
    "\n",
    "-시작 정점부터 차례대로 모든 정점들을 한 번씩 방문\n",
    "\n",
    "-많은 문제들이 단순히 탐색만으로 해결됨 ex) 도로망, 전자 회로\n",
    "\n",
    "<깊이 우선 탐색>\n",
    "\n",
    ": 한방향으로 끝까지 가다가 더이상 갈 수 없게 되면 가장 가까운 갈림길로 돌아와서 다른 방향으로 다시 탐색 진행\n",
    "- 스택 필요(순환함수 호출)\n",
    "- 인접 리스트 구현\n",
    "\n",
    "<너비 우선 탐색>\n",
    "\n",
    ": 시작 정점으로부터 가까운 정점을 먼저 방문하고 멀리 떨어져 있는 정점을 나중에 방문하는 순회 방법\n",
    "- 큐를 사용하여 구현\n",
    "- 인접 리스트 구현\n",
    "\n",
    "<탐색 알고리즘 성능>\n",
    "\n",
    "- 인접 행렬 표현 : O(n^2)\n",
    "- 인접 리스트로 표현 : O(n+e) n: 정점의 수 , e: 간선의 수\n",
    "\n",
    "완전 그래프와 같은 조밀 그래프 -> 인접 행렬이 유리\n",
    "\n",
    "희소 그래프 -> 인접리스트가 유리"
   ]
  },
  {
   "cell_type": "code",
   "execution_count": 19,
   "id": "3eb106c8-fac5-4a7f-b978-a184009dbd87",
   "metadata": {},
   "outputs": [],
   "source": [
    "#깊이 우선 탐색\n",
    "\n",
    "def dfs(graph,start,visited=set()):\n",
    "    if start not in visited:\n",
    "        visited.add(start)\n",
    "        print(start,end=' ')\n",
    "        print(visited)\n",
    "        nbr = graph[start] - visited #왔던 길 visited로 다시 안가기 위해 graph[start]에서 제거해준다.\n",
    "        print(nbr)\n",
    "        for v in nbr:\n",
    "            dfs(graph,v,visited)\n",
    "            \n"
   ]
  },
  {
   "cell_type": "code",
   "execution_count": 23,
   "id": "732fb179-3d47-4925-802e-4248a0e06052",
   "metadata": {},
   "outputs": [
    {
     "name": "stdout",
     "output_type": "stream",
     "text": [
      "S B A C D "
     ]
    }
   ],
   "source": [
    "g = {'S':{'A','C','B'},\n",
    "        'A':{'S','D'},\n",
    "        'D':{'A','C','B'},\n",
    "        'C':{'S','D'},\n",
    "        'B':{'S','D'}}\n",
    "#dfs(g,'S')\n",
    "bfs(g,'S')"
   ]
  },
  {
   "cell_type": "code",
   "execution_count": 15,
   "id": "7b0a0428-31a7-49ee-8359-495e8b3a863b",
   "metadata": {},
   "outputs": [
    {
     "name": "stdout",
     "output_type": "stream",
     "text": [
      "A {'A'}\n",
      "{'B', 'C'}\n",
      "B {'B', 'A'}\n",
      "{'D'}\n",
      "D {'B', 'A', 'D'}\n",
      "{'C', 'F'}\n",
      "C {'B', 'C', 'A', 'D'}\n",
      "{'E'}\n",
      "E {'B', 'E', 'A', 'C', 'D'}\n",
      "{'G', 'H'}\n",
      "G {'G', 'B', 'E', 'A', 'C', 'D'}\n",
      "{'H'}\n",
      "H {'G', 'B', 'E', 'A', 'H', 'C', 'D'}\n",
      "set()\n",
      "F {'G', 'B', 'E', 'A', 'H', 'C', 'D', 'F'}\n",
      "set()\n"
     ]
    }
   ],
   "source": [
    "dfs(graph,'A')\n"
   ]
  },
  {
   "cell_type": "code",
   "execution_count": 22,
   "id": "a292ae36-f27a-4ef2-9554-87a849fd5f4e",
   "metadata": {},
   "outputs": [],
   "source": [
    "import collections as col\n",
    "\n",
    "def bfs(graph,start):\n",
    "    visited = set([start])\n",
    "    q = col.deque([start])\n",
    "    while q:\n",
    "        v = q.popleft() #deque\n",
    "        print(v,end=' ')\n",
    "        nbr = graph[v] - visited\n",
    "        for v in nbr:\n",
    "            visited.add(v)\n",
    "            q.append(v)\n",
    "        "
   ]
  },
  {
   "cell_type": "code",
   "execution_count": 12,
   "id": "96a32f67-a8a9-44ac-b683-14407d52649e",
   "metadata": {},
   "outputs": [
    {
     "name": "stdout",
     "output_type": "stream",
     "text": [
      "A C B D E F G H "
     ]
    }
   ],
   "source": [
    "bfs(graph,'A')"
   ]
  },
  {
   "cell_type": "markdown",
   "id": "6be282d4-3369-486c-beba-a24f8893bdbd",
   "metadata": {},
   "source": [
    "## 연결 성분 검사"
   ]
  },
  {
   "cell_type": "code",
   "execution_count": 13,
   "id": "05a325f2-c673-42f9-a358-2d388361789b",
   "metadata": {},
   "outputs": [],
   "source": [
    "def find_connected_component(graph):\n",
    "    visited = set()\n",
    "    colorList = []\n",
    "    for vtx in graph:\n",
    "        color = dfs_cc(graph,[],vtx,visited)\n",
    "        colorList.append(color)\n",
    "        \n",
    "    print('그래프 연결성분 개수 = %d'%len(colorList))\n",
    "    print(colorList)\n",
    "    \n",
    "def dfs_cc(graph,color,vertex,visited):\n",
    "    if vertex not in visited:\n",
    "        visited.add(vertex)\n",
    "        color.append(vertex)\n",
    "        nbr = graph[vertex] - visited\n",
    "        for v in nbr:\n",
    "            dfs_cc(graph,color,v, visited)\n",
    "    return color"
   ]
  },
  {
   "cell_type": "code",
   "execution_count": 14,
   "id": "f9333d01-3b1a-4a1a-bf7b-be21f505ff80",
   "metadata": {},
   "outputs": [
    {
     "name": "stdout",
     "output_type": "stream",
     "text": [
      "그래프 연결성분 개수 = 8\n",
      "[['A', 'C', 'D', 'B', 'F', 'E', 'G', 'H'], [], [], [], [], [], [], []]\n"
     ]
    }
   ],
   "source": [
    "find_connected_component(graph)\n"
   ]
  },
  {
   "cell_type": "markdown",
   "id": "86952c5b-7b01-4863-ba5f-64a64f2570f4",
   "metadata": {},
   "source": [
    "## 신장 트리\n",
    "\n",
    ": 그래프내의 모든 정점을 포함하는 트리 - 사이클을 포함하면 안됨. 간선의 수 = n-1\n",
    "- 인접 리스트 구현"
   ]
  },
  {
   "cell_type": "code",
   "execution_count": 15,
   "id": "95f7792f-dfe9-45f8-8cee-614dd5ea52f4",
   "metadata": {},
   "outputs": [],
   "source": [
    "#너비 우선\n",
    "def bfsST(graph,start):\n",
    "    visited = set([start])\n",
    "    q = col.deque([start]) # 너비 우선이기에 col 패키지를 활용해서 deque를 썼다.\n",
    "    while q:\n",
    "        v = q.popleft() #deque\n",
    "\n",
    "        nbr = graph[v] - visited\n",
    "        for u in nbr:\n",
    "            print('(',v,',',u,')',end='')\n",
    "\n",
    "            visited.add(u)\n",
    "            q.append(u)\n",
    "        "
   ]
  },
  {
   "cell_type": "code",
   "execution_count": 36,
   "id": "e0c3d670-0dbc-4d00-bbf8-809131137aee",
   "metadata": {},
   "outputs": [],
   "source": [
    "s = {'A':{'B','D','E'},\n",
    "        'B':{'A','D','E'},\n",
    "        'C':{'E','F'},\n",
    "        'D':{'A','B','E'},\n",
    "        'E':{'A','B','C','D','F'},\n",
    "        'F':{'E','C'}}"
   ]
  },
  {
   "cell_type": "code",
   "execution_count": 37,
   "id": "6d545439-8148-429c-b13a-6a071bf3613a",
   "metadata": {},
   "outputs": [
    {
     "name": "stdout",
     "output_type": "stream",
     "text": [
      "( A , B )( A , D )( A , E )( E , C )( E , F )"
     ]
    }
   ],
   "source": [
    "bfsST(s,'A')\n"
   ]
  },
  {
   "cell_type": "code",
   "execution_count": 43,
   "id": "988fde52-a116-4bdb-9283-e596e506cfa8",
   "metadata": {},
   "outputs": [],
   "source": [
    "def t_sort(vertex,graph):\n",
    "    n = len(vertex)\n",
    "    inDeg = [0]*n\n",
    "    \n",
    "    for i in range(n):\n",
    "        for j in range(n):\n",
    "            if graph[i][j]>0: #i -> j link\n",
    "                inDeg[j]+= 1\n",
    "    #여기까지는 inDeg리스트의 진입차수 값들을 저장 과정.\n",
    "    \n",
    "    vlist = []\n",
    "    for i in range(n):\n",
    "        if inDeg[i] == 0: #만약 진입차수가 없다면,\n",
    "            vlist.append(i) #방문가능하기 때문에 vlist에 추가.\n",
    "    \n",
    "    while len(vlist)>0: #\n",
    "        v = vlist.pop()\n",
    "        print(vertex[v],end = ' ')\n",
    "        for u in range(n):\n",
    "            if v != u and graph [v][u] >0: #다른점인데 v에서 u로 가는게 있다면\n",
    "                inDeg[u] -= 1 #방문을 통해 제거를 했기때문에 진입차수를 1개 뺀다.\n",
    "                if inDeg[u] == 0:\n",
    "                    vlist.append(u)\n",
    "                    "
   ]
  },
  {
   "cell_type": "code",
   "execution_count": 46,
   "id": "d70d3c98-ee02-4d79-91d5-51d6865c4691",
   "metadata": {},
   "outputs": [],
   "source": [
    "v = ['3','7','5','11','8','2','9','10']\n",
    "t = [[0,0,0,0,1,0,0,1],\n",
    "    [0,0,0,1,1,0,0,0],\n",
    "    [0,0,0,1,0,0,0,0],\n",
    "    [0,0,0,0,0,1,1,1],\n",
    "    [0,0,0,0,0,0,1,0],\n",
    "    [0,0,0,0,0,0,0,0],\n",
    "    [0,0,0,0,0,0,0,0],\n",
    "    [0,0,0,0,0,0,0,0]]"
   ]
  },
  {
   "cell_type": "code",
   "execution_count": 47,
   "id": "18fe5707-ba54-4950-bd64-a482979a616a",
   "metadata": {},
   "outputs": [
    {
     "name": "stdout",
     "output_type": "stream",
     "text": [
      "5 7 11 2 3 10 8 9 "
     ]
    }
   ],
   "source": [
    "t_sort(v,t)"
   ]
  },
  {
   "cell_type": "code",
   "execution_count": null,
   "id": "b1d5a638-9d74-4616-b6b2-fba5789915b8",
   "metadata": {},
   "outputs": [],
   "source": []
  }
 ],
 "metadata": {
  "kernelspec": {
   "display_name": "Python 3 (ipykernel)",
   "language": "python",
   "name": "python3"
  },
  "language_info": {
   "codemirror_mode": {
    "name": "ipython",
    "version": 3
   },
   "file_extension": ".py",
   "mimetype": "text/x-python",
   "name": "python",
   "nbconvert_exporter": "python",
   "pygments_lexer": "ipython3",
   "version": "3.9.7"
  }
 },
 "nbformat": 4,
 "nbformat_minor": 5
}
