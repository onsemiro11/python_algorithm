{
 "cells": [
  {
   "cell_type": "code",
   "execution_count": 9,
   "id": "f5be5304-a27f-4add-843f-bf25c5ff1e13",
   "metadata": {},
   "outputs": [],
   "source": [
    "class Stack:\n",
    "    def __init__(self):\n",
    "        self.top = []\n",
    "    def isEmpty(self):\n",
    "        return len(self.top) ==0\n",
    "    def size(self):\n",
    "        return len(self.top)\n",
    "    def clear(self): self.top = []\n",
    "    def push(self,item):\n",
    "        self.top.append(item)\n",
    "    def pop(self):\n",
    "        if not self.isEmpty():\n",
    "            return self.top.pop(-1)\n",
    "    def peek(self):\n",
    "        if not self.isEmpty():\n",
    "            return self.top[-1]\n",
    "    def __str__(self):\n",
    "        return str(self.top)\n",
    "    def display(self):\n",
    "        for e in range(len(self.top)-1,-1,-1):\n",
    "            print(self.top[e])"
   ]
  },
  {
   "cell_type": "code",
   "execution_count": 12,
   "id": "bb21b328-ebcd-453c-94e4-c0b7a11d591c",
   "metadata": {},
   "outputs": [
    {
     "name": "stdout",
     "output_type": "stream",
     "text": [
      "1\n",
      "0\n",
      "0\n",
      "0\n",
      "0\n",
      "0\n",
      "0\n",
      "0\n",
      "0\n",
      "0\n",
      "0\n",
      "0\n",
      "0\n"
     ]
    }
   ],
   "source": [
    "c = Stack()\n",
    "n = 4096\n",
    "while n>0:\n",
    "    c.push(n%2)\n",
    "    n = n//2\n",
    "while not c.isEmpty():\n",
    "    print(c.pop())"
   ]
  },
  {
   "cell_type": "code",
   "execution_count": 20,
   "id": "72004ae1-dc68-4523-829a-9e4957bc7b53",
   "metadata": {},
   "outputs": [
    {
     "name": "stdout",
     "output_type": "stream",
     "text": [
      "push [0]\n",
      "push [0, 3]\n",
      "pop [0]\n",
      "push [0, 6]\n",
      "pop [0]\n",
      "push [0, 9]\n",
      "push [0, 9, 12]\n",
      "push [0, 9, 12, 15]\n",
      "pop [0, 9, 12]\n",
      "push [0, 9, 12, 18]\n",
      "18\n",
      "12\n",
      "9\n",
      "0\n"
     ]
    }
   ],
   "source": [
    "v = Stack()\n",
    "for i in range(20):\n",
    "    if i % 3 ==0:\n",
    "        v.push(i)\n",
    "        print(\"push\",v.top)\n",
    "    elif i % 4 == 0:\n",
    "        v.pop()\n",
    "        print(\"pop\",v.top)\n",
    "v.display()"
   ]
  },
  {
   "cell_type": "code",
   "execution_count": null,
   "id": "26fd5aa7-351c-4b72-84a3-a5324b34d8a6",
   "metadata": {},
   "outputs": [],
   "source": []
  },
  {
   "cell_type": "code",
   "execution_count": 29,
   "id": "5b14db06-82cd-4b1f-9c73-72fb892a0467",
   "metadata": {},
   "outputs": [],
   "source": [
    "#왼쪽 갈호만 stack에 넣고 오른쪽 갈호와 하나씩 비교해가며 판단하는 알고리즘\n",
    "def checkBrackets(statement):\n",
    "    stack = Stack()\n",
    "\n",
    "    for ch in statement:\n",
    "        if ch in ('{','[','('):\n",
    "            stack.push(ch)\n",
    "\n",
    "        elif ch in ('}',']',')'):\n",
    "            if stack.isEmpty():\n",
    "                print(\"오류조건 2 위반\")\n",
    "                return False\n",
    "            else:\n",
    "                left = stack.pop()\n",
    "                if (ch == '}' and left != \"{\") or \\\n",
    "                    (ch == ']' and left != \"[\") or \\\n",
    "                    (ch == ')' and left != '('): # 우선 제거하고 짝이 맞지 않으면 오류조건 3으로 판단\n",
    "                    print(\"오류조건 3 위반\")\n",
    "                    return False\n",
    "    if not stack.isEmpty():\n",
    "        print(\"오류조건 1 위반\")\n",
    "    \n",
    "    return stack.isEmpty()"
   ]
  },
  {
   "cell_type": "code",
   "execution_count": 30,
   "id": "bd3f64d3-25d8-4630-96d2-c55b7a1bf885",
   "metadata": {},
   "outputs": [
    {
     "name": "stdout",
     "output_type": "stream",
     "text": [
      "{A[(i+1)] = 0} --> True\n",
      "오류조건 1 위반\n",
      "if((i==0)&&(j==0) --> False\n",
      "오류조건 3 위반\n",
      "A[(i+1]) = 0: --> False\n"
     ]
    }
   ],
   "source": [
    "str_ = (\"{A[(i+1)] = 0}\", \"if((i==0)&&(j==0)\",\"A[(i+1]) = 0:\")\n",
    "for s in str_:\n",
    "    m = checkBrackets(s)\n",
    "    print(s,\"-->\",m)"
   ]
  },
  {
   "cell_type": "code",
   "execution_count": 36,
   "id": "4afc9c38-b761-4b6e-ba39-65c82b962444",
   "metadata": {},
   "outputs": [],
   "source": [
    "def evalPostfix(expr):\n",
    "    s = Stack()\n",
    "    for token in expr:\n",
    "        if token in \"+-*/\":\n",
    "            val2 = s.pop()\n",
    "            val1 = s.pop()\n",
    "            if (token == \"+\"): s.push(val1+val2)\n",
    "            elif (token == '-'): s.push(val1-val2)\n",
    "            elif (token == \"*\"): s.push(val1*val2)\n",
    "            elif (token == \"/\"): s.push(val1 / val2)\n",
    "        else:\n",
    "            s.push(float(token))\n",
    "    \n",
    "    return s.pop()"
   ]
  },
  {
   "cell_type": "code",
   "execution_count": 37,
   "id": "040fb76b-1a41-4a29-9dea-f4496177cc06",
   "metadata": {},
   "outputs": [
    {
     "data": {
      "text/plain": [
       "['8', '2', '/', '3', '-', '3', '2', '*', '+']"
      ]
     },
     "execution_count": 37,
     "metadata": {},
     "output_type": "execute_result"
    }
   ],
   "source": [
    "exp1 = list('82/3-32*+')\n",
    "exp1"
   ]
  },
  {
   "cell_type": "code",
   "execution_count": 38,
   "id": "5282cfab-1d4a-4462-ad0b-fd92ca232880",
   "metadata": {},
   "outputs": [
    {
     "data": {
      "text/plain": [
       "7.0"
      ]
     },
     "execution_count": 38,
     "metadata": {},
     "output_type": "execute_result"
    }
   ],
   "source": [
    "evalPostfix(exp1)"
   ]
  },
  {
   "cell_type": "code",
   "execution_count": 46,
   "id": "ee0c7937-8238-4d1f-9b4b-46b2af8699e3",
   "metadata": {},
   "outputs": [],
   "source": [
    "def precedence(op):\n",
    "    if op == \"(\" or op == \")\": return 0\n",
    "    elif op == \"+\" or op ==\"-\": return 1\n",
    "    elif op == \"*\" or op == '/': return 2\n",
    "    else: return -1"
   ]
  },
  {
   "cell_type": "code",
   "execution_count": 47,
   "id": "c9678fb1-4b13-4e25-b6ff-b8582e15bfba",
   "metadata": {},
   "outputs": [],
   "source": [
    "def Infix2postfix(expr):\n",
    "    s = Stack()\n",
    "    output = []\n",
    "    for term in expr:\n",
    "        if term in \"(\":\n",
    "            s.push('(')\n",
    "        elif term in ')':\n",
    "            while not s.isEmpty():\n",
    "                op = s.pop()\n",
    "                if op=='(': break;\n",
    "                else:\n",
    "                    output.append(op)\n",
    "        elif term in \"+-*/\":\n",
    "            while not s.isEmpty():\n",
    "                op = s.peek()\n",
    "                if(precedence(term)<=precedence(op)):\n",
    "                    output.append(op)\n",
    "                    s.pop()\n",
    "                else: break\n",
    "            s.push(term)\n",
    "        else:\n",
    "            output.append(term)\n",
    "    while not s.isEmpty():\n",
    "        output.append(s.pop())\n",
    "    return output"
   ]
  },
  {
   "cell_type": "code",
   "execution_count": 41,
   "id": "c743f674-6a57-45ed-8374-81796e8d9c61",
   "metadata": {},
   "outputs": [
    {
     "name": "stdout",
     "output_type": "stream",
     "text": [
      "중위표기 :  ['8', '/', '2', '-', '3', '+', '(', '3', '*', '2', ')']\n",
      "후위표기 :  ['8', '2', '/', '3', '-', '3', '2', '*', '+']\n",
      "계산결과 :  7.0\n"
     ]
    }
   ],
   "source": [
    "infix1 = list('8/2-3+(3*2)')\n",
    "infix2 = list('1/2*4(1/4)')\n",
    "postfix1 = Infix2postfix(infix1)\n",
    "postfix2 = Infix2postfix(infix2)\n",
    "result1 = evalPostfix(postfix1)\n",
    "result2 = evalPostfix(postfix2)\n",
    "print('중위표기 : ', infix1)\n",
    "print('후위표기 : ', postfix1)\n",
    "print('계산결과 : ', result1)\n"
   ]
  },
  {
   "cell_type": "code",
   "execution_count": 64,
   "id": "dd786bc9-bea3-4555-b4a5-b61a822193a3",
   "metadata": {},
   "outputs": [],
   "source": [
    "def infix2Postfix(expr):\n",
    "    s = Stack()\n",
    "    output = []\n",
    "    for term in expr :\n",
    "        if term in '(':\n",
    "            s.push('(')\n",
    "        elif term in ')':\n",
    "            while not s.isEmpty():\n",
    "                op = s.pop()\n",
    "                if op == '(': break;\n",
    "                else:\n",
    "                    output.append(op)\n",
    "        elif term in '+-*/':\n",
    "            while not s.isEmpty():\n",
    "                op = s.peek()\n",
    "                if( precedence(term) <= precedence(op)):\n",
    "                    output.append(op)\n",
    "                    s.pop()\n",
    "                else:break\n",
    "            s.push(term)\n",
    "        else:\n",
    "            output.append(term)\n",
    "    \n",
    "    while not s.isEmpty():\n",
    "        output.append(s.pop())\n",
    "        \n",
    "    return output\n",
    "            "
   ]
  },
  {
   "cell_type": "code",
   "execution_count": 65,
   "id": "b76ce119-9b46-41eb-8a3d-42e85bcab02c",
   "metadata": {},
   "outputs": [
    {
     "name": "stdout",
     "output_type": "stream",
     "text": [
      "중위표기 :  ['8', '/', '2', '-', '3', '+', '(', '3', '*', '2', ')']\n",
      "후위표기 :  ['8', '2', '/', '3', '-', '3', '2', '*', '+']\n"
     ]
    }
   ],
   "source": [
    "infix3 = ['8', '/', '2', '-', '3', '+', '(', '3', '*', '2', ')']\n",
    "postfix3 = infix2Postfix(infix3)\n",
    "#result3 = evalPostfix(postfix3)\n",
    "print('중위표기 : ', infix3)\n",
    "print('후위표기 : ', postfix3)\n",
    "# print('계산결과 : ', result3)"
   ]
  },
  {
   "cell_type": "code",
   "execution_count": 28,
   "id": "095dbf96-6543-4a3b-82dc-f813a786f3dc",
   "metadata": {},
   "outputs": [],
   "source": [
    "maze = [list('111111'),\n",
    "       list('e00001'),\n",
    "       list('101011'),\n",
    "       list('11100x'),\n",
    "       list('111011'),\n",
    "       list('111111')]\n",
    "MAZE_SIZE = 6"
   ]
  },
  {
   "cell_type": "code",
   "execution_count": 29,
   "id": "2ad1df1f-c556-4f28-9422-2fd2d1d82992",
   "metadata": {},
   "outputs": [],
   "source": [
    "def isValidPos(x,y):\n",
    "    if x <0 or y<0 or x >= MAZE_SIZE or y >= MAZE_SIZE:\n",
    "        return False\n",
    "    else:\n",
    "        return maze[y][x] == '0' or maze[y][x] =='x'"
   ]
  },
  {
   "cell_type": "code",
   "execution_count": 30,
   "id": "7010cb4e-99cb-4e80-8f24-01f7f9ce5617",
   "metadata": {},
   "outputs": [],
   "source": [
    "def DFS():\n",
    "    stack = Stack()\n",
    "    stack.push((0,1))\n",
    "    print('DFS :')\n",
    "    \n",
    "    while not stack.isEmpty():\n",
    "        here = stack.pop()\n",
    "        print(here,end = '->')\n",
    "        (x,y) = here\n",
    "        if (maze[y][x] == 'x'):\n",
    "            return True\n",
    "        else:\n",
    "            maze[y][x]='.'\n",
    "            if isValidPos(x-1,y): stack.push((x-1,y)) #좌\n",
    "            if isValidPos(x+1,y): stack.push((x+1,y)) #우\n",
    "            if isValidPos(x,y-1): stack.push((x,y-1)) #상\n",
    "            if isValidPos(x,y+1): stack.push((x,y+1)) #하\n",
    "            #만일 여기서 상하좌우의 순서를 바꾼다면, 깊이를 탐색하는 순서가 달라졌을 것이다.\n",
    "        print('현재 스택:',stack.top)\n",
    "    return False"
   ]
  },
  {
   "cell_type": "code",
   "execution_count": 26,
   "id": "e0caf1e3-7533-4d47-ac71-bf62e8862813",
   "metadata": {},
   "outputs": [
    {
     "name": "stdout",
     "output_type": "stream",
     "text": [
      "DFS :\n",
      "(0, 1)->현재 스택: [(1, 1)]\n",
      "(1, 1)->현재 스택: [(2, 1), (1, 2)]\n",
      "(1, 2)->현재 스택: [(2, 1)]\n",
      "(2, 1)->현재 스택: [(3, 1)]\n",
      "(3, 1)->현재 스택: [(4, 1), (3, 2)]\n",
      "(3, 2)->현재 스택: [(4, 1), (3, 3)]\n",
      "(3, 3)->현재 스택: [(4, 1), (4, 3), (3, 4)]\n",
      "(3, 4)->현재 스택: [(4, 1), (4, 3)]\n",
      "(4, 3)->현재 스택: [(4, 1), (5, 3)]\n",
      "(5, 3)->"
     ]
    }
   ],
   "source": [
    "a = DFS()\n"
   ]
  },
  {
   "cell_type": "code",
   "execution_count": 31,
   "id": "c5e0d2bd-20fb-4ee9-a16c-d14e76cc9b6d",
   "metadata": {},
   "outputs": [
    {
     "name": "stdout",
     "output_type": "stream",
     "text": [
      "DFS :\n",
      "(0, 1)->현재 스택: [(1, 1)]\n",
      "(1, 1)->현재 스택: [(2, 1), (1, 2)]\n",
      "(1, 2)->현재 스택: [(2, 1)]\n",
      "(2, 1)->현재 스택: [(3, 1)]\n",
      "(3, 1)->현재 스택: [(4, 1), (3, 2)]\n",
      "(3, 2)->현재 스택: [(4, 1), (3, 3)]\n",
      "(3, 3)->현재 스택: [(4, 1), (4, 3), (3, 4)]\n",
      "(3, 4)->현재 스택: [(4, 1), (4, 3)]\n",
      "(4, 3)->현재 스택: [(4, 1), (5, 3)]\n",
      "(5, 3)-> --> 미로탐색 성공\n"
     ]
    }
   ],
   "source": [
    "result = DFS()\n",
    "if result:\n",
    "    print(' --> 미로탐색 성공')\n",
    "else:\n",
    "    print(' --> 미로탐색 실패')"
   ]
  },
  {
   "cell_type": "code",
   "execution_count": 25,
   "id": "83b16c37-0756-41ce-af81-790b6ff4f999",
   "metadata": {},
   "outputs": [],
   "source": [
    "def palindrome(sen):\n",
    "    res = Stack()\n",
    "    sen = sen.upper()\n",
    "    for s in sen:\n",
    "        if 'A'<= s <='Z':\n",
    "            res.push(s)\n",
    "    sen_l = []\n",
    "    for s in sen:\n",
    "        if 'A'<= s <='Z':\n",
    "            sen_l.insert(0,s)\n",
    "\n",
    "    if res.top == sen_l:\n",
    "        return \"회문임\"\n",
    "    else:\n",
    "        return \"회문아님\"\n",
    "    "
   ]
  },
  {
   "cell_type": "code",
   "execution_count": 26,
   "id": "b81835fa-979a-45c7-a7f8-f3d52c2d2cf1",
   "metadata": {},
   "outputs": [
    {
     "data": {
      "text/plain": [
       "'회문임'"
      ]
     },
     "execution_count": 26,
     "metadata": {},
     "output_type": "execute_result"
    }
   ],
   "source": [
    "palindrome(\"race car\")"
   ]
  },
  {
   "cell_type": "code",
   "execution_count": null,
   "id": "c6d26b4e-5b32-4a6d-87fe-90da0f16080c",
   "metadata": {},
   "outputs": [],
   "source": []
  }
 ],
 "metadata": {
  "kernelspec": {
   "display_name": "Python 3 (ipykernel)",
   "language": "python",
   "name": "python3"
  },
  "language_info": {
   "codemirror_mode": {
    "name": "ipython",
    "version": 3
   },
   "file_extension": ".py",
   "mimetype": "text/x-python",
   "name": "python",
   "nbconvert_exporter": "python",
   "pygments_lexer": "ipython3",
   "version": "3.9.7"
  }
 },
 "nbformat": 4,
 "nbformat_minor": 5
}
