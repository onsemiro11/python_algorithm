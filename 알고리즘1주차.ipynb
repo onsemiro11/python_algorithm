{
 "cells": [
  {
   "cell_type": "code",
   "execution_count": 2,
   "id": "287c5d28-18ab-4292-85b7-5ce9223c1c10",
   "metadata": {},
   "outputs": [],
   "source": [
    "def contain(bag,e):\n",
    "    return e in bag\n",
    "\n",
    "def insert(bag,e):\n",
    "    bag.append(e)\n",
    "    \n",
    "def remove(bag,e):\n",
    "    bag.remove(e)\n",
    "\n",
    "def count(bag):\n",
    "    return len(bag)\n",
    "\n",
    "def numOf(bag,item):\n",
    "    count = 0\n",
    "    for i in bag:\n",
    "        if i == item:\n",
    "            count +=1\n",
    "    return count"
   ]
  },
  {
   "cell_type": "code",
   "execution_count": 3,
   "id": "3d1c54a1-bbbc-413a-b1f6-637ad85c6aa2",
   "metadata": {},
   "outputs": [],
   "source": [
    "mybag = []\n",
    "\n",
    "insert(mybag,'휴대폰')\n",
    "insert(mybag,'휴대폰')\n",
    "insert(mybag,'휴대폰')\n",
    "insert(mybag,'휴대폰')\n"
   ]
  },
  {
   "cell_type": "code",
   "execution_count": 5,
   "id": "8aa2a19e-bfbd-44ce-a8ff-31e373219fc4",
   "metadata": {
    "tags": []
   },
   "outputs": [
    {
     "data": {
      "text/plain": [
       "4"
      ]
     },
     "execution_count": 5,
     "metadata": {},
     "output_type": "execute_result"
    }
   ],
   "source": [
    "numOf(mybag,'휴대폰')"
   ]
  },
  {
   "cell_type": "code",
   "execution_count": 3,
   "id": "a75fd28a-cba7-413a-90b5-2e0d0fc46824",
   "metadata": {},
   "outputs": [],
   "source": [
    "def a(i):\n",
    "    if i>1:\n",
    "        a(i/2)\n",
    "        a(i/2)\n",
    "    print(\"*\",end=' ')"
   ]
  },
  {
   "cell_type": "code",
   "execution_count": 4,
   "id": "f97d54ba-a0af-478a-bab1-2c5ff1a14acf",
   "metadata": {},
   "outputs": [
    {
     "name": "stdout",
     "output_type": "stream",
     "text": [
      "* * * * * * * * * * * * * * * "
     ]
    }
   ],
   "source": [
    "a(5)"
   ]
  },
  {
   "cell_type": "code",
   "execution_count": 6,
   "id": "57c45b22-4ed5-4912-8a5a-5cbf4b317ca9",
   "metadata": {},
   "outputs": [],
   "source": [
    "s1 = {1,2,3}"
   ]
  },
  {
   "cell_type": "code",
   "execution_count": 15,
   "id": "a02573dc-5505-4fa9-a7fa-2839bd88f1d2",
   "metadata": {},
   "outputs": [],
   "source": [
    "class Car:\n",
    "    def __init__(self,color,speed = 0):\n",
    "        self.color = color\n",
    "        self.speed = speed\n",
    "        \n",
    "    def speedUp(self): self.speed+=10\n",
    "    def speedDown(self): self.speed-=10\n",
    "    \n",
    "    def isEqual(self,carB):\n",
    "        if self.color == carB.color: return True\n",
    "        else: return False\n",
    "    def __eq__(self,carB): return self.color == carB.color\n",
    "\n",
    "    def __str__(self): return \"color = %s,speed = %d\"%(self.color,self.speed)"
   ]
  },
  {
   "cell_type": "code",
   "execution_count": 16,
   "id": "574f5144-1139-487b-9fe1-3e91c0eb9850",
   "metadata": {},
   "outputs": [],
   "source": [
    "class SuperCar(Car):\n",
    "    def __init__(self,color,speed=0,bTurbo = True):\n",
    "        super().__init__(color,speed)\n",
    "        self.bTurbo = bTurbo\n",
    "    \n",
    "    def setTerbo(self,bTurbo = True):\n",
    "        self.bTurbo = bTurbo\n",
    "        \n",
    "    def speedUp(self):\n",
    "        if self.bTurbo:\n",
    "            self.speed += 50\n",
    "        else:\n",
    "            super().speedUp()\n",
    "    \n",
    "    def __str__(self):\n",
    "        if self.bTurbo:\n",
    "            return \"[%s] [speed =%d] 터보모드\"%(self.color,self.speed)\n",
    "        else:\n",
    "            return \"[%s] [speed =%d] 일반모드\"%(self.color,self.speed)"
   ]
  },
  {
   "cell_type": "code",
   "execution_count": 17,
   "id": "e8a5bea6-e9b1-4df2-9600-1a54455dcd6e",
   "metadata": {},
   "outputs": [
    {
     "name": "stdout",
     "output_type": "stream",
     "text": [
      "슈퍼카:  [Gold] [speed =50] 터보모드\n"
     ]
    }
   ],
   "source": [
    "s1 = SuperCar(\"Gold\",0,True)\n",
    "s1.speedUp()\n",
    "print('슈퍼카: ',s1)"
   ]
  },
  {
   "cell_type": "code",
   "execution_count": 22,
   "id": "8d718218-7bbb-4431-af6b-a22c2bd2f257",
   "metadata": {},
   "outputs": [
    {
     "name": "stdout",
     "output_type": "stream",
     "text": [
      "{'콩나물': 4000, '갈비탕': 8500, '돈가스': 7500}\n"
     ]
    }
   ],
   "source": [
    "price = {'콩나물':4500,'갈비탕':9000,'돈가스':8000}\n",
    "\n",
    "for k in price.keys():\n",
    "    price[k] -= 500\n",
    "    \n",
    "print(price)"
   ]
  },
  {
   "cell_type": "code",
   "execution_count": 9,
   "id": "262c3abb-1fbf-4fc0-ba87-611ffff5d784",
   "metadata": {},
   "outputs": [],
   "source": [
    "items = []\n",
    "def insert(pos,elem):\n",
    "    return items.insert(pos,elem)\n",
    "def delete(pos):\n",
    "    return items.pop(pos)\n",
    "def isEmpty():\n",
    "    return len(items) == 0\n",
    "def size():\n",
    "    return len(items)\n",
    "def clear():\n",
    "    items = []\n",
    "def find(item):\n",
    "    return items.index(item)\n",
    "def sort():\n",
    "    return items.sort()\n",
    "def merge(lst):\n",
    "    return items.extend(lst)\n",
    "\n"
   ]
  },
  {
   "cell_type": "code",
   "execution_count": 10,
   "id": "293fad0c-5e92-4895-8bf8-afec80d20cf8",
   "metadata": {},
   "outputs": [],
   "source": [
    "insert(0,10)\n",
    "insert(1,20)\n",
    "insert(0,30)\n",
    "insert(2,40)\n",
    "insert(size(),50)"
   ]
  },
  {
   "cell_type": "code",
   "execution_count": 11,
   "id": "b30f27de-5af4-4e0a-9768-fc3fd2fae94a",
   "metadata": {},
   "outputs": [
    {
     "data": {
      "text/plain": [
       "[30, 10, 40, 20, 50]"
      ]
     },
     "execution_count": 11,
     "metadata": {},
     "output_type": "execute_result"
    }
   ],
   "source": [
    "items"
   ]
  },
  {
   "cell_type": "code",
   "execution_count": 12,
   "id": "e9d9ad98-298c-49b9-9af3-c066f8b96db9",
   "metadata": {},
   "outputs": [
    {
     "data": {
      "text/plain": [
       "70"
      ]
     },
     "execution_count": 12,
     "metadata": {},
     "output_type": "execute_result"
    }
   ],
   "source": [
    "insert(1,60)\n",
    "insert(2,70)\n",
    "delete(2)"
   ]
  },
  {
   "cell_type": "code",
   "execution_count": 13,
   "id": "f396a7db-62b2-45d5-83db-d03e7ae41e80",
   "metadata": {},
   "outputs": [
    {
     "data": {
      "text/plain": [
       "[30, 60, 10, 40, 20, 50]"
      ]
     },
     "execution_count": 13,
     "metadata": {},
     "output_type": "execute_result"
    }
   ],
   "source": [
    "items"
   ]
  },
  {
   "cell_type": "code",
   "execution_count": 27,
   "id": "8b69444e-8b63-4e26-91d3-6b80f92c57d3",
   "metadata": {},
   "outputs": [
    {
     "data": {
      "text/plain": [
       "2"
      ]
     },
     "execution_count": 27,
     "metadata": {},
     "output_type": "execute_result"
    }
   ],
   "source": [
    "find(50)"
   ]
  },
  {
   "cell_type": "code",
   "execution_count": 7,
   "id": "78c3f052-8056-438d-816f-18ab7efa190f",
   "metadata": {},
   "outputs": [],
   "source": [
    "\n",
    "class myList:\n",
    "    def __init__(self):\n",
    "        self.items = []\n",
    "    def insert(self,pos,elem):\n",
    "        return self.items.insert(pos,elem)\n",
    "    def delete(self,pos):\n",
    "        return self.items.pop(pos)\n",
    "    def isEmpty(self):\n",
    "        return len(self.items) == 0\n",
    "    def size(self):\n",
    "        return len(self.items)\n",
    "    def clear(self):\n",
    "        self.items = []\n",
    "    def find(self,item):\n",
    "        return self.items.index(item)\n",
    "    def sort(self):\n",
    "        return self.items.sort()\n",
    "    def merge(self):\n",
    "        return self.items.extend(lst)\n"
   ]
  },
  {
   "cell_type": "code",
   "execution_count": null,
   "id": "a97ebe1a-abbf-483d-8431-46972df49035",
   "metadata": {},
   "outputs": [],
   "source": []
  },
  {
   "cell_type": "code",
   "execution_count": 43,
   "id": "e7aed15f-2f88-4c46-b539-3927ce8af8e0",
   "metadata": {},
   "outputs": [],
   "source": [
    "class mySet:\n",
    "    def __init__(self):\n",
    "        self.items = []\n",
    "    def size(self):\n",
    "        return len(self.items)\n",
    "    def contains(self,item):\n",
    "        return item in self.items\n",
    "    def insert(self,elem):\n",
    "        if elem not in self.items:\n",
    "            self.items.append(elem)\n",
    "    def delete(self, elem):\n",
    "        if elem in self. items:\n",
    "            self.items.remove(elem)\n",
    "    def union(self,setB):\n",
    "        setC = mySet()\n",
    "        setC.items = list(self.items)\n",
    "        for elem in setB.items:\n",
    "            if elem not in self.items:\n",
    "                setC.items.append(elem)\n",
    "        return setC\n",
    "    \n",
    "    def intersect(self,setB):\n",
    "        setC = mySet()\n",
    "        for elem in setB.items:\n",
    "            if elem in self.items:\n",
    "                setC.items.append(elem)\n",
    "        return setC\n",
    "    \n",
    "    def difference(self,setB):\n",
    "        setC = mySet()\n",
    "        for elem in self.items:\n",
    "            if elem not in setB.items:\n",
    "                setC.items.append(elem)\n",
    "        return setC"
   ]
  },
  {
   "cell_type": "code",
   "execution_count": 37,
   "id": "014c3373-0b2b-4343-9cd9-d97af6ddc00a",
   "metadata": {},
   "outputs": [],
   "source": [
    "sa = mySet()\n",
    "sa.insert('python')\n",
    "sa.insert('Java')"
   ]
  },
  {
   "cell_type": "code",
   "execution_count": 38,
   "id": "dd1a3ce2-eb8d-4765-badd-a699e1921076",
   "metadata": {},
   "outputs": [
    {
     "data": {
      "text/plain": [
       "['python', 'Java']"
      ]
     },
     "execution_count": 38,
     "metadata": {},
     "output_type": "execute_result"
    }
   ],
   "source": [
    "sa.items"
   ]
  },
  {
   "cell_type": "code",
   "execution_count": 40,
   "id": "c0d03153-50c9-466a-abff-6f77188d2d4f",
   "metadata": {},
   "outputs": [],
   "source": [
    "sb = mySet()\n",
    "sb.insert('python')\n",
    "sb.insert('C++')"
   ]
  },
  {
   "cell_type": "code",
   "execution_count": 41,
   "id": "e18d0f29-ea71-47ac-8304-27fb0c6ea66a",
   "metadata": {},
   "outputs": [
    {
     "data": {
      "text/plain": [
       "['python', 'C++']"
      ]
     },
     "execution_count": 41,
     "metadata": {},
     "output_type": "execute_result"
    }
   ],
   "source": [
    "sb.items"
   ]
  },
  {
   "cell_type": "code",
   "execution_count": 45,
   "id": "f8e1935d-9981-41e8-b846-6ac0dcdde768",
   "metadata": {},
   "outputs": [
    {
     "ename": "TypeError",
     "evalue": "union() takes 1 positional argument but 2 were given",
     "output_type": "error",
     "traceback": [
      "\u001b[0;31m---------------------------------------------------------------------------\u001b[0m",
      "\u001b[0;31mTypeError\u001b[0m                                 Traceback (most recent call last)",
      "\u001b[0;32m/var/folders/vw/b3c7dks943vccln0gj5lpks40000gn/T/ipykernel_5830/1976717861.py\u001b[0m in \u001b[0;36m<module>\u001b[0;34m\u001b[0m\n\u001b[0;32m----> 1\u001b[0;31m \u001b[0msc\u001b[0m \u001b[0;34m=\u001b[0m \u001b[0msa\u001b[0m\u001b[0;34m.\u001b[0m\u001b[0munion\u001b[0m\u001b[0;34m(\u001b[0m\u001b[0msb\u001b[0m\u001b[0;34m)\u001b[0m\u001b[0;34m\u001b[0m\u001b[0;34m\u001b[0m\u001b[0m\n\u001b[0m",
      "\u001b[0;31mTypeError\u001b[0m: union() takes 1 positional argument but 2 were given"
     ]
    }
   ],
   "source": [
    "sc = sa.union(sb)\n"
   ]
  },
  {
   "cell_type": "code",
   "execution_count": 2,
   "id": "4c28c73b-a9aa-4a8c-9fb7-f3da7b210257",
   "metadata": {},
   "outputs": [
    {
     "name": "stdout",
     "output_type": "stream",
     "text": [
      "['jingo', 'lf', 'log', 'non', 'lj', 'goo', 'hmg', 'joe', 'knell', 'minim', '2020184042', '김윤수', 'mog', 'jim', 'km', 'lining', 'mingle', 'ell', 'folk', 'melon', 'ln', 'link', 'knife', 'fennel', 'loon', 'john', 'ff', 'felloe', 'liking', 'lino', 'om', 'keg', 'joke', 'no', 'hog', 'jell', 'fino', 'elfin', 'gin', 'lone', 'oh', 'gong', 'ogee', 'oi', 'jig', 'filling', 'g', 'ge', 'mn', 'femme', 'fen', 'kj', 'gene', 'online', 'mg', 'goggle', 'emf', 'loll', 'meek', 'l', 'gem', 'filing', 'infill', 'hello', 'ink', 'monk', 'kg', 'ghillie', 'elf', 'gm', 'leo', 'genie', 'hoe', 'he', 'eke', 'moll', 'gnomon', 'fm', 'lei', 'million', 'going', 'feminine', 'infilling', 'liege', 'mo', 'o', 'goon', 'hg', 'legging', 'holm', 'enjoin', 'e', 'mini', 'logging', 'kin', 'hen', 'logo', 'flee', 'inf', 'fog', 'knee', 'limn', 'jingo', 'lf', 'log', 'non', 'lj', 'goo', 'hmg', 'joe', 'knell', 'minim', 'menfolk', 'feel', 'mlle', 'ken', 'home', 'if', 'linen', 'ne', 'lo', 'knoll', 'mime', 'ooh', 'nomen', 'hill', 'kohl', 'efl', 'offline', 'lee', 'king', 'legion', 'one', 'hike', 'genome', 'neigh', 'lifelong', 'him', 'gigolo', 'fo', 'fe', 'ego']\n",
      "\n"
     ]
    },
    {
     "ename": "TypeError",
     "evalue": "mergeSort() missing 2 required positional arguments: 'start' and 'end'",
     "output_type": "error",
     "traceback": [
      "\u001b[0;31m---------------------------------------------------------------------------\u001b[0m",
      "\u001b[0;31mTypeError\u001b[0m                                 Traceback (most recent call last)",
      "\u001b[0;32m/var/folders/vw/b3c7dks943vccln0gj5lpks40000gn/T/ipykernel_45216/2609392642.py\u001b[0m in \u001b[0;36m<module>\u001b[0;34m\u001b[0m\n\u001b[1;32m     50\u001b[0m \u001b[0;34m\u001b[0m\u001b[0m\n\u001b[1;32m     51\u001b[0m \u001b[0mprint\u001b[0m\u001b[0;34m(\u001b[0m\u001b[0;34m)\u001b[0m\u001b[0;34m\u001b[0m\u001b[0;34m\u001b[0m\u001b[0m\n\u001b[0;32m---> 52\u001b[0;31m \u001b[0mmergeSort\u001b[0m\u001b[0;34m(\u001b[0m\u001b[0;34m)\u001b[0m\u001b[0;34m\u001b[0m\u001b[0;34m\u001b[0m\u001b[0m\n\u001b[0m\u001b[1;32m     53\u001b[0m \u001b[0mprint\u001b[0m\u001b[0;34m(\u001b[0m\u001b[0mwords\u001b[0m\u001b[0;34m)\u001b[0m\u001b[0;34m\u001b[0m\u001b[0;34m\u001b[0m\u001b[0m\n",
      "\u001b[0;31mTypeError\u001b[0m: mergeSort() missing 2 required positional arguments: 'start' and 'end'"
     ]
    }
   ],
   "source": [
    "words = [\n",
    "  'jingo', 'lf', 'log', 'non', 'lj', 'goo', 'hmg', 'joe', 'knell', 'minim', \n",
    "  '2020184042', '김윤수',\n",
    "  'mog', 'jim', 'km', 'lining', 'mingle', 'ell', 'folk', 'melon', 'ln', 'link', \n",
    "  'knife', 'fennel', 'loon', 'john', 'ff', 'felloe', 'liking', 'lino', 'om', 'keg', \n",
    "  'joke', 'no', 'hog', 'jell', 'fino', 'elfin', 'gin', 'lone', 'oh', 'gong', \n",
    "  'ogee', 'oi', 'jig', 'filling', 'g', 'ge', 'mn', 'femme', 'fen', 'kj', \n",
    "  'gene', 'online', 'mg', 'goggle', 'emf', 'loll', 'meek', 'l', 'gem', 'filing', \n",
    "  'infill', 'hello', 'ink', 'monk', 'kg', 'ghillie', 'elf', 'gm', 'leo', 'genie', \n",
    "  'hoe', 'he', 'eke', 'moll', 'gnomon', 'fm', 'lei', 'million', 'going', 'feminine', \n",
    "  'infilling', 'liege', 'mo', 'o', 'goon', 'hg', 'legging', 'holm', 'enjoin', 'e', \n",
    "  'mini', 'logging', 'kin', 'hen', 'logo', 'flee', 'inf', 'fog', 'knee', 'limn', \n",
    "  'jingo', 'lf', 'log', 'non', 'lj', 'goo', 'hmg', 'joe', 'knell', 'minim', \n",
    "  'menfolk', 'feel', 'mlle', 'ken', 'home', 'if', 'linen', 'ne', 'lo', 'knoll', \n",
    "  'mime', 'ooh', 'nomen', 'hill', 'kohl', 'efl', 'offline', 'lee', 'king', 'legion', \n",
    "  'one', 'hike', 'genome', 'neigh', 'lifelong', 'him', 'gigolo', 'fo', 'fe', 'ego', \n",
    "]\n",
    "\n",
    "def mergeSort(start, end): #end -Inclusive\n",
    "    if end ==None: end = len(words) -1 #end를 지정하지 않으면, end를 len(words)-1로 할당\n",
    "    if end == start : return\n",
    "    mid=(start+end)//2 #mid is included in left part\n",
    "    mergeSort(start,mid) #왼쪽\n",
    "    mergeSort(mid+1, end) #오른쪽\n",
    "    marge(start,mid,end)\n",
    "\n",
    "def marge(start, mid, end) : #mid is in left, end =inclusive in right\n",
    "    #공간복잡도 = O(n)\n",
    "    merged = []\n",
    "    l,r=start,mid+1 #\n",
    "    while l<=mid and r<=end: #\n",
    "        if words[l]<=words[r]:\n",
    "            merged+=[words[l]]\n",
    "            #merged.append(words[l])\n",
    "            l+=1\n",
    "        else: \n",
    "            merged += [words[r]]\n",
    "            r+=1\n",
    "    \n",
    "    if l<=mid: # 왼쪽 팀에 선수가 남아있다면\n",
    "        merged += words[l:mid+1] #어디에 +1을 해야하는지\n",
    "    elif r<= end: # 오른쪽 팀에 선수가 남아있다면\n",
    "        merged += words[r:end+1]\n",
    "    \n",
    "    #merged가 완성되었음 => words에 채워넣어야 한다.\n",
    "    words[start:end+1] = merged \n",
    "\n",
    "\n",
    "print(words)\n",
    "\n",
    "print()\n",
    "mergeSort()\n",
    "print(words)\n"
   ]
  },
  {
   "cell_type": "code",
   "execution_count": 2,
   "id": "b876db25-0d5d-49df-b62c-1f07eaa71d50",
   "metadata": {},
   "outputs": [
    {
     "data": {
      "text/plain": [
       "['this', 'is', 'a', 'test']"
      ]
     },
     "execution_count": 2,
     "metadata": {},
     "output_type": "execute_result"
    }
   ],
   "source": [
    "word = 'this is a test'\n",
    "word.split(' ')"
   ]
  },
  {
   "cell_type": "code",
   "execution_count": 23,
   "id": "690dc1ae-8413-4281-93de-034f8851e38e",
   "metadata": {},
   "outputs": [],
   "source": [
    "def reserve_word(word_l):\n",
    "    final =[]\n",
    "    for l in word_l:\n",
    "        s_word = l.split(' ')\n",
    "        s_word_list = []\n",
    "        for w in s_word:\n",
    "            s_word_list.insert(0,w)\n",
    "        final.append(s_word_list)\n",
    "    for k,i in enumerate(final):\n",
    "        print(\"Case #%d \"%(k+1),end='')\n",
    "        for s in final[k]:\n",
    "            print(s,end=' ')\n",
    "        print()\n",
    "        "
   ]
  },
  {
   "cell_type": "code",
   "execution_count": 25,
   "id": "593f7ef5-d9fe-473c-ad6f-bd86bda062a5",
   "metadata": {},
   "outputs": [
    {
     "name": "stdout",
     "output_type": "stream",
     "text": [
      "Case #1 test a is this \n",
      "Case #2 foobar \n",
      "Case #3 base your all \n"
     ]
    }
   ],
   "source": [
    "reserve_word(['this is a test','foobar','all your base'])"
   ]
  },
  {
   "cell_type": "code",
   "execution_count": 27,
   "id": "3749255f-469c-4c24-a394-2b18d685697f",
   "metadata": {},
   "outputs": [
    {
     "name": "stdout",
     "output_type": "stream",
     "text": [
      "[2, 3, 4]\n"
     ]
    }
   ],
   "source": [
    "a = [1,2,3,4]\n",
    "a.pop(0)\n",
    "print(a)"
   ]
  },
  {
   "cell_type": "code",
   "execution_count": 47,
   "id": "6635e449-7b0a-4fd7-9b14-916b3f13c3b5",
   "metadata": {},
   "outputs": [],
   "source": [
    "def card(num):\n",
    "    num_l = []\n",
    "    for i in range(1,num+1):\n",
    "        num_l.append(i)\n",
    "    for x in range(num):\n",
    "        num_l.pop(0)\n",
    "        if len(num_l) == 1:\n",
    "            break\n",
    "        else:\n",
    "            num_l.append(num_l[0])\n",
    "            num_l.pop(0)\n",
    "        print(num_l)\n",
    "    return num_l[0]\n",
    "        "
   ]
  },
  {
   "cell_type": "code",
   "execution_count": 49,
   "id": "f589c110-1dc4-4d0e-bee4-c184065a8016",
   "metadata": {},
   "outputs": [
    {
     "name": "stdout",
     "output_type": "stream",
     "text": [
      "[3, 4, 5, 6, 2]\n",
      "[5, 6, 2, 4]\n",
      "[2, 4, 6]\n",
      "[6, 4]\n"
     ]
    },
    {
     "data": {
      "text/plain": [
       "4"
      ]
     },
     "execution_count": 49,
     "metadata": {},
     "output_type": "execute_result"
    }
   ],
   "source": [
    "card(6)"
   ]
  },
  {
   "cell_type": "code",
   "execution_count": null,
   "id": "503c170c-f28f-4fe5-9fd2-d2683e53c3bb",
   "metadata": {},
   "outputs": [],
   "source": []
  }
 ],
 "metadata": {
  "kernelspec": {
   "display_name": "Python 3 (ipykernel)",
   "language": "python",
   "name": "python3"
  },
  "language_info": {
   "codemirror_mode": {
    "name": "ipython",
    "version": 3
   },
   "file_extension": ".py",
   "mimetype": "text/x-python",
   "name": "python",
   "nbconvert_exporter": "python",
   "pygments_lexer": "ipython3",
   "version": "3.9.7"
  }
 },
 "nbformat": 4,
 "nbformat_minor": 5
}
