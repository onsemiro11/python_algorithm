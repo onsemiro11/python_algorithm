{
 "cells": [
  {
   "cell_type": "code",
   "execution_count": 2,
   "id": "ad9bce3d-b009-4421-9020-38e3da1c6685",
   "metadata": {},
   "outputs": [],
   "source": [
    "#선택 정렬 복잡도 O(n^2)\n",
    "def selection_sort(A):\n",
    "    n = len(A)\n",
    "    for i in range(n-1):\n",
    "        least = i #중간 중계 다리\n",
    "        for j in range(i+1,n):\n",
    "            if (A[j]<A[least]):\n",
    "                least = j\n",
    "\n",
    "        A[i],A[least] = A[least],A[i]\n",
    "        printStep(A,i+1)"
   ]
  },
  {
   "cell_type": "code",
   "execution_count": 3,
   "id": "e2921f47-2ad3-44c8-99f4-efb87a502903",
   "metadata": {},
   "outputs": [],
   "source": [
    "def printStep(arr,val):\n",
    "    print(\" Step %2d = \"%val, end = '')\n",
    "    print(arr)\n",
    "    \n",
    "    "
   ]
  },
  {
   "cell_type": "code",
   "execution_count": 4,
   "id": "2594e322-5ba7-4053-8e1a-73bc90aa7498",
   "metadata": {},
   "outputs": [
    {
     "name": "stdout",
     "output_type": "stream",
     "text": [
      " Step  1 = [2, 6, 5, 4, 9, 8]\n",
      " Step  2 = [2, 4, 5, 6, 9, 8]\n",
      " Step  3 = [2, 4, 5, 6, 9, 8]\n",
      " Step  4 = [2, 4, 5, 6, 9, 8]\n",
      " Step  5 = [2, 4, 5, 6, 8, 9]\n"
     ]
    }
   ],
   "source": [
    "d = [5,6,2,4,9,8]\n",
    "selection_sort(d)"
   ]
  },
  {
   "cell_type": "code",
   "execution_count": 13,
   "id": "9551fcb0-8af3-43a6-a7b0-bce4d4139c29",
   "metadata": {},
   "outputs": [
    {
     "name": "stdout",
     "output_type": "stream",
     "text": [
      "Original: [5, 3, 8, 4, 9, 1, 6, 2, 7]\n",
      " Step  1 = [1, 3, 8, 4, 9, 5, 6, 2, 7]\n",
      " Step  2 = [1, 2, 8, 4, 9, 5, 6, 3, 7]\n",
      " Step  3 = [1, 2, 3, 4, 9, 5, 6, 8, 7]\n",
      " Step  4 = [1, 2, 3, 4, 9, 5, 6, 8, 7]\n",
      " Step  5 = [1, 2, 3, 4, 5, 9, 6, 8, 7]\n",
      " Step  6 = [1, 2, 3, 4, 5, 6, 9, 8, 7]\n",
      " Step  7 = [1, 2, 3, 4, 5, 6, 7, 8, 9]\n",
      " Step  8 = [1, 2, 3, 4, 5, 6, 7, 8, 9]\n",
      "Selection: [1, 2, 3, 4, 5, 6, 7, 8, 9]\n"
     ]
    }
   ],
   "source": [
    "data = [5,3,8,4,9,1,6,2,7]\n",
    "print(\"Original:\",data)\n",
    "selection_sort(data)\n",
    "print(\"Selection:\",data)"
   ]
  },
  {
   "cell_type": "code",
   "execution_count": 74,
   "id": "0fb80b7e-8a7e-44d1-9b7b-75b89babff0e",
   "metadata": {},
   "outputs": [],
   "source": [
    "#삽입 정렬 복잡도 : O(n^2)-최악 , O(n)-최선\n",
    "#많은 이동 필요 -> 레코드 큰 경우 불리    \n",
    "#안정된 정렬방법 (같은 값을 비교할 때 순서 안변함.) \n",
    "#대부분 정령되어 있으면 효율적\n",
    "\n",
    "def insertion_sort(A):\n",
    "    n = len(A)\n",
    "    for i in range(1,n):\n",
    "        print()\n",
    "        key = A[i] #중간 중계 다리 \n",
    "        print('key',key)\n",
    "        j = i - 1\n",
    "        while j>=0 and A[j] >key: #비교할 key값과 key이전 값을 비교하여 이전값이 더 크면\n",
    "            A[j+1] = A[j] #key위치의 값을 이전값으로 바꿔준다.(이전값과 key위치값이 같아짐)\n",
    "            print(A)\n",
    "            j-=1 #j를 앞으로 한칸씩가면서 key위치값과 비교하면서 뒤로 옮긴다.\n",
    "        A[j+1] = key #마지막에 비교를 마무리해서 다 옮기면 해당 위치에 key값으로 바꿔준다.\n",
    "        printStep(A,i)"
   ]
  },
  {
   "cell_type": "code",
   "execution_count": 75,
   "id": "f25e0b05-7b0c-46c9-bf95-1778ec10eab6",
   "metadata": {},
   "outputs": [
    {
     "name": "stdout",
     "output_type": "stream",
     "text": [
      "Original: [5, 3, 8, 4, 9, 1, 6, 2, 7]\n",
      "\n",
      "key 3\n",
      "[5, 5, 8, 4, 9, 1, 6, 2, 7]\n",
      " Step  1 = [3, 5, 8, 4, 9, 1, 6, 2, 7]\n",
      "\n",
      "key 8\n",
      " Step  2 = [3, 5, 8, 4, 9, 1, 6, 2, 7]\n",
      "\n",
      "key 4\n",
      "[3, 5, 8, 8, 9, 1, 6, 2, 7]\n",
      "[3, 5, 5, 8, 9, 1, 6, 2, 7]\n",
      " Step  3 = [3, 4, 5, 8, 9, 1, 6, 2, 7]\n",
      "\n",
      "key 9\n",
      " Step  4 = [3, 4, 5, 8, 9, 1, 6, 2, 7]\n",
      "\n",
      "key 1\n",
      "[3, 4, 5, 8, 9, 9, 6, 2, 7]\n",
      "[3, 4, 5, 8, 8, 9, 6, 2, 7]\n",
      "[3, 4, 5, 5, 8, 9, 6, 2, 7]\n",
      "[3, 4, 4, 5, 8, 9, 6, 2, 7]\n",
      "[3, 3, 4, 5, 8, 9, 6, 2, 7]\n",
      " Step  5 = [1, 3, 4, 5, 8, 9, 6, 2, 7]\n",
      "\n",
      "key 6\n",
      "[1, 3, 4, 5, 8, 9, 9, 2, 7]\n",
      "[1, 3, 4, 5, 8, 8, 9, 2, 7]\n",
      " Step  6 = [1, 3, 4, 5, 6, 8, 9, 2, 7]\n",
      "\n",
      "key 2\n",
      "[1, 3, 4, 5, 6, 8, 9, 9, 7]\n",
      "[1, 3, 4, 5, 6, 8, 8, 9, 7]\n",
      "[1, 3, 4, 5, 6, 6, 8, 9, 7]\n",
      "[1, 3, 4, 5, 5, 6, 8, 9, 7]\n",
      "[1, 3, 4, 4, 5, 6, 8, 9, 7]\n",
      "[1, 3, 3, 4, 5, 6, 8, 9, 7]\n",
      " Step  7 = [1, 2, 3, 4, 5, 6, 8, 9, 7]\n",
      "\n",
      "key 7\n",
      "[1, 2, 3, 4, 5, 6, 8, 9, 9]\n",
      "[1, 2, 3, 4, 5, 6, 8, 8, 9]\n",
      " Step  8 = [1, 2, 3, 4, 5, 6, 7, 8, 9]\n",
      "Selection: [1, 2, 3, 4, 5, 6, 7, 8, 9]\n"
     ]
    }
   ],
   "source": [
    "data = [5,3,8,4,9,1,6,2,7]\n",
    "print(\"Original:\",data)\n",
    "insertion_sort(data)\n",
    "print(\"Selection:\",data)"
   ]
  },
  {
   "cell_type": "code",
   "execution_count": 26,
   "id": "a30f935d-baa6-4690-9459-b88dc4dcd2c1",
   "metadata": {},
   "outputs": [],
   "source": [
    "#버블정렬 복잡도 O(n^2)\n",
    "#역순으로 정렬되어있는 경우 , O(n^2)\n",
    "#이미 정렬되어있는 경우, 0\n",
    "# 평균의 경우 O(n^2)\n",
    "\n",
    "def bubble_sort(A):\n",
    "    n = len(A)\n",
    "    for i in range(n-1,0,-1):\n",
    "        bChanged = False\n",
    "        for j in range(i):\n",
    "            if (A[j]>A[j+1]):\n",
    "                A[j],A[j+1] = A[j+1],A[j]\n",
    "                bChanged = True\n",
    "        if not bChanged: break\n",
    "        printStep(A,n-i)\n"
   ]
  },
  {
   "cell_type": "code",
   "execution_count": 27,
   "id": "d9620717-11a5-492d-b920-e758061f98ee",
   "metadata": {},
   "outputs": [
    {
     "name": "stdout",
     "output_type": "stream",
     "text": [
      "Original: [5, 3, 8, 4, 9, 1, 6, 2, 7]\n",
      " Step  1 = [3, 5, 4, 8, 1, 6, 2, 7, 9]\n",
      " Step  2 = [3, 4, 5, 1, 6, 2, 7, 8, 9]\n",
      " Step  3 = [3, 4, 1, 5, 2, 6, 7, 8, 9]\n",
      " Step  4 = [3, 1, 4, 2, 5, 6, 7, 8, 9]\n",
      " Step  5 = [1, 3, 2, 4, 5, 6, 7, 8, 9]\n",
      " Step  6 = [1, 2, 3, 4, 5, 6, 7, 8, 9]\n",
      "Selection: [1, 2, 3, 4, 5, 6, 7, 8, 9]\n"
     ]
    }
   ],
   "source": [
    "data = [5,3,8,4,9,1,6,2,7]\n",
    "print(\"Original:\",data)\n",
    "bubble_sort(data)\n",
    "print(\"Selection:\",data)"
   ]
  },
  {
   "cell_type": "code",
   "execution_count": 29,
   "id": "7304bbca-8011-4479-a42d-aca0a6ff8c6b",
   "metadata": {},
   "outputs": [],
   "source": [
    "def insert(self, elem):\n",
    "    if elem in self.items: return #이미 있음\n",
    "    for idx in range(len(self.items)): #삽입 위치 찾고 삽입\n",
    "        if elem < self.items[idx]:\n",
    "            self.items.insert(idx,elem)\n",
    "            return\n",
    "    self.items.append(elem)\n",
    "def __eq__(self,setB): #같은 지 확인\n",
    "    if self.size() != setB.size():\n",
    "        return False\n",
    "    for idx in range(len(self.items)):\n",
    "        if self.items[idx] != setB.items[idx]:\n",
    "            return False\n",
    "    return True\n",
    "#정렬된 리스트라면, 시간 복잡도 O(n^2)에서 O(n)로 개선\n",
    "\n",
    "    "
   ]
  },
  {
   "cell_type": "code",
   "execution_count": 30,
   "id": "882bd210-bbbc-45d0-8824-0fb6312aa9c1",
   "metadata": {},
   "outputs": [],
   "source": [
    "#개선된 합집합. 정렬된 집합이라면 O(n)\n",
    "\n",
    "def union(self, setB):\n",
    "    newSet = Set()\n",
    "    a = 0\n",
    "    b = 0\n",
    "    while a<len(self.items) and b<len(setB.items):\n",
    "        valueA = self.items[a]\n",
    "        valueB = self.items[b]\n",
    "        if valueA<valueB:\n",
    "            newSet.items.append(valueA)\n",
    "            a += 1\n",
    "        elif valueA > valueB:\n",
    "            newSet.items.append(valueB)\n",
    "            b+=1\n",
    "        else:\n",
    "            newSet.items.append(valueA)\n",
    "            a+=1\n",
    "            b+=1\n",
    "    while a<len(self.items):\n",
    "        newSet.items.append(self.items[a])\n",
    "        a+= 1\n",
    "    while bMlen(setB.items):\n",
    "        newSet.items.append(setB.items[b])\n",
    "        b+= 1\n",
    "        return newSet\n"
   ]
  },
  {
   "cell_type": "markdown",
   "id": "99e039ce-fe22-4a6e-a8e2-6dd19f17ffb6",
   "metadata": {},
   "source": [
    "탐색 : 테이블에서 원하는 탐색키를 가진 레코드를 찾는 작업\n",
    "\n",
    "맵 또는 딕셔너리 : 탐색을 위한 자료구조 / 엔트리 또는 키를 가진 레코드의 닙합\n",
    "\n",
    "엔트리 : 키(영어단어와 같은 레코드를 구분할 수 있는 탐색기)  / 값(단어의 의미와 같은 탐색키와 관련된 값)\n",
    "\n",
    "\n",
    "Map ADT  \n",
    "-  search(key) : 탐색키 key를 가진 레코드를 찾아 변환\n",
    "-  insert(entry) : 주어진 entry를 맵에 삽입\n",
    "-  delete(key) : 탐색키 key를 가진 레코드를 찾아 삭제\n",
    "\n",
    "Map 구현 방법\n",
    "* 리스트 이용 : 정렬 비정렬\n",
    "* 이진 탐색 트리 이용\n",
    "* 해싱 구조 이용"
   ]
  },
  {
   "cell_type": "code",
   "execution_count": 31,
   "id": "913b9a5f-5446-42d1-90fb-aeca3c9600d2",
   "metadata": {},
   "outputs": [],
   "source": [
    "#순차탐색  O(n)\n",
    "#정렬되지 않은 배열을 처음부터 마지막까지 하나씩 검사\n",
    "#가장 간단하고 직접적인 탐색 방법\n",
    "#평균 비교 횟수 : (n+1)/2 번 비교 최악의 경우 : n번\n",
    "\n",
    "def sequential_search(A,key,low,high):\n",
    "    for i in range(low,high+1):\n",
    "        if A[i] == key:\n",
    "            return i\n",
    "        \n",
    "    return None\n"
   ]
  },
  {
   "cell_type": "code",
   "execution_count": 32,
   "id": "e420eb0e-3da0-4960-8dbe-7a8018fd8041",
   "metadata": {},
   "outputs": [],
   "source": [
    "#이진 탐색 \n",
    "#정렬된 배열의 탐색에 적합 ( 배열의 중앙에 있는 값을 가준으로 찾고자하는 ㅅ함옥이 왼쪽 오른쪽 부분 배열에 있는지 알아내어 탐색 범위를 기반으로 줄여가며 탐색 진행)\n",
    "#정렬되어 있어야하긴 함 O(logn)\n",
    "\n",
    "def binary_search(A,key,low,high):\n",
    "    if low<= high:\n",
    "        middle = (low+high)//2\n",
    "        if key == A[middle]:\n",
    "            return middle\n",
    "        elif(key <A[middle]):\n",
    "            return binary_search(A,key,low,middle-1)\n",
    "        else:\n",
    "            return binary_search(A,key,middle+1,high)\n",
    "    return None"
   ]
  },
  {
   "cell_type": "code",
   "execution_count": 34,
   "id": "b8458486-d0b6-416f-b6af-bb783ff880e9",
   "metadata": {},
   "outputs": [],
   "source": [
    "#보간 탐색 : 탐색키가 존재할 위치를 예측하여 탐색 ex)사전 전화번호부 탐색할때 ㅎ은 뒤부터 ㄱ은 앞부\n",
    "#리스트를 불균등하게 분할하여 탐색(중간값을 활용하는 것이 아닌 비중을 활용해서 지정)\n",
    "def binary_search(A,key,low,high):\n",
    "    if low<= high:\n",
    "        middle = int(low + (high-low) * (key-A[low].key)/(A[high].key-A[low].key))\n",
    "        if key == A[middle]:\n",
    "            return middle\n",
    "        elif(key <A[middle]):\n",
    "            return binary_search(A,key,low,middle-1)\n",
    "        else:\n",
    "            return binary_search(A,key,middle+1,high)\n",
    "    return None\n"
   ]
  },
  {
   "cell_type": "markdown",
   "id": "ec8772ee-77cb-4605-8d0f-2189c08db886",
   "metadata": {},
   "source": [
    "해싱 : 키 값에 대한 산술적 연산에 의해 테이블의 주소를 계산\n",
    "\n",
    "해시 테이블 : 키 값의 연산에 의해 직접 접근이 가능한 구조\n",
    "\n",
    "해시 함수 : 탐색키를 입력받아 해시 주서 생성\n",
    "\n",
    "---\n",
    "\n",
    "충돌 : 서로 다른 키가 해시함수에 의해 같은 주소로 계산되는 상황  --> 충돌이 발생한 위치에서 항목들이 집중되는 현상(군집화 현상)\n",
    "\n",
    "오버플로우 : 충돌이 슬롯 수보다 많이 발생하는 것"
   ]
  },
  {
   "cell_type": "markdown",
   "id": "4bd497f1-608e-4c5a-b71a-c7d8b298ba30",
   "metadata": {},
   "source": [
    "선형조사에 의한 오버플로 처리\n",
    "\n",
    "삽입 연산: 충돌이 일어나면, 그 다음 칸에 저장\n",
    "\n",
    "탐색연산 : 레코드를 찾거나 레코드가 없는 버킷을 만나거나 모든 버킷을 다 검사할 때까지 진행.\n",
    "\n",
    "삭제연산 : 삭제하는 과정에서 만나는 빈 버킷을 두가지로 분류해서 사용했던 빈 버킷과 사용하지 않은 빈 버킷으로 나눈다.\n",
    "\n",
    "<선형조사 군집화 완화 방법>\n",
    "\n",
    "이차 조사법 : (h(k) +i*i)%M 의 식으로 저장 위치에 간격을 준다\n",
    "\n",
    "이중 해싱법(재해싱): 별개의 해시함수를 이용\n",
    "\n",
    "체이닝에 의한 오버플로 처리 : 하나의 버킷에 여러개의 레코드를 저장할 수 있도록 하는 방법 , 버킷을 보통 연결 리스트로 구현\n",
    "\n",
    "좋은 해시 함수의 조건 : 1. 충돌이 적어야함. 2. 함수 값이 테이블의 주소영역내에서 고르게 분포되어야함. 3. 계산이 빨라야함.\n",
    "\n",
    "<해시함수>\n",
    "- 중간제곱 함수 : 탐색키를 제곱한 다음 중간의 몇비트를 취해서 해시주소 생성\n",
    "- 비트 추출 함수 : 키를 이진수로 간주. 임의의 위치의 k개의 비트를 사용\n",
    "- 숫자 분석 방법 : 키에서 편중되지 않는 수들을 테이블의 크기에 적합하게 조합\n",
    "- 탐색키가 문자열인 경우 : 아스키 코드 사용\n"
   ]
  },
  {
   "cell_type": "code",
   "execution_count": 35,
   "id": "b08d7da5-8150-4791-83c2-b119ec24f2c8",
   "metadata": {},
   "outputs": [],
   "source": [
    "class Entry:\n",
    "    def __init__(self,key,value):\n",
    "        self.key = key\n",
    "        self.value = value\n",
    "        \n",
    "    def __str__(self):\n",
    "        return str(\"%s:%s\"%(self.key,self.value))\n",
    "    \n",
    "    "
   ]
  },
  {
   "cell_type": "code",
   "execution_count": 45,
   "id": "8fd901d4-b513-4483-a08f-f9d89b1ad6b9",
   "metadata": {},
   "outputs": [],
   "source": [
    "class SequentialMap:\n",
    "    def __init__(self):\n",
    "        self.table = []\n",
    "    def size(self): return len(self.table)\n",
    "    def display(self,msg):\n",
    "        print(msg)\n",
    "        for entry in self.table:\n",
    "            print(' ',entry)\n",
    "    def insert(self,key,value):\n",
    "        self.table.append(Entry(key,value))\n",
    "    def search(self,key):\n",
    "        pos = sequential_search(self.table,key,0,self.size()-1)\n",
    "        if pos is not None: return self.table[pos]\n",
    "        else: return None\n",
    "    def delete(self,key):\n",
    "        for i in range(self.size()):\n",
    "            if self.table[i].key == key:\n",
    "                self.table.pop(i)\n",
    "                return\n",
    "        "
   ]
  },
  {
   "cell_type": "code",
   "execution_count": 46,
   "id": "4975954d-22be-4df3-9c83-1d49c5bce56e",
   "metadata": {},
   "outputs": [
    {
     "name": "stdout",
     "output_type": "stream",
     "text": [
      "나의 단어장\n",
      "  data:자료\n",
      "  structure:구조\n",
      "  sequential search:선형 탐색\n",
      "  game:게임\n",
      "  binary search:이진 탐색\n",
      "탐색:game --> None\n",
      "탐색:over --> None\n",
      "탐색:data --> None\n",
      "나의 단어장: \n",
      "  data:자료\n",
      "  structure:구조\n",
      "  sequential search:선형 탐색\n",
      "  binary search:이진 탐색\n"
     ]
    }
   ],
   "source": [
    "map = SequentialMap()\n",
    "map.insert('data','자료')\n",
    "map.insert('structure','구조')\n",
    "map.insert('sequential search','선형 탐색')\n",
    "map.insert('game','게임')\n",
    "map.insert('binary search','이진 탐색')\n",
    "map.display('나의 단어장')\n",
    "\n",
    "print('탐색:game -->',map.search('game'))\n",
    "print('탐색:over -->',map.search('over'))\n",
    "print('탐색:data -->',map.search('data'))\n",
    "\n",
    "map.delete('game')\n",
    "map.display('나의 단어장: ')"
   ]
  },
  {
   "cell_type": "code",
   "execution_count": 55,
   "id": "a8d17b45-0da7-4ddf-b05e-e027f5ff3fb4",
   "metadata": {},
   "outputs": [],
   "source": [
    "class Node:\n",
    "    def __init__(self,elem, link=None):\n",
    "        self.data = elem\n",
    "        self.link = link"
   ]
  },
  {
   "cell_type": "code",
   "execution_count": 66,
   "id": "69db723e-cb22-47a6-85e4-e49975898b7f",
   "metadata": {},
   "outputs": [],
   "source": [
    "class HashChainMap:\n",
    "    def __init__(self,M):\n",
    "        self.table = [None] * M\n",
    "        self.M= M\n",
    "    def hashFn(self,key):\n",
    "        sum = 0\n",
    "        for c in key:\n",
    "            sum = sum + ord(c)\n",
    "        return sum % self. M\n",
    "    def insert(self,key,value):\n",
    "        idx = self.hashFn(key)\n",
    "        self.table[idx] = Node(Entry(key,value),self.table[idx])\n",
    "        entry = Entry(key,value)\n",
    "        node = Node(entry)\n",
    "        node.link = self.table[idx]\n",
    "        self.table[idx] = node\n",
    "    \n",
    "    def search(self,key):\n",
    "        idx = self.hashFn(key)\n",
    "        node = self.table[idx]\n",
    "        while node is not None:\n",
    "            if node.data.key == key:\n",
    "                return node.data\n",
    "            node = node.link\n",
    "        return None\n",
    "    \n",
    "    def delete(self,key):\n",
    "        idx = self.hashFn(key)\n",
    "        node = self.table[idx]\n",
    "        before = None\n",
    "        while node is not None:\n",
    "            if node.data.key == key:\n",
    "                if before == None:\n",
    "                    self.table[idx] = node.link\n",
    "                else:\n",
    "                    before.link = node.link\n",
    "                return\n",
    "            before = node\n",
    "            node = node.link\n",
    "            \n",
    "    def display(self,msg):\n",
    "        print(msg)\n",
    "        for idx in range(len(self.table)):\n",
    "            node = self.table[idx]\n",
    "            if node is not None:\n",
    "                print('[%2d]->'%idx,end ='')\n",
    "                while node is not None:\n",
    "                    print(node.data,end = ' -> ')\n",
    "                    node = node.link\n",
    "                print()"
   ]
  },
  {
   "cell_type": "code",
   "execution_count": 67,
   "id": "a29b282d-d3f5-495a-ac94-7a781b2409f9",
   "metadata": {},
   "outputs": [
    {
     "name": "stdout",
     "output_type": "stream",
     "text": [
      "나의 단어장\n",
      "[ 0]->game:게임 -> game:게임 -> sequential search:선형 탐색 -> sequential search:선형 탐색 -> data:자료 -> data:자료 -> \n",
      "[ 2]->binary search:이진 탐색 -> binary search:이진 탐색 -> \n",
      "[ 4]->structure:구조 -> structure:구조 -> \n",
      "탐색:game --> game:게임\n",
      "탐색:over --> None\n",
      "탐색:data --> data:자료\n",
      "나의 단어장: \n",
      "[ 0]->game:게임 -> sequential search:선형 탐색 -> sequential search:선형 탐색 -> data:자료 -> data:자료 -> \n",
      "[ 2]->binary search:이진 탐색 -> binary search:이진 탐색 -> \n",
      "[ 4]->structure:구조 -> structure:구조 -> \n"
     ]
    }
   ],
   "source": [
    "map = HashChainMap(5)\n",
    "map.insert('data','자료')\n",
    "map.insert('structure','구조')\n",
    "map.insert('sequential search','선형 탐색')\n",
    "map.insert('game','게임')\n",
    "map.insert('binary search','이진 탐색')\n",
    "map.display('나의 단어장')\n",
    "\n",
    "print('탐색:game -->',map.search('game'))\n",
    "print('탐색:over -->',map.search('over'))\n",
    "print('탐색:data -->',map.search('data'))\n",
    "\n",
    "map.delete('game')\n",
    "map.display('나의 단어장: ')"
   ]
  },
  {
   "cell_type": "code",
   "execution_count": 57,
   "id": "dfadf562-b1c5-4b07-b7d9-d52bf0978129",
   "metadata": {},
   "outputs": [
    {
     "name": "stdout",
     "output_type": "stream",
     "text": [
      "나의 단어장 :\n",
      "{'data': '자료', 'structure': '구조', 'sequential search': '선형 탐색', 'game': '게임', 'binary search': '이진 탐색'}\n",
      "탐색:game -->  게임\n",
      "탐색:data -->  자료\n",
      "나의 단어장\n",
      "{'data': '자료', 'structure': '구조', 'sequential search': '선형 탐색', 'binary search': '이진 탐색'}\n"
     ]
    }
   ],
   "source": [
    "d = {}\n",
    "d['data'] = '자료'\n",
    "d['structure'] = '구조'\n",
    "d['sequential search'] = '선형 탐색'\n",
    "d['game'] = '게임'\n",
    "d['binary search'] = '이진 탐색'\n",
    "print('나의 단어장 :')\n",
    "print(d)\n",
    "\n",
    "if d.get('game'): print('탐색:game --> ',d['game'])\n",
    "if d.get('over'): print('탐색:over --> ',d['over'])\n",
    "if d.get('data'): print('탐색:data --> ',d['data'])\n",
    "\n",
    "d.pop('game')\n",
    "print('나의 단어장')\n",
    "print(d)"
   ]
  },
  {
   "cell_type": "code",
   "execution_count": null,
   "id": "e2fa45ee-92a5-4ef7-8d8c-a7c6d2e2e9db",
   "metadata": {},
   "outputs": [],
   "source": []
  }
 ],
 "metadata": {
  "kernelspec": {
   "display_name": "Python 3 (ipykernel)",
   "language": "python",
   "name": "python3"
  },
  "language_info": {
   "codemirror_mode": {
    "name": "ipython",
    "version": 3
   },
   "file_extension": ".py",
   "mimetype": "text/x-python",
   "name": "python",
   "nbconvert_exporter": "python",
   "pygments_lexer": "ipython3",
   "version": "3.9.7"
  }
 },
 "nbformat": 4,
 "nbformat_minor": 5
}
