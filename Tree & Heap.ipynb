{
 "cells": [
  {
   "cell_type": "code",
   "execution_count": 31,
   "id": "621c2682-42ee-40f3-94d9-8f0e51d7e0e8",
   "metadata": {},
   "outputs": [
    {
     "name": "stdin",
     "output_type": "stream",
     "text": [
      " 4\n",
      " 1\n",
      " 3\n",
      " 4\n",
      " 6\n"
     ]
    },
    {
     "name": "stdout",
     "output_type": "stream",
     "text": [
      "2\n"
     ]
    }
   ],
   "source": [
    "n = int(input())\n",
    "s_l = []\n",
    "for x in range(n):\n",
    "    s_l.append(int(input()))\n",
    "    print('',end='')\n",
    "count =0\n",
    "for i in s_l:\n",
    "    if i % 2 ==0:\n",
    "        count += 1\n",
    "print(count)"
   ]
  },
  {
   "cell_type": "markdown",
   "id": "15fe4c58-6823-42d6-ac8c-e89526d20cc6",
   "metadata": {
    "jp-MarkdownHeadingCollapsed": true,
    "tags": []
   },
   "source": [
    "트리의 차수 : 가장 큰 노드(루트 노드)의 차수\n",
    "\n",
    "노드의 차수 : 자식 노드의 개수\n",
    "\n",
    "단말 노드 : 자식 노드 X\n",
    "\n",
    "레벨 : 몇번째 층? 위에서 부터 레벨 1 ~~\n",
    "\n",
    "---\n",
    "# 이진 트리 : 모든 노드가 2개의 서브 트리를 갖는 트리 (서브 트리는 공집합이거나 이진트리. / 순환적으로 정의 됨.) \n",
    "\n",
    "포화 이진 트리 : 트리의 각 레벨에 노드가 꽉차이쓴 이진트리 - 온전한 삼각형 형태\n",
    "\n",
    "완전 이진 트리 : 높이가 h일때 레벨 1부터 h-1까지는 노드가 모두 채워지고 , 마지막 레벨 h에서는 노드가 순서대로 채워짐.- 오른쪽 아래만 뚫려있는 형태\n",
    "\n",
    "(이진 트리의 성질)\n",
    "- 노드의 개수가 n개면 간선의 개수는 n-1개\n",
    "- 높이가 h이면 h~2^h-1개의 노드를 가짐\n",
    "- (중요!!) n개 노드의 이진 트리 높이 : [log2(n+1)] ~ n\n",
    "\n",
    "이진 트리의 표현 : 배열 표현법 (배열에서 0자리 사용 X)\n",
    "\n",
    "> 노드 i의 부모 노드 인덱스 = i/2\n",
    "\n",
    "> 노드 i의 왼쪽 자식 노드 인덱스 = 2 * i\n",
    "\n",
    "> 노드 i의 오른쪽 자식 노드 인덱스 = 2 * i + 1"
   ]
  },
  {
   "cell_type": "code",
   "execution_count": 2,
   "id": "cbc7b4c9-5c28-4176-ad39-d745f270e744",
   "metadata": {},
   "outputs": [],
   "source": [
    "class TNode:\n",
    "    def __init__(self,data,left,right):\n",
    "        self.data = data\n",
    "        self.left = left\n",
    "        self.right = right"
   ]
  },
  {
   "cell_type": "code",
   "execution_count": 3,
   "id": "d069eae4-9366-4ece-8811-5b9d801c3924",
   "metadata": {},
   "outputs": [],
   "source": [
    "d = TNode('D',None,None)\n",
    "e = TNode('E',None,None)\n",
    "b = TNode('B',d,e)\n",
    "f = TNode('F',None,None)\n",
    "c = TNode('C',f,None)\n",
    "root = TNode('A',b,c)"
   ]
  },
  {
   "cell_type": "markdown",
   "id": "7a7335e0-596d-478b-8d79-b6560112b15b",
   "metadata": {},
   "source": [
    "## 순회\n",
    "\n",
    "- 트리에 속하는 모든 노드를 한 번씩 방문하는 것\n",
    "- 선형 자료구조는 순회가 단순\n",
    "- 트리는 다양한 방법이 있음\n",
    "\n",
    "<전위 순회>\n",
    ": 루트 -> 왼쪽 서브 트리 -> 오른쪽 서브 트리 ex) 노드의 레벨 계산 , 구조화된 문서 출력\n",
    "\n",
    "<중위 순회>\n",
    ": 왼쪽 서브트리 -> 루트 -> 오른쪽 서브트리 ex)정렬\n",
    "\n",
    "<후위 순회>\n",
    ": 왼쪽 서브트리 -> 오른쪽 서브트리 -> 루트 ex) 폴더 용량 계산\n",
    "\n",
    "<레벨 순회>\n",
    ": 노드를 레벨 순으로 검사하는 순회 방법\n",
    "\n",
    "-큐를 사용해 구현 , 순환을 사용하지 않음.\n"
   ]
  },
  {
   "cell_type": "code",
   "execution_count": 4,
   "id": "dfd5cf9e-001d-4bbf-bd61-087d9a90d802",
   "metadata": {},
   "outputs": [],
   "source": [
    "def preorder(n):\n",
    "    if n is not None:\n",
    "        print(n.data,end=' ')\n",
    "        preorder(n.left)\n",
    "        preorder(n.right)\n",
    "        \n",
    "def inorder(n):\n",
    "    if n is not None:\n",
    "        inorder(n.left)\n",
    "        print(n.data,end = ' ')\n",
    "        inorder(n.right)\n",
    "        \n",
    "def postorder(n):\n",
    "    if n is not None:\n",
    "        postorder(n.left)\n",
    "        postorder(n.right)\n",
    "        print(n.data,end = ' ')\n",
    "        "
   ]
  },
  {
   "cell_type": "code",
   "execution_count": 5,
   "id": "631881fe-c2bd-4a3a-8e47-37df017f49e4",
   "metadata": {},
   "outputs": [
    {
     "name": "stdout",
     "output_type": "stream",
     "text": [
      "A B D E C F \n",
      "D B E A F C \n",
      "D E B F C A \n"
     ]
    }
   ],
   "source": [
    "preorder(root)\n",
    "print()\n",
    "inorder(root)\n",
    "print()\n",
    "postorder(root)\n",
    "print()"
   ]
  },
  {
   "cell_type": "code",
   "execution_count": 19,
   "id": "dbafc766-e7b8-48c8-9bc1-1bad1a2125dc",
   "metadata": {},
   "outputs": [],
   "source": [
    "#p163 circular queue\n",
    "#p166 code\n",
    "\n",
    "MAX_QUEUE = 10\n",
    "class CircularQueue:\n",
    "    def __init__(self):\n",
    "        self.front = 0 #최근에 삭제된 자리(값이 0)\n",
    "        self.rear = 0  #최근에 추가된 자리(값이 최근 추가된 값)\n",
    "        self.items = [None] *MAX_QUEUE\n",
    "    \n",
    "    def isEmpty(self):\n",
    "        return self.front == self.rear\n",
    "    \n",
    "    def isFull(self):\n",
    "        return self.front == (self.rear +1) % MAX_QUEUE #\n",
    "    \n",
    "    def clear(self):\n",
    "        self.front = self.rear\n",
    "    \n",
    "    def enqueue(self, item):\n",
    "        if not self.isFull(): #계속 추가하다가 다 채워지면, 아래 코드 실행하지 않는다.\n",
    "            self.rear = (self.rear+1) % MAX_QUEUE #한칸 앞으로 가는 코드\n",
    "            self.items[self.rear] = item #한칸 앞으로 가진 rear위치에 item 값으로 바꾼다.\n",
    "    def dequeue(self):\n",
    "        if not self.isEmpty(): #계속 삭제하다가 다 사라지면, 아래 코드 실행하지 않는다.\n",
    "            self.front = (self.front+1) %MAX_QUEUE\n",
    "\n",
    "            return self.items[self.front]\n",
    "    \n",
    "    def peek(self):\n",
    "        if not self.isEmpty():\n",
    "            return self.items[(self.front+1)%MAX_QUEUE]\n",
    "    \n",
    "    def size(self):\n",
    "        return (self.rear - self.front +MAX_QUEUE) % MAX_QUEUE\n",
    "    \n",
    "    def display(self):\n",
    "        out = []\n",
    "        if self.front < self.rear:\n",
    "            out = self.items[self.front+1 : self.rear+1] #front는 빈칸 때문에 +1 , rear+!은 리스트 인덱스 때문에\n",
    "        else:\n",
    "            out = self.items[self.front+1:MAX_QUEUE]+self.items[0:self.rear+1] #front에 1을 더하는 것은 front는 방금삭제된 자리인 공백이기 때문, rear에 1을 더한것은 list의 인덱싱 특성때문에\n",
    "        print('f:%s,r=%d, ==> '%(self.front,self.rear),out)\n",
    "        "
   ]
  },
  {
   "cell_type": "code",
   "execution_count": 20,
   "id": "0c8c875c-d01b-431e-b562-3b85d1f79835",
   "metadata": {},
   "outputs": [],
   "source": [
    "def levelorder(root):\n",
    "    queue = CircularQueue()\n",
    "    queue.enqueue(root)\n",
    "    while not queue.isEmpty():\n",
    "        n = queue.dequeue()\n",
    "        if n is not None:\n",
    "            print(n.data,end = ' ')\n",
    "            queue.enqueue(n.left)\n",
    "            queue.enqueue(n.right)"
   ]
  },
  {
   "cell_type": "code",
   "execution_count": 6,
   "id": "bcb67d7d-25dc-4b05-b707-156afb6ce900",
   "metadata": {},
   "outputs": [],
   "source": [
    "def count_node(n):\n",
    "    if n is None:\n",
    "        return 0\n",
    "    else:\n",
    "        return 1+count_node(n.left)+count_node(n.right)\n",
    "    \n",
    "def count_leaf(n):\n",
    "    if n is None:\n",
    "        return 0\n",
    "    elif n.left is None and n.right is None:\n",
    "        return 1\n",
    "    else:\n",
    "        return count_leaf(n.left) + count_leaf(n.right)\n",
    "    "
   ]
  },
  {
   "cell_type": "code",
   "execution_count": 86,
   "id": "18f612dc-c8ea-4f6d-a15d-64e09f61cecd",
   "metadata": {},
   "outputs": [],
   "source": [
    "def calc_height(n):\n",
    "    if n is None:\n",
    "        return 0\n",
    "    global hLeft\n",
    "    global hRight\n",
    "    hLeft = calc_height(n.left)\n",
    "    hRight = calc_height(n.right)\n",
    "\n",
    "    if (hLeft > hRight):\n",
    "        return hLeft+1\n",
    "    else:\n",
    "        return hRight+1\n",
    "def calc_height_diff(n):\n",
    "    if hLeft > hRight:\n",
    "        return hLeft-hRight\n",
    "    else:\n",
    "        return hRight - hLeft\n",
    "\n",
    "    "
   ]
  },
  {
   "cell_type": "code",
   "execution_count": 87,
   "id": "03280868-8015-4b6a-bde0-f656e9aaa25a",
   "metadata": {},
   "outputs": [
    {
     "name": "stdout",
     "output_type": "stream",
     "text": [
      "\n",
      " In-Order : D B E A F C \n",
      " Pre-Order : A B D E C F \n",
      " Post-Order : D E B F C A \n",
      "Level-Order : A B C D E F \n",
      " 노드의 개수 = 6개\n",
      " 단말의 개수 = 6개\n",
      " 트리의 개수 = 3\n",
      "1\n"
     ]
    }
   ],
   "source": [
    "d = TNode('D',None,None)\n",
    "e = TNode('E',None,None)\n",
    "b = TNode('B',d,e)\n",
    "f = TNode('F',None,None)\n",
    "c = TNode('C',f,None)\n",
    "root = TNode('A',b,c)\n",
    "\n",
    "print('\\n In-Order : ',end = '')\n",
    "inorder(root)\n",
    "print('\\n Pre-Order : ',end = '')\n",
    "preorder(root)\n",
    "print('\\n Post-Order : ',end = '')\n",
    "postorder(root)\n",
    "print('\\nLevel-Order : ',end = '')\n",
    "levelorder(root)\n",
    "print()\n",
    "\n",
    "print(' 노드의 개수 = %d개'%count_node(root))\n",
    "print(' 단말의 개수 = %d개'%count_node(root))\n",
    "print(' 트리의 개수 = %d'%calc_height(root))\n",
    "print(calc_height_diff(root))\n"
   ]
  },
  {
   "cell_type": "markdown",
   "id": "0eb64bd7-3893-4180-b509-0c5956b2430c",
   "metadata": {},
   "source": [
    "# 힙 트리 - 완전이진트리 기반의 자료구조\n",
    "\n",
    "여러 개의 값들 중에서 자장 큰 값을 빠르게 찾아내도록 만들어진 자료 구조\n",
    "\n",
    "V 큰 값이 상위 레벨에 있고 작은 값이 하위 레벨에 있도록 하는 정도의 느슨한 정렬 상태만을 유지.\n",
    "\n",
    ">최대 힙(max heap): 부모 노드의 키 값이 자식 노드의 키 값보다 크거나 같은 완전이진트리\n",
    "\n",
    ">최소 힙(min heap): 부모 노드의 키 값이 자식 노드의 키 값보다 작거나 같은 완전이진트리\n",
    "\n",
    "(삽입 연산)\n",
    "\n",
    "Upheap(=sift-up) : 회사에서 신입 사원이 들어오면 일단 말단 위치에 앉힘 / 신입 사원의 능력을 봐서 위로 승진시킴  -시간 복잡도 : O(logn)<-루트 노드까지 올라가야하므로 비교 및 이동 연산 필요\n",
    "\n",
    "(삭제 연산)\n",
    "\n",
    "Downheap(=sift-down) : 강등시킴 - 시간 복잡도 : O(logn)<-가장 아래 레벨까지 내려가야 하므로 트리 높이 만큼의 시간이 걸림"
   ]
  },
  {
   "cell_type": "code",
   "execution_count": 16,
   "id": "d68a3b3b-8e7b-4bf3-b014-7aae51694f7d",
   "metadata": {},
   "outputs": [],
   "source": [
    "class MaxHeap:\n",
    "    def __init__(self):\n",
    "        self.heap = []\n",
    "        self.heap.append(0)\n",
    "    \n",
    "    def size(self): return len(self.heap) -1\n",
    "    def isEmpty(self): return self.size() ==0\n",
    "    def Parent(self,i): return self.heap[i//2]\n",
    "    def Left(self,i): return self.heap[i*2]\n",
    "    def Right(self, i): return self.heap[i*2+1]\n",
    "    def display(self,msg = '힙트리:'):\n",
    "        print(msg,self.heap[1:])\n",
    "    def insert(self, n):\n",
    "        self.heap.append(n)\n",
    "        i = self.size() # 마지막 인덱스 추출\n",
    "        while (i != 1 and n> self.Parent(i)): #루트 노드아래까지만 돌고, insert하는 값이 parent값보다 클때까지\n",
    "            self.heap[i] = self.Parent(i) #parent 값을 자식 노드 값에 붙여넣는다.\n",
    "            i = i //2 #부모 노드로 올라간다.\n",
    "        self.heap[i] = n #더이상 입력값 n이 크지 않다면 마지막 실행된 node에 n을 넣어준다.\n",
    "    def delete(self):\n",
    "        parent = 1\n",
    "        child = 2\n",
    "        if not self.isEmpty(): #트리가 형성돼있다면,\n",
    "            hroot = self.heap[1] #0자리는 사용안해서 인덱스 1을 삭제하는데 retrun하기 위해 복사진행.\n",
    "            last = self.heap[self.size()] \n",
    "            while (child <= self.size()): #트리 사이즈까지 진행하는데 단말노드까지 모두 거치도록 함.\n",
    "                print(self.heap)\n",
    "                if child < self.size() and self.Left(parent)<self.Right(parent): #만약 왼쪽이 더 작으면 오른쪽으로 가야하기 때문에\n",
    "                    # print('L :',self.Left(parent))\n",
    "                    # print('R :',self.Right(parent))\n",
    "                    child += 1 #child에 1을 더함.\n",
    "                if last >= self.heap[child]: #child 인덱스 위치의 값이 last보다 작으면 그만 중단한다 = 다 정렬됐다는 뜻.\n",
    "                    break;\n",
    "                self.heap[parent] = self.heap[child]\n",
    "                # print(self.heap[child])\n",
    "                # print(self.heap)\n",
    "                parent = child\n",
    "                child *= 2\n",
    "            self.heap[parent]=last\n",
    "            self.heap.pop(-1)\n",
    "            return hroot\n",
    "                "
   ]
  },
  {
   "cell_type": "markdown",
   "id": "993c953a-20c3-42a1-b3e5-46cafe90f37d",
   "metadata": {},
   "source": [
    "삭제 연산을 진행할때 자식노드중 큰 쪽으로 이동하는 이유 \n",
    "\n",
    ": while 문에서 break를 진행 할때 자식 노드중 가장 큰 값고 비교하여 break여부를 결정해야하기 때문."
   ]
  },
  {
   "cell_type": "code",
   "execution_count": 18,
   "id": "80ac634d-a245-4f58-8e91-2565bb7954a1",
   "metadata": {},
   "outputs": [
    {
     "name": "stdout",
     "output_type": "stream",
     "text": [
      "[삽입 연산]:  [10, 40, 30, 5, 12, 6, 15, 9, 60]\n",
      "[10삽입 후]: [10]\n",
      "[40삽입 후]: [40, 10]\n",
      "[30삽입 후]: [40, 10, 30]\n",
      "[5삽입 후]: [40, 10, 30, 5]\n",
      "[12삽입 후]: [40, 12, 30, 5, 10]\n",
      "[6삽입 후]: [40, 12, 30, 5, 10, 6]\n",
      "[15삽입 후]: [40, 12, 30, 5, 10, 6, 15]\n",
      "[9삽입 후]: [40, 12, 30, 9, 10, 6, 15, 5]\n",
      "[60삽입 후]: [60, 40, 30, 12, 10, 6, 15, 5, 9]\n",
      "[0, 60, 40, 30, 12, 10, 6, 15, 5, 9]\n",
      "[0, 40, 40, 30, 12, 10, 6, 15, 5, 9]\n",
      "[0, 40, 12, 30, 12, 10, 6, 15, 5, 9]\n",
      "[삭제 후]: [40, 12, 30, 9, 10, 6, 15, 5]\n"
     ]
    }
   ],
   "source": [
    "heap = MaxHeap()\n",
    "data = [2,5,4,8,9,3,7,3]\n",
    "d = [10,40,30,5,12,6,15,9,60]\n",
    "print('[삽입 연산]: ',d)\n",
    "for elem in d:\n",
    "    heap.insert(elem)\n",
    "    heap.display(f'[{elem}삽입 후]:')\n",
    "heap.delete()\n",
    "# heap.display(' ')\n",
    "heap.display('[삭제 후]:')\n",
    "# heap.delete()\n",
    "# heap.display('[삭제 후]:')"
   ]
  },
  {
   "cell_type": "code",
   "execution_count": 3,
   "id": "48d4fc16-b70d-47d1-b51c-9b06018f607d",
   "metadata": {},
   "outputs": [
    {
     "name": "stdout",
     "output_type": "stream",
     "text": [
      "[2, 6, 3, 9, 15, 18, 7, 14, 7]\n",
      "[2]\n",
      "[2, 6]\n",
      "[2, 6, 3]\n",
      "[2, 6, 3, 9]\n",
      "[2, 6, 3, 9, 15]\n",
      "[2, 6, 3, 9, 15, 18]\n",
      "[2, 6, 3, 9, 15, 18, 7]\n",
      "[2, 6, 3, 9, 15, 18, 7, 14]\n",
      "[2, 6, 3, 7, 15, 18, 7, 14, 9]\n",
      "[2, 6, 3, 7, 15, 18, 7, 14, 9]\n"
     ]
    }
   ],
   "source": [
    "#min heap은 heapq 패키지에서 우선순위 큐로 구현 가능\n",
    "\n",
    "import heapq\n",
    "\n",
    "arr = [2,6,3,9,15,18,7,14,7]\n",
    "# arr = [3,7,6,12,13,15,20]\n",
    "a = []\n",
    "print(arr)\n",
    "\n",
    "# heapq.heapify(arr)\n",
    "# print(arr)\n",
    "# print(heapq.heappop(arr))\n",
    "# print(arr)\n",
    "for i in arr:\n",
    "    heapq.heappush(a, i)\n",
    "    print(a)\n",
    "# heapq.heappop(a)\n",
    "print(a)"
   ]
  },
  {
   "cell_type": "markdown",
   "id": "4e01b8b1-450c-436b-b255-561ba8a9b29d",
   "metadata": {},
   "source": [
    "# 우선순위 큐 - 가장 좋은 구현 방법 : 힙\n",
    "\n",
    "(삽입 연산)\n",
    "\n",
    "- 정렬 X 배열 - 삽입 : O(1) / 삭제 : O(n) / 탐색 O(n)\n",
    "- 정렬 O 배열 - 삽입 : O(n) / 삭제 : O(1) / 탐색 O(1)\n",
    "- 힙        - 삽입 : O(logn) / 삭제 : O(logn) / 탐색 O(1)"
   ]
  },
  {
   "cell_type": "code",
   "execution_count": 48,
   "id": "a5bdb506-cb8c-4aaf-8b62-4ac07cae36e7",
   "metadata": {},
   "outputs": [],
   "source": [
    "#313\n",
    "\n",
    "def mystery(p):\n",
    "    if p == None:\n",
    "        return 0\n",
    "    elif p.left == None and p.right == None:\n",
    "        return p.data\n",
    "    else:\n",
    "        return max(mystery(p.left),mystery(p.right))\n",
    "    \n"
   ]
  },
  {
   "cell_type": "code",
   "execution_count": 49,
   "id": "f083dbce-4759-49ca-8272-5163dd0817c1",
   "metadata": {},
   "outputs": [],
   "source": [
    "_4 = TNode(4,None,None)\n",
    "_2 = TNode(2,None,None)\n",
    "_8 = TNode(8,None,None)\n",
    "_6 = TNode(6,None,None)\n",
    "_5 = TNode(5,_4,_2)\n",
    "_1 = TNode(1,_8,_6)\n",
    "root = TNode(3,_5,_1)"
   ]
  },
  {
   "cell_type": "code",
   "execution_count": 50,
   "id": "b13e7bd2-a400-4fc6-bfab-8c75fe54b931",
   "metadata": {},
   "outputs": [
    {
     "data": {
      "text/plain": [
       "8"
      ]
     },
     "execution_count": 50,
     "metadata": {},
     "output_type": "execute_result"
    }
   ],
   "source": [
    "mystery(root)"
   ]
  },
  {
   "cell_type": "code",
   "execution_count": null,
   "id": "441c8270-6719-45dc-a8c3-f2cd9cefecae",
   "metadata": {},
   "outputs": [],
   "source": []
  }
 ],
 "metadata": {
  "kernelspec": {
   "display_name": "Python 3 (ipykernel)",
   "language": "python",
   "name": "python3"
  },
  "language_info": {
   "codemirror_mode": {
    "name": "ipython",
    "version": 3
   },
   "file_extension": ".py",
   "mimetype": "text/x-python",
   "name": "python",
   "nbconvert_exporter": "python",
   "pygments_lexer": "ipython3",
   "version": "3.9.7"
  }
 },
 "nbformat": 4,
 "nbformat_minor": 5
}
