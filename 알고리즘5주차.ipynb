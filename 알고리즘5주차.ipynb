{
 "cells": [
  {
   "cell_type": "markdown",
   "id": "871186fd-7a23-43e4-9b95-21285ccfcd7d",
   "metadata": {},
   "source": [
    "Queue ADT\n",
    "\n",
    "Queue()\n",
    "isEmpty()\n",
    "enqueue(x)\n",
    "dequeue()\n",
    "clear()\n",
    "size()"
   ]
  },
  {
   "cell_type": "code",
   "execution_count": 106,
   "id": "a726c539-f238-4d8f-8e24-d376603a2529",
   "metadata": {},
   "outputs": [],
   "source": [
    "items = []\n",
    "class Queue:\n",
    "    def __init__(self):\n",
    "        self.items = []\n",
    "    def isEmpty():\n",
    "        return len(self.items) ==0\n",
    "\n",
    "    def enqueue(self,x):\n",
    "        self.items.append(x)\n",
    "\n",
    "    def dequeue(self):\n",
    "        if not isEmpty():\n",
    "            self.items.pop(0)\n",
    "\n",
    "    def clear(self):\n",
    "        self.items = []\n",
    "\n",
    "    def size(self):\n",
    "        return len(self.items)"
   ]
  },
  {
   "cell_type": "code",
   "execution_count": 115,
   "id": "d89a2305-a23c-4258-9177-22a3c607ddf6",
   "metadata": {},
   "outputs": [
    {
     "name": "stdout",
     "output_type": "stream",
     "text": [
      "i 0 - [0]\n",
      "i 1 - [0]\n",
      "i 2 - [0]\n",
      "i 3 - [0, 3]\n",
      "[0, 3]\n",
      "i 4 - [3]\n",
      "i 5 - [3]\n",
      "i 6 - [3, 6]\n",
      "i 7 - [3, 6]\n",
      "[3, 6]\n",
      "i 8 - [6]\n",
      "i 9 - [6, 9]\n",
      "i 10 - [6, 9]\n",
      "i 11 - [6, 9]\n",
      "i 12 - [6, 9, 12]\n",
      "i 13 - [6, 9, 12]\n",
      "i 14 - [6, 9, 12]\n",
      "i 15 - [6, 9, 12, 15]\n",
      "[6, 9, 12, 15]\n",
      "i 16 - [9, 12, 15]\n",
      "i 17 - [9, 12, 15]\n",
      "i 18 - [9, 12, 15, 18]\n",
      "i 19 - [9, 12, 15, 18]\n"
     ]
    }
   ],
   "source": [
    "v = Queue()\n",
    "for i in range(20):\n",
    "    if i % 3 == 0:\n",
    "        v.enqueue(i)\n",
    "    elif i % 4 == 0:\n",
    "        v.dequeue()\n",
    "    print(\"i\",i,\"-\",v.items)"
   ]
  },
  {
   "cell_type": "code",
   "execution_count": 97,
   "id": "a9e90fee-c090-46d0-8a80-a4bc6fb20b7e",
   "metadata": {},
   "outputs": [
    {
     "data": {
      "text/plain": [
       "[0, 3, 6, 9, 12, 15, 18]"
      ]
     },
     "execution_count": 97,
     "metadata": {},
     "output_type": "execute_result"
    }
   ],
   "source": [
    "v.items"
   ]
  },
  {
   "cell_type": "code",
   "execution_count": 114,
   "id": "5a0353f7-6978-4083-9fc3-171ddc6cbf9a",
   "metadata": {},
   "outputs": [
    {
     "name": "stdout",
     "output_type": "stream",
     "text": [
      "[9, 12, 15, 18]\n"
     ]
    }
   ],
   "source": [
    "items = []\n",
    "for i in range(20):\n",
    "    if i % 3 == 0:\n",
    "        enqueue(i)\n",
    "    elif i % 4 == 0:\n",
    "        dequeue()\n",
    "\n",
    "print(items)"
   ]
  },
  {
   "cell_type": "code",
   "execution_count": 4,
   "id": "834998ec-e7d3-4b30-a829-2ae61dd54b11",
   "metadata": {},
   "outputs": [
    {
     "name": "stdout",
     "output_type": "stream",
     "text": [
      "[3, 4, 5, 6, 7, 8, 9, 10]\n"
     ]
    }
   ],
   "source": [
    "for i in range(3):\n",
    "    dequeue()\n",
    "\n",
    "print(items)"
   ]
  },
  {
   "cell_type": "code",
   "execution_count": 122,
   "id": "4a5ca9f6-70ee-4b95-842f-1d08810966a8",
   "metadata": {},
   "outputs": [],
   "source": [
    "#p163 circular queue\n",
    "#p166 code\n",
    "\n",
    "MAX_QUEUE = 10\n",
    "class CircularQueue:\n",
    "    def __init__(self):\n",
    "        self.front = 0 #최근에 삭제된 자리(값이 0)\n",
    "        self.rear = 0  #최근에 추가된 자리(값이 최근 추가된 값)\n",
    "        self.items = [None] *MAX_QUEUE\n",
    "    \n",
    "    def isEmpty(self):\n",
    "        return self.front == self.rear\n",
    "    \n",
    "    def isFull(self):\n",
    "        return self.front == (self.rear +1) % MAX_QUEUE #\n",
    "    \n",
    "    def clear(self):\n",
    "        self.front = self.rear\n",
    "    \n",
    "    def enqueue(self, item):\n",
    "        if not self.isFull(): #계속 추가하다가 다 채워지면, 아래 코드 실행하지 않는다.\n",
    "            self.rear = (self.rear+1) % MAX_QUEUE #한칸 앞으로 가는 코드\n",
    "            self.items[self.rear] = item #한칸 앞으로 가진 rear위치에 item 값으로 바꾼다.\n",
    "            print(self.items)\n",
    "    def dequeue(self):\n",
    "        print(self.items)\n",
    "        if not self.isEmpty(): #계속 삭제하다가 다 사라지면, 아래 코드 실행하지 않는다.\n",
    "            self.front = (self.front+1) %MAX_QUEUE\n",
    "\n",
    "            return self.items[self.front]\n",
    "    \n",
    "    def peek(self):\n",
    "        if not self.isEmpty():\n",
    "            return self.items[(self.front+1)%MAX_QUEUE]\n",
    "    \n",
    "    def size(self):\n",
    "        return (self.rear - self.front +MAX_QUEUE) % MAX_QUEUE\n",
    "    \n",
    "    def display(self):\n",
    "        out = []\n",
    "        if self.front < self.rear:\n",
    "            out = self.items[self.front+1 : self.rear+1] #front는 빈칸 때문에 +1 , rear+!은 리스트 인덱스 때문에\n",
    "        else:\n",
    "            out = self.items[self.front+1:MAX_QUEUE]+self.items[0:self.rear+1] #front에 1을 더하는 것은 front는 방금삭제된 자리인 공백이기 때문, rear에 1을 더한것은 list의 인덱싱 특성때문에\n",
    "        print('f:%s,r=%d, ==> '%(self.front,self.rear),out)\n",
    "        "
   ]
  },
  {
   "cell_type": "code",
   "execution_count": 79,
   "id": "fec705b2-9557-4797-a774-da8f2ee323d2",
   "metadata": {},
   "outputs": [
    {
     "name": "stdout",
     "output_type": "stream",
     "text": [
      "--- 0\n",
      "[None, 0, None, None, None, None, None, None]\n",
      "1\n",
      "--- 1\n",
      "[None, 0, 1, None, None, None, None, None]\n",
      "2\n",
      "--- 2\n",
      "[None, 0, 1, 2, None, None, None, None]\n",
      "3\n",
      "--- 3\n",
      "[None, 0, 1, 2, 3, None, None, None]\n",
      "4\n",
      "--- 4\n",
      "[None, 0, 1, 2, 3, 4, None, None]\n",
      "5\n",
      "--- 5\n",
      "[None, 0, 1, 2, 3, 4, 5, None]\n",
      "6\n",
      "--- 6\n",
      "[None, 0, 1, 2, 3, 4, 5, 6]\n",
      "7\n",
      "--- 7\n",
      "7\n",
      "--- 8\n",
      "7\n",
      "--- 9\n",
      "7\n",
      "--- 10\n",
      "7\n",
      "--- 11\n",
      "7\n",
      "--- 12\n",
      "7\n",
      "--- 13\n",
      "7\n",
      "--- 14\n",
      "7\n"
     ]
    }
   ],
   "source": [
    "q = CircularQueue()\n",
    "for i in range(15):\n",
    "    print(\"---\",i)\n",
    "    q.enqueue(i)\n",
    "    print(q.size())\n"
   ]
  },
  {
   "cell_type": "code",
   "execution_count": 68,
   "id": "0f44e2b5-7059-4028-b67e-a922d88b947f",
   "metadata": {},
   "outputs": [
    {
     "data": {
      "text/plain": [
       "[None, 0, 1, 2, 3, 4, 5, 6, 7, 8]"
      ]
     },
     "execution_count": 68,
     "metadata": {},
     "output_type": "execute_result"
    }
   ],
   "source": [
    "q.items"
   ]
  },
  {
   "cell_type": "code",
   "execution_count": 69,
   "id": "4cf50ebf-c85b-44a0-8fcc-156bb6230760",
   "metadata": {},
   "outputs": [
    {
     "name": "stdout",
     "output_type": "stream",
     "text": [
      "f:0,r=9, ==>  [0, 1, 2, 3, 4, 5, 6, 7, 8]\n"
     ]
    }
   ],
   "source": [
    "q.display()"
   ]
  },
  {
   "cell_type": "code",
   "execution_count": 70,
   "id": "10b360cb-de10-4a6e-a061-76bcfac9fc3d",
   "metadata": {},
   "outputs": [
    {
     "name": "stdout",
     "output_type": "stream",
     "text": [
      "[None, 0, 1, 2, 3, 4, 5, 6, 7, 8]\n",
      "[None, 0, 1, 2, 3, 4, 5, 6, 7, 8]\n",
      "[None, 0, 1, 2, 3, 4, 5, 6, 7, 8]\n",
      "[None, 0, 1, 2, 3, 4, 5, 6, 7, 8]\n",
      "[None, 0, 1, 2, 3, 4, 5, 6, 7, 8]\n"
     ]
    }
   ],
   "source": [
    "for i in range(5): q.dequeue()"
   ]
  },
  {
   "cell_type": "code",
   "execution_count": 71,
   "id": "e43ac7dc-439e-47c9-a976-157daf2a0898",
   "metadata": {},
   "outputs": [
    {
     "name": "stdout",
     "output_type": "stream",
     "text": [
      "f:5,r=9, ==>  [5, 6, 7, 8]\n"
     ]
    }
   ],
   "source": [
    "q.display()"
   ]
  },
  {
   "cell_type": "code",
   "execution_count": 72,
   "id": "094e4f50-16ae-4a78-9010-b5e487df0226",
   "metadata": {},
   "outputs": [
    {
     "name": "stdout",
     "output_type": "stream",
     "text": [
      "[9, 0, 1, 2, 3, 4, 5, 6, 7, 8]\n",
      "f:5,r=0, ==>  [5, 6, 7, 8, 9]\n",
      "5\n",
      "[9, 10, 1, 2, 3, 4, 5, 6, 7, 8]\n",
      "f:5,r=1, ==>  [5, 6, 7, 8, 9, 10]\n",
      "6\n",
      "[9, 10, 11, 2, 3, 4, 5, 6, 7, 8]\n",
      "f:5,r=2, ==>  [5, 6, 7, 8, 9, 10, 11]\n",
      "7\n",
      "[9, 10, 11, 12, 3, 4, 5, 6, 7, 8]\n",
      "f:5,r=3, ==>  [5, 6, 7, 8, 9, 10, 11, 12]\n",
      "8\n",
      "[9, 10, 11, 12, 13, 4, 5, 6, 7, 8]\n",
      "f:5,r=4, ==>  [5, 6, 7, 8, 9, 10, 11, 12, 13]\n",
      "9\n"
     ]
    }
   ],
   "source": [
    "for i in range(9,14):\n",
    "    q.enqueue(i)\n",
    "    q.display()\n",
    "    print(q.size())"
   ]
  },
  {
   "cell_type": "code",
   "execution_count": 73,
   "id": "8f444d5b-f2ba-47b0-a75d-08680ae166f2",
   "metadata": {},
   "outputs": [
    {
     "data": {
      "text/plain": [
       "True"
      ]
     },
     "execution_count": 73,
     "metadata": {},
     "output_type": "execute_result"
    }
   ],
   "source": [
    "q.isFull()"
   ]
  },
  {
   "cell_type": "code",
   "execution_count": 74,
   "id": "c76e3009-840a-4d38-9d4d-03f29e068b00",
   "metadata": {},
   "outputs": [
    {
     "data": {
      "text/plain": [
       "9"
      ]
     },
     "execution_count": 74,
     "metadata": {},
     "output_type": "execute_result"
    }
   ],
   "source": [
    "q.size()"
   ]
  },
  {
   "cell_type": "code",
   "execution_count": null,
   "id": "c7d73611-bb8d-47a7-849d-f93c03c569b0",
   "metadata": {},
   "outputs": [],
   "source": [
    "v = "
   ]
  },
  {
   "cell_type": "code",
   "execution_count": 31,
   "id": "73893be8-e977-4a82-be37-6401edb92054",
   "metadata": {},
   "outputs": [],
   "source": [
    "#p169 BFS 너비 우선 알고리즘\n",
    "\n",
    "def BFS():\n",
    "    q = CircularQueue()\n",
    "    q.enqueue((0,1))\n",
    "    print('BFS : ')\n",
    "    while not q.isEmpty():\n",
    "        here = q.dequeue()\n",
    "        print(here,end='')\n",
    "        x,y = here\n",
    "        if(map[y][x] == 'x'): return True\n",
    "        else:\n",
    "            map[y][x] = '.'\n",
    "            if isValidPos(x,y-1): q.enqueue((x,y-1))#상\n",
    "            if isValidPos(x,y+1): q.enqueue((x,y+1))#하\n",
    "            if isValidPos(x-1,y): q.enqueue((x-1,y))#좌\n",
    "            if isValidPos(x+1,y): q.enqueue((x+1,y))#우\n",
    "    return False\n"
   ]
  },
  {
   "cell_type": "code",
   "execution_count": 13,
   "id": "41ee30cf-bcde-4eef-9ade-b74d3f05bb9c",
   "metadata": {},
   "outputs": [],
   "source": [
    "#p149 isValidPos(x,y)\n",
    "map = [['1','1','1','1','1','1'],\n",
    "      ['e','0','1','0','0','1'],\n",
    "      ['1','0','0','0','1','1'],\n",
    "      ['1','0','1','0','1','1'],\n",
    "      ['1','0','1','0','0','x'],\n",
    "      ['1','1','1','1','1','1']]\n",
    "\n",
    "MAZE_SIZE = 6\n",
    "def isValidPos(x,y):\n",
    "    if x<0 or y<0 or x>=MAZE_SIZE or y >= MAZE_SIZE:\n",
    "        return False\n",
    "    else: \n",
    "        return map[y][x] == '0' or map [y][x] == 'x'"
   ]
  },
  {
   "cell_type": "code",
   "execution_count": 33,
   "id": "1519a112-acfd-4009-8643-5a1fa7ad7de2",
   "metadata": {},
   "outputs": [
    {
     "name": "stdout",
     "output_type": "stream",
     "text": [
      "BFS : \n",
      "(0, 1)(1, 1)(1, 2)(1, 3)(2, 2)(1, 4)(3, 2)(3, 1)(3, 3)(4, 1)(3, 4)(4, 4)(5, 4)"
     ]
    }
   ],
   "source": [
    "result = BFS()"
   ]
  },
  {
   "cell_type": "code",
   "execution_count": 11,
   "id": "a33787f5-1baa-4a2e-84ed-76134e57033a",
   "metadata": {},
   "outputs": [],
   "source": [
    "def BFS1() :\n",
    "    que = CircularQueue()\n",
    "    que.enqueue((0,1))\n",
    "    print('BFS: ')\n",
    "    \n",
    "    while not que.isEmpty():\n",
    "        here = que.dequeue()\n",
    "        print(here, end='->')\n",
    "        x,y = here\n",
    "        if(map[y][x] == 'x'): return True\n",
    "    else:\n",
    "        map[y][x] = '.'\n",
    "        if isValidPos(x, y-1): que.enqueue((x,y-1))\n",
    "        if isValidPos(x, y+1): que.enqueue((x,y+1))\n",
    "        if isValidPos(x-1, y): que.enqueue((x-1,y))\n",
    "        if isValidPos(x+1, y): que.enqueue((x+1,y))\n",
    "    return False"
   ]
  },
  {
   "cell_type": "code",
   "execution_count": 14,
   "id": "e9a6cf4d-1907-4a78-9613-9dd1e8af8958",
   "metadata": {},
   "outputs": [
    {
     "name": "stdout",
     "output_type": "stream",
     "text": [
      "BFS: \n",
      "(0, 1)->"
     ]
    }
   ],
   "source": [
    "result1 = BFS1()"
   ]
  },
  {
   "cell_type": "code",
   "execution_count": 34,
   "id": "2a6f7487-d545-4bc4-8742-b5524da2b18f",
   "metadata": {},
   "outputs": [],
   "source": [
    "import queue"
   ]
  },
  {
   "cell_type": "code",
   "execution_count": 39,
   "id": "389c10d1-9ec0-453a-af57-35a127aaf74c",
   "metadata": {},
   "outputs": [],
   "source": [
    "Q = queue.Queue(maxsize= 20)"
   ]
  },
  {
   "cell_type": "code",
   "execution_count": 40,
   "id": "bd5418e1-cecf-4e36-aef6-d93416b3b894",
   "metadata": {},
   "outputs": [
    {
     "name": "stdout",
     "output_type": "stream",
     "text": [
      "<queue.Queue object at 0x105403460>\n"
     ]
    }
   ],
   "source": [
    "for i in range(1,10):\n",
    "    Q.put(i)\n",
    "print(Q)"
   ]
  },
  {
   "cell_type": "code",
   "execution_count": 41,
   "id": "f0751abc-93c9-4b50-a478-175176a00170",
   "metadata": {},
   "outputs": [
    {
     "name": "stdout",
     "output_type": "stream",
     "text": [
      "1\n",
      "2\n",
      "3\n",
      "4\n",
      "5\n",
      "6\n",
      "7\n",
      "8\n",
      "9\n",
      "\n"
     ]
    }
   ],
   "source": [
    "for _ in range(1,10):\n",
    "    print(Q.get())\n",
    "print()"
   ]
  },
  {
   "cell_type": "code",
   "execution_count": 42,
   "id": "0ee98889-5f7e-4847-a482-559ef9ceccbc",
   "metadata": {},
   "outputs": [],
   "source": [
    "#Q.get()를 실행하기 전에 풀인지 empty인지 반드시 확인해야한다. 안그러면 overflow가 일어난다."
   ]
  },
  {
   "cell_type": "markdown",
   "id": "49472993-ebb6-451f-a94d-2da0079acc3c",
   "metadata": {},
   "source": [
    "#deque p173\n",
    "\n",
    "ADT of Deque\n",
    "\n",
    "Deque()\n",
    "isEmpty()\n",
    "\n",
    "addFront(x)\n",
    "deleteFront()\n",
    "getFront()\n",
    "\n",
    "addRear(x)\n",
    "deleteRear()\n",
    "getRear()\n",
    "\n",
    "isFull()\n",
    "size()\n",
    "clear()"
   ]
  },
  {
   "cell_type": "code",
   "execution_count": 201,
   "id": "06f704e9-1286-4c9c-a70a-56614d7b2f1f",
   "metadata": {},
   "outputs": [],
   "source": [
    "class Stack:\n",
    "    def __init__(self):\n",
    "        self.top = []\n",
    "    def isEmpty(self):\n",
    "        return len(self.top) ==0\n",
    "    def size(self):\n",
    "        return len(self.top)\n",
    "    def clear(self): self.top = []\n",
    "    def push(self,item):\n",
    "        self.top.append(item)\n",
    "    def pop(self):\n",
    "        if not self.isEmpty():\n",
    "            return self.top.pop(-1)\n",
    "    def peek(self):\n",
    "        if not self.isEmpty():\n",
    "            return self.top[-1]\n",
    "    def __str__(self):\n",
    "        return str(self.top)\n",
    "    def display(self):\n",
    "        for e in range(len(self.top)):\n",
    "            print(self.top[e],end=',')"
   ]
  },
  {
   "cell_type": "code",
   "execution_count": 202,
   "id": "af3c37dd-f715-4488-9cc8-67c8c7df294c",
   "metadata": {},
   "outputs": [],
   "source": [
    "class CircularDeque(CircularQueue):\n",
    "    def __init__(self):\n",
    "        super().__init__()\n",
    "    \n",
    "    def addRear(self,item): self.enqueue(item) #시계방향\n",
    "    \n",
    "    def deleteRear(self):\n",
    "        if not self. isEmpty():\n",
    "            item = self.items[self.rear]\n",
    "            self.rear -= 1\n",
    "            #self.rear = (self.rear-1+MAX_QUEUE) % MAX_QUEUE\n",
    "            if self.rear < 0: self.rear = MAX_QUEUE -1\n",
    "            \n",
    "            return item\n",
    "        \n",
    "    def getRear(self):\n",
    "        return self.items[self.rear]\n",
    "    \n",
    "    def addFront(self,item):\n",
    "        if not self.isFull():\n",
    "            self.items[self.front] = item\n",
    "            self.front -= 1\n",
    "            #self.front = (self.front-1+MAX_QUEUE) % MAX_QUEUE\n",
    "            if self.front< 0 : self.front = MAX_QUEUE -1\n",
    "        \n",
    "    def deleteFront(self): return self.dequeue() #시계방향\n",
    "    def getFront(self): return self.peek() #시계방향\n",
    "    \n",
    "    def reserve_deq(self,deq):\n",
    "        if not self.isFull():\n",
    "            deq.rear = (deq.rear+1) % MAX_QUEUE\n",
    "            deq.items[deq.rear] = self.deleteRear()\n",
    "\n",
    "            print(deq.items)\n",
    "    \n",
    "    def reserve_que(self,que):\n",
    "        if not self.isFull():\n",
    "            que.rear = (que.rear+1) % MAX_QUEUE\n",
    "            que.items[que.rear] = self.deleteRear()\n",
    "            \n",
    "    def reserve_stack(self,stk):\n",
    "        if not self.isFull():\n",
    "            stk.push(self.deleteRear())"
   ]
  },
  {
   "cell_type": "code",
   "execution_count": 204,
   "id": "ab8afec8-24ba-4d9a-a0c6-8fdb7e8dcc75",
   "metadata": {},
   "outputs": [
    {
     "name": "stdout",
     "output_type": "stream",
     "text": [
      "[None, 1, None, None, None, None, None, None, None, None]\n",
      "[None, 1, 2, None, None, None, None, None, None, None]\n",
      "[None, 1, 2, 3, None, None, None, None, None, None]\n",
      "[None, 1, 2, 3, 4, None, None, None, None, None]\n",
      "[None, 1, 2, 3, 4, 5, None, None, None, None]\n",
      "[None, 1, 2, 3, 4, 5, 6, None, None, None]\n",
      "[None, 1, 2, 3, 4, 5, 6, 7, None, None]\n",
      "[None, 1, 2, 3, 4, 5, 6, 7, 8, None]\n"
     ]
    },
    {
     "data": {
      "text/plain": [
       "[8, 7, 6, 5, 4, 3, 2, 1]"
      ]
     },
     "execution_count": 204,
     "metadata": {},
     "output_type": "execute_result"
    }
   ],
   "source": [
    "dq = CircularDeque()\n",
    "dd = CircularQueue()\n",
    "ds = Stack()\n",
    "for i in range(1,9):\n",
    "    dq.addRear(i)\n",
    "for _ in range(8):\n",
    "    dq.reserve_stack(ds)\n",
    "ds.top"
   ]
  },
  {
   "cell_type": "code",
   "execution_count": 120,
   "id": "195dd81c-22cb-441d-8da9-75d2d402fb36",
   "metadata": {},
   "outputs": [
    {
     "name": "stdout",
     "output_type": "stream",
     "text": [
      "[4, 8, None, None, None, None, None, None]\n",
      "[4, 8, 9, None, None, None, None, None]\n",
      "[4, 8, 9, None, None, None, None, 5]\n",
      "[4, 8, 7, None, None, None, None, 5]\n",
      "[4, 8, 7, 6, None, None, None, 5]\n",
      "[4, 8, 7, 6, None, None, None, 5]\n",
      "[4, 8, 7, 6, None, None, None, 5]\n",
      "f:1,r=3, ==>  [7, 6]\n"
     ]
    }
   ],
   "source": [
    "d = CircularDeque()\n",
    "d.addFront(4)\n",
    "d.addRear(8)\n",
    "d.addRear(9)\n",
    "d.addFront(5)\n",
    "d.getRear()\n",
    "d.deleteFront()\n",
    "d.deleteRear()\n",
    "d.addRear(7)\n",
    "d.getFront()\n",
    "d.getRear()\n",
    "d.addRear(6)\n",
    "d.deleteFront()\n",
    "d.deleteFront()\n",
    "d.display()"
   ]
  },
  {
   "cell_type": "code",
   "execution_count": 48,
   "id": "09cc1ca4-9a85-49a3-8bd6-f3120c01c812",
   "metadata": {},
   "outputs": [
    {
     "name": "stdout",
     "output_type": "stream",
     "text": [
      "f:3,r=2, ==>  [13, 12, 11, 10, 9, 3, 1, 0, 2]\n"
     ]
    }
   ],
   "source": [
    "for i in range(9,14): dq.addFront(i)\n",
    "dq.display()"
   ]
  },
  {
   "cell_type": "code",
   "execution_count": 50,
   "id": "e551843c-5119-4f7e-b690-ad55ed71c599",
   "metadata": {},
   "outputs": [],
   "source": [
    "# p180\n",
    "\n",
    "class PriorityQueue:\n",
    "    def __init__(self):\n",
    "        self.items = []\n",
    "        \n",
    "    def isEmpty(self):\n",
    "        return len(self.items)==0\n",
    "    def size(self): return len(self.items)\n",
    "    def clear(self): self.items = []\n",
    "    def enqueue(self, item):\n",
    "        self.items.append(item)\n",
    "    \n",
    "    def findMaxIndex(self):\n",
    "        if self.isEmpty(): return None\n",
    "        else:\n",
    "            highest = 0\n",
    "            for i in range(1, self.size()):\n",
    "                if self.items[i] > self.items[highest]:\n",
    "                    highest = i\n",
    "            return highest\n",
    "    \n",
    "    def dequeue(self):\n",
    "        highest = self.findMaxIndex()\n",
    "        if highest is not None:\n",
    "            return self.items.pop(highest)\n",
    "        \n",
    "    def peek(self):\n",
    "        highest = self.findMaxIndex()\n",
    "        if highest is not None:\n",
    "            return self.items[highest]\n",
    "        \n",
    "            "
   ]
  },
  {
   "cell_type": "code",
   "execution_count": 52,
   "id": "66cbfb24-2b6d-4194-9c73-dbfd149c4521",
   "metadata": {},
   "outputs": [],
   "source": [
    "q = PriorityQueue()\n",
    "q.enqueue(10)\n",
    "q.enqueue(20)\n",
    "q.enqueue(100)\n",
    "q.enqueue(-1)"
   ]
  },
  {
   "cell_type": "code",
   "execution_count": 53,
   "id": "0f54e8e0-c467-44cd-a238-89f28cfde784",
   "metadata": {},
   "outputs": [
    {
     "name": "stdout",
     "output_type": "stream",
     "text": [
      "100\n",
      "20\n",
      "10\n",
      "-1\n"
     ]
    }
   ],
   "source": [
    "for i in range(4):\n",
    "    print(q.dequeue())"
   ]
  },
  {
   "cell_type": "code",
   "execution_count": 104,
   "id": "bd56bc38-cf53-4f09-9f55-2b5a7fc8271e",
   "metadata": {},
   "outputs": [
    {
     "name": "stdout",
     "output_type": "stream",
     "text": [
      "['jingo', 'lf', 'log', 'non', 'lj', 'goo', 'hmg', 'joe', 'knell', 'minim', '2020184042', '김윤수', 'mog', 'jim', 'km', 'lining', 'mingle', 'ell', 'folk', 'melon', 'ln', 'link', 'knife', 'fennel', 'loon', 'john', 'ff', 'felloe', 'liking', 'lino', 'om', 'keg', 'joke', 'no', 'hog', 'jell', 'fino', 'elfin', 'gin', 'lone', 'oh', 'gong', 'ogee', 'oi', 'jig', 'filling', 'g', 'ge', 'mn', 'femme', 'fen', 'kj', 'gene', 'online', 'mg', 'goggle', 'emf', 'loll', 'meek', 'l', 'gem', 'filing', 'infill', 'hello', 'ink', 'monk', 'kg', 'ghillie', 'elf', 'gm', 'leo', 'genie', 'hoe', 'he', 'eke', 'moll', 'gnomon', 'fm', 'lei', 'million', 'going', 'feminine', 'infilling', 'liege', 'mo', 'o', 'goon', 'hg', 'legging', 'holm', 'enjoin', 'e', 'mini', 'logging', 'kin', 'hen', 'logo', 'flee', 'inf', 'fog', 'knee', 'limn', 'jingo', 'lf', 'log', 'non', 'lj', 'goo', 'hmg', 'joe', 'knell', 'minim', 'menfolk', 'feel', 'mlle', 'ken', 'home', 'if', 'linen', 'ne', 'lo', 'knoll', 'mime', 'ooh', 'nomen', 'hill', 'kohl', 'efl', 'offline', 'lee', 'king', 'legion', 'one', 'hike', 'genome', 'neigh', 'lifelong', 'him', 'gigolo', 'fo', 'fe', 'ego']\n",
      "\n",
      "['2020184042', 'e', 'efl', 'ego', 'eke', 'elf', 'elfin', 'ell', 'emf', 'enjoin', 'fe', 'feel', 'felloe', 'feminine', 'femme', 'fen', 'fennel', 'ff', 'filing', 'filling', 'fino', 'flee', 'fm', 'fo', 'fog', 'folk', 'g', 'ge', 'gem', 'gene', 'genie', 'genome', 'ghillie', 'gigolo', 'gin', 'gm', 'gnomon', 'goggle', 'going', 'gong', 'goo', 'goo', 'goon', 'he', 'hello', 'hen', 'hg', 'hike', 'hill', 'him', 'hmg', 'hmg', 'hoe', 'hog', 'holm', 'home', 'if', 'inf', 'infill', 'infilling', 'ink', 'jell', 'jig', 'jim', 'jingo', 'jingo', 'joe', 'joe', 'john', 'joke', 'keg', 'ken', 'kg', 'kin', 'king', 'kj', 'km', 'knee', 'knell', 'knell', 'knife', 'knoll', 'kohl', 'l', 'lee', 'legging', 'legion', 'lei', 'leo', 'lf', 'lf', 'liege', 'lifelong', 'liking', 'limn', 'linen', 'lining', 'link', 'lino', 'lj', 'lj', 'ln', 'lo', 'log', 'log', 'logging', 'logo', 'loll', 'lone', 'loon', 'meek', 'melon', 'menfolk', 'mg', 'million', 'mime', 'mingle', 'mini', 'minim', 'minim', 'mlle', 'mn', 'mo', 'mog', 'moll', 'monk', 'ne', 'neigh', 'no', 'nomen', 'non', 'non', 'o', 'offline', 'ogee', 'oh', 'oi', 'om', 'one', 'online', 'ooh', '김윤수']\n"
     ]
    }
   ],
   "source": [
    "words = [\n",
    "  'jingo', 'lf', 'log', 'non', 'lj', 'goo', 'hmg', 'joe', 'knell', 'minim', \n",
    "  '2020184042', '김윤수',\n",
    "  'mog', 'jim', 'km', 'lining', 'mingle', 'ell', 'folk', 'melon', 'ln', 'link', \n",
    "  'knife', 'fennel', 'loon', 'john', 'ff', 'felloe', 'liking', 'lino', 'om', 'keg', \n",
    "  'joke', 'no', 'hog', 'jell', 'fino', 'elfin', 'gin', 'lone', 'oh', 'gong', \n",
    "  'ogee', 'oi', 'jig', 'filling', 'g', 'ge', 'mn', 'femme', 'fen', 'kj', \n",
    "  'gene', 'online', 'mg', 'goggle', 'emf', 'loll', 'meek', 'l', 'gem', 'filing', \n",
    "  'infill', 'hello', 'ink', 'monk', 'kg', 'ghillie', 'elf', 'gm', 'leo', 'genie', \n",
    "  'hoe', 'he', 'eke', 'moll', 'gnomon', 'fm', 'lei', 'million', 'going', 'feminine', \n",
    "  'infilling', 'liege', 'mo', 'o', 'goon', 'hg', 'legging', 'holm', 'enjoin', 'e', \n",
    "  'mini', 'logging', 'kin', 'hen', 'logo', 'flee', 'inf', 'fog', 'knee', 'limn', \n",
    "  'jingo', 'lf', 'log', 'non', 'lj', 'goo', 'hmg', 'joe', 'knell', 'minim', \n",
    "  'menfolk', 'feel', 'mlle', 'ken', 'home', 'if', 'linen', 'ne', 'lo', 'knoll', \n",
    "  'mime', 'ooh', 'nomen', 'hill', 'kohl', 'efl', 'offline', 'lee', 'king', 'legion', \n",
    "  'one', 'hike', 'genome', 'neigh', 'lifelong', 'him', 'gigolo', 'fo', 'fe', 'ego', \n",
    "]\n",
    "\n",
    "def mergeSort(start=0, end=None): #end -Inclusive\n",
    "    if end ==None: end = len(words) -1 #end를 지정하지 않으면, end를 len(words)-1로 할당\n",
    "    if end == start : return\n",
    "    mid=(start+end)//2 #mid is included in left part\n",
    "    mergeSort(start,mid) #왼쪽\n",
    "    mergeSort(mid+1, end) #오른쪽\n",
    "    marge(start,mid,end)\n",
    "\n",
    "def marge(start, mid, end) : #mid is in left, end =inclusive in right\n",
    "    #공간복잡도 = O(n)\n",
    "    merged = []\n",
    "    l,r=start,mid+1 #\n",
    "    while l<=mid and r<=end: #\n",
    "        if words[l]<=words[r]:\n",
    "            merged+=[words[l]]\n",
    "            #merged.append(words[l])\n",
    "            l+=1\n",
    "        else: \n",
    "            merged += [words[r]]\n",
    "            r+=1\n",
    "    \n",
    "    if l<=mid: # 왼쪽 팀에 선수가 남아있다면\n",
    "        merged += words[l:mid+1] #어디에 +1을 해야하는지\n",
    "    elif r<= end: # 오른쪽 팀에 선수가 남아있다면\n",
    "        merged += words[r:end+1]\n",
    "    \n",
    "    #merged가 완성되었음 => words에 채워넣어야 한다.\n",
    "    words[start:end+1] = merged \n",
    "\n",
    "\n",
    "print(words)\n",
    "\n",
    "print()\n",
    "mergeSort()\n",
    "print(words)\n"
   ]
  },
  {
   "cell_type": "code",
   "execution_count": null,
   "id": "822878e2-076c-464e-9de9-e402c1ded079",
   "metadata": {},
   "outputs": [],
   "source": []
  }
 ],
 "metadata": {
  "kernelspec": {
   "display_name": "Python 3 (ipykernel)",
   "language": "python",
   "name": "python3"
  },
  "language_info": {
   "codemirror_mode": {
    "name": "ipython",
    "version": 3
   },
   "file_extension": ".py",
   "mimetype": "text/x-python",
   "name": "python",
   "nbconvert_exporter": "python",
   "pygments_lexer": "ipython3",
   "version": "3.9.7"
  }
 },
 "nbformat": 4,
 "nbformat_minor": 5
}
